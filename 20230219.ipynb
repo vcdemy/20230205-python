{
  "nbformat": 4,
  "nbformat_minor": 0,
  "metadata": {
    "colab": {
      "provenance": [],
      "authorship_tag": "ABX9TyMGgBbfcXQkibuuQT6V7WPx",
      "include_colab_link": true
    },
    "kernelspec": {
      "name": "python3",
      "display_name": "Python 3"
    },
    "language_info": {
      "name": "python"
    }
  },
  "cells": [
    {
      "cell_type": "markdown",
      "metadata": {
        "id": "view-in-github",
        "colab_type": "text"
      },
      "source": [
        "<a href=\"https://colab.research.google.com/github/vcdemy/20230205-python/blob/main/20230219.ipynb\" target=\"_parent\"><img src=\"https://colab.research.google.com/assets/colab-badge.svg\" alt=\"Open In Colab\"/></a>"
      ]
    },
    {
      "cell_type": "markdown",
      "source": [
        "# 20230219 筆記"
      ],
      "metadata": {
        "id": "4k7YiiVSUNdT"
      }
    },
    {
      "cell_type": "markdown",
      "source": [
        "## 回答問題"
      ],
      "metadata": {
        "id": "fAQXEHpcUmOn"
      }
    },
    {
      "cell_type": "markdown",
      "source": [
        "### Q: \"%\" 怎麼使用？\n",
        "\n",
        "參考：https://python.microbit.org/v/3\n",
        "\n",
        "嘗試執行底下程式，按按鈕A觀察結果！\n",
        "\n",
        "```python\n",
        "# Imports go at the top\n",
        "from microbit import *\n",
        "\n",
        "display.clear()\n",
        "\n",
        "x = 0\n",
        "y = 0\n",
        "display.set_pixel(x,y,9)\n",
        "\n",
        "while True:\n",
        "    if button_a.was_pressed():\n",
        "        x = x + 1\n",
        "        display.clear()\n",
        "        display.set_pixel(x%5,y,9)\n",
        "```"
      ],
      "metadata": {
        "id": "laaMUqb7UXBA"
      }
    },
    {
      "cell_type": "markdown",
      "source": [
        "## 複習一下 requests 的使用\n",
        "\n",
        "從政府資料開放平台抓資料：https://data.gov.tw/"
      ],
      "metadata": {
        "id": "L_d49VF0U9eD"
      }
    },
    {
      "cell_type": "markdown",
      "source": [
        "### 練習\n",
        "\n",
        "抓取`年度國內主要金融指標`下來做分析:\n",
        "\n",
        "https://apiservice.mol.gov.tw/OdService/download/A17000000J-030244-dpp"
      ],
      "metadata": {
        "id": "R8ePOU2vW2Ij"
      }
    },
    {
      "cell_type": "code",
      "execution_count": 3,
      "metadata": {
        "id": "TU0WgUzOPbSG"
      },
      "outputs": [],
      "source": [
        "import requests"
      ]
    },
    {
      "cell_type": "code",
      "source": [
        "url = \"https://apiservice.mol.gov.tw/OdService/download/A17000000J-030244-dpp\""
      ],
      "metadata": {
        "id": "t1lMNwHaPd-e"
      },
      "execution_count": 4,
      "outputs": []
    },
    {
      "cell_type": "code",
      "source": [
        "data = requests.get(url).json()"
      ],
      "metadata": {
        "id": "udd8ZIXyPk66"
      },
      "execution_count": 5,
      "outputs": []
    },
    {
      "cell_type": "code",
      "source": [
        "# 列出data裡面的東西\n",
        "data"
      ],
      "metadata": {
        "id": "j58ppEH5XVqC"
      },
      "execution_count": null,
      "outputs": []
    },
    {
      "cell_type": "code",
      "source": [
        "# 檢視data的資料型態\n",
        "type(data)"
      ],
      "metadata": {
        "colab": {
          "base_uri": "https://localhost:8080/"
        },
        "id": "kpOnUyWUZUwr",
        "outputId": "8dad0aa3-00e9-42ae-ae9c-fa50c9882d16"
      },
      "execution_count": 7,
      "outputs": [
        {
          "output_type": "execute_result",
          "data": {
            "text/plain": [
              "list"
            ]
          },
          "metadata": {},
          "execution_count": 7
        }
      ]
    },
    {
      "cell_type": "code",
      "source": [
        "# 檢視一下 data 裡面有幾筆資料\n",
        "len(data)"
      ],
      "metadata": {
        "colab": {
          "base_uri": "https://localhost:8080/"
        },
        "id": "d-v2aCjpXZiL",
        "outputId": "4cfcd520-6a06-4567-8f88-6b5f9198064a"
      },
      "execution_count": 8,
      "outputs": [
        {
          "output_type": "execute_result",
          "data": {
            "text/plain": [
              "29"
            ]
          },
          "metadata": {},
          "execution_count": 8
        }
      ]
    },
    {
      "cell_type": "code",
      "source": [
        "# 檢視一下 data 的第一筆資料\n",
        "data[0]"
      ],
      "metadata": {
        "colab": {
          "base_uri": "https://localhost:8080/"
        },
        "id": "RYkMoGhoZgzO",
        "outputId": "3b9cb041-0627-4634-8dca-02685fa4544f"
      },
      "execution_count": 9,
      "outputs": [
        {
          "output_type": "execute_result",
          "data": {
            "text/plain": [
              "{'年度': '1994',\n",
              " '貨幣供給額期底年增率-M1B': '12.23',\n",
              " '貨幣供給額期底年增率-M2': '15.07',\n",
              " '金價（美元／英兩）-國際現貨黃金價格': '382.50',\n",
              " '金價（美元／英兩）-台北': '385.07',\n",
              " '匯率（月底）-（新台幣／美元）': '26.240',\n",
              " '外匯存底（億美元）': '924.54',\n",
              " '利率（年息%）-金融業拆款': '6.130',\n",
              " '利率（年息%）-商業本票31-90天期': '6.77',\n",
              " '利率（年息%）-中央銀行重貼現率': '5.500',\n",
              " '利率（年息%）-債券市場（十年期中央政府公債）': '7.24',\n",
              " '證券（集中市場）-發行量加權股價指數（月底）': '7124.66',\n",
              " '證券（集中市場）-成交值（億元）': '194766'}"
            ]
          },
          "metadata": {},
          "execution_count": 9
        }
      ]
    },
    {
      "cell_type": "markdown",
      "source": [
        "### 列出各年度的M2貨幣供給額"
      ],
      "metadata": {
        "id": "XKS7PDAHdrKc"
      }
    },
    {
      "cell_type": "markdown",
      "source": [
        "#### 方法一"
      ],
      "metadata": {
        "id": "fZV5YPv4dxVH"
      }
    },
    {
      "cell_type": "code",
      "source": [
        "for i in data:\n",
        "  print(i['年度'], \"==>\", i['貨幣供給額期底年增率-M2'])"
      ],
      "metadata": {
        "colab": {
          "base_uri": "https://localhost:8080/"
        },
        "id": "XmjUorR7Zlib",
        "outputId": "0636da66-e6e3-4060-d607-d46ea2e980ef"
      },
      "execution_count": 10,
      "outputs": [
        {
          "output_type": "stream",
          "name": "stdout",
          "text": [
            "1994 ==> 15.07\n",
            "1995 ==> 9.42\n",
            "1996 ==> 9.13\n",
            "1997 ==> 8.02\n",
            "1998 ==> 8.56\n",
            "1999 ==> 8.29\n",
            "2000 ==> 6.50\n",
            "2001 ==> 4.31\n",
            "2002 ==> 2.53\n",
            "2003 ==> 5.68\n",
            "2004 ==> 7.19\n",
            "2005 ==> 6.63\n",
            "2006 ==> 5.15\n",
            "2007 ==> 0.84\n",
            "2008 ==> 7.21\n",
            "2009 ==> 5.78\n",
            "2010 ==> 5.44\n",
            "2011 ==> 4.84\n",
            "2012 ==> 3.46\n",
            "2013 ==> 5.79\n",
            "2014 ==> 6.13\n",
            "2015 ==> 5.80\n",
            "2016 ==> 3.55\n",
            "2017 ==> 3.56\n",
            "2018 ==> 2.65\n",
            "2019 ==> 4.52\n",
            "2020 ==> 9.36\n",
            "2021 ==> 7.35\n",
            "2022 ==> 6.74\n"
          ]
        }
      ]
    },
    {
      "cell_type": "markdown",
      "source": [
        "#### 方法二"
      ],
      "metadata": {
        "id": "zNhXBX78dzXM"
      }
    },
    {
      "cell_type": "code",
      "source": [
        "for i in range(len(data)):\n",
        "  print(i)"
      ],
      "metadata": {
        "colab": {
          "base_uri": "https://localhost:8080/"
        },
        "id": "U_RL6lL8Z_Nk",
        "outputId": "3684fc04-069c-4c54-f837-36979151c278"
      },
      "execution_count": 13,
      "outputs": [
        {
          "output_type": "stream",
          "name": "stdout",
          "text": [
            "0\n",
            "1\n",
            "2\n",
            "3\n",
            "4\n",
            "5\n",
            "6\n",
            "7\n",
            "8\n",
            "9\n",
            "10\n",
            "11\n",
            "12\n",
            "13\n",
            "14\n",
            "15\n",
            "16\n",
            "17\n",
            "18\n",
            "19\n",
            "20\n",
            "21\n",
            "22\n",
            "23\n",
            "24\n",
            "25\n",
            "26\n",
            "27\n",
            "28\n"
          ]
        }
      ]
    },
    {
      "cell_type": "code",
      "source": [
        "for i in range(len(data)):\n",
        "  print(data[i]['年度'], \"==>\", data[i]['貨幣供給額期底年增率-M2'])"
      ],
      "metadata": {
        "colab": {
          "base_uri": "https://localhost:8080/"
        },
        "id": "lNKpEdb1d2A6",
        "outputId": "2eaecc83-ba27-4838-b664-841fe33f10ac"
      },
      "execution_count": 12,
      "outputs": [
        {
          "output_type": "stream",
          "name": "stdout",
          "text": [
            "1994 ==> 15.07\n",
            "1995 ==> 9.42\n",
            "1996 ==> 9.13\n",
            "1997 ==> 8.02\n",
            "1998 ==> 8.56\n",
            "1999 ==> 8.29\n",
            "2000 ==> 6.50\n",
            "2001 ==> 4.31\n",
            "2002 ==> 2.53\n",
            "2003 ==> 5.68\n",
            "2004 ==> 7.19\n",
            "2005 ==> 6.63\n",
            "2006 ==> 5.15\n",
            "2007 ==> 0.84\n",
            "2008 ==> 7.21\n",
            "2009 ==> 5.78\n",
            "2010 ==> 5.44\n",
            "2011 ==> 4.84\n",
            "2012 ==> 3.46\n",
            "2013 ==> 5.79\n",
            "2014 ==> 6.13\n",
            "2015 ==> 5.80\n",
            "2016 ==> 3.55\n",
            "2017 ==> 3.56\n",
            "2018 ==> 2.65\n",
            "2019 ==> 4.52\n",
            "2020 ==> 9.36\n",
            "2021 ==> 7.35\n",
            "2022 ==> 6.74\n"
          ]
        }
      ]
    }
  ]
}