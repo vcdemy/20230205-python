{
  "nbformat": 4,
  "nbformat_minor": 0,
  "metadata": {
    "colab": {
      "provenance": [],
      "authorship_tag": "ABX9TyNnVJriaBlvTn6pMatT6kEg",
      "include_colab_link": true
    },
    "kernelspec": {
      "name": "python3",
      "display_name": "Python 3"
    },
    "language_info": {
      "name": "python"
    }
  },
  "cells": [
    {
      "cell_type": "markdown",
      "metadata": {
        "id": "view-in-github",
        "colab_type": "text"
      },
      "source": [
        "<a href=\"https://colab.research.google.com/github/vcdemy/20230205-python/blob/main/20230219.ipynb\" target=\"_parent\"><img src=\"https://colab.research.google.com/assets/colab-badge.svg\" alt=\"Open In Colab\"/></a>"
      ]
    },
    {
      "cell_type": "markdown",
      "source": [
        "# 20230219 筆記"
      ],
      "metadata": {
        "id": "4k7YiiVSUNdT"
      }
    },
    {
      "cell_type": "markdown",
      "source": [
        "## 回答問題"
      ],
      "metadata": {
        "id": "fAQXEHpcUmOn"
      }
    },
    {
      "cell_type": "markdown",
      "source": [
        "### Q: \"%\" 怎麼使用？\n",
        "\n",
        "參考：https://python.microbit.org/v/3\n",
        "\n",
        "嘗試執行底下程式，按按鈕A觀察結果！\n",
        "\n",
        "```python\n",
        "# Imports go at the top\n",
        "from microbit import *\n",
        "\n",
        "display.clear()\n",
        "\n",
        "x = 0\n",
        "y = 0\n",
        "display.set_pixel(x,y,9)\n",
        "\n",
        "while True:\n",
        "    if button_a.was_pressed():\n",
        "        x = x + 1\n",
        "        display.clear()\n",
        "        display.set_pixel(x%5,y,9)\n",
        "```"
      ],
      "metadata": {
        "id": "laaMUqb7UXBA"
      }
    },
    {
      "cell_type": "markdown",
      "source": [
        "## 複習一下 requests 的使用\n",
        "\n",
        "從政府資料開放平台抓資料：https://data.gov.tw/"
      ],
      "metadata": {
        "id": "L_d49VF0U9eD"
      }
    },
    {
      "cell_type": "markdown",
      "source": [
        "### 練習\n",
        "\n",
        "抓取`年度國內主要金融指標`下來做分析:\n",
        "\n",
        "https://apiservice.mol.gov.tw/OdService/download/A17000000J-030244-dpp"
      ],
      "metadata": {
        "id": "R8ePOU2vW2Ij"
      }
    },
    {
      "cell_type": "code",
      "execution_count": 3,
      "metadata": {
        "id": "TU0WgUzOPbSG"
      },
      "outputs": [],
      "source": [
        "import requests"
      ]
    },
    {
      "cell_type": "code",
      "source": [
        "url = \"https://apiservice.mol.gov.tw/OdService/download/A17000000J-030244-dpp\""
      ],
      "metadata": {
        "id": "t1lMNwHaPd-e"
      },
      "execution_count": 4,
      "outputs": []
    },
    {
      "cell_type": "code",
      "source": [
        "data = requests.get(url).json()"
      ],
      "metadata": {
        "id": "udd8ZIXyPk66"
      },
      "execution_count": 5,
      "outputs": []
    },
    {
      "cell_type": "code",
      "source": [
        "# 列出data裡面的東西\n",
        "data"
      ],
      "metadata": {
        "id": "j58ppEH5XVqC"
      },
      "execution_count": null,
      "outputs": []
    },
    {
      "cell_type": "code",
      "source": [
        "# 檢視data的資料型態\n",
        "type(data)"
      ],
      "metadata": {
        "colab": {
          "base_uri": "https://localhost:8080/"
        },
        "id": "kpOnUyWUZUwr",
        "outputId": "8dad0aa3-00e9-42ae-ae9c-fa50c9882d16"
      },
      "execution_count": 7,
      "outputs": [
        {
          "output_type": "execute_result",
          "data": {
            "text/plain": [
              "list"
            ]
          },
          "metadata": {},
          "execution_count": 7
        }
      ]
    },
    {
      "cell_type": "code",
      "source": [
        "# 檢視一下 data 裡面有幾筆資料\n",
        "len(data)"
      ],
      "metadata": {
        "colab": {
          "base_uri": "https://localhost:8080/"
        },
        "id": "d-v2aCjpXZiL",
        "outputId": "4cfcd520-6a06-4567-8f88-6b5f9198064a"
      },
      "execution_count": 8,
      "outputs": [
        {
          "output_type": "execute_result",
          "data": {
            "text/plain": [
              "29"
            ]
          },
          "metadata": {},
          "execution_count": 8
        }
      ]
    },
    {
      "cell_type": "code",
      "source": [
        "# 檢視一下 data 的第一筆資料\n",
        "data[0]"
      ],
      "metadata": {
        "colab": {
          "base_uri": "https://localhost:8080/"
        },
        "id": "RYkMoGhoZgzO",
        "outputId": "3b9cb041-0627-4634-8dca-02685fa4544f"
      },
      "execution_count": 9,
      "outputs": [
        {
          "output_type": "execute_result",
          "data": {
            "text/plain": [
              "{'年度': '1994',\n",
              " '貨幣供給額期底年增率-M1B': '12.23',\n",
              " '貨幣供給額期底年增率-M2': '15.07',\n",
              " '金價（美元／英兩）-國際現貨黃金價格': '382.50',\n",
              " '金價（美元／英兩）-台北': '385.07',\n",
              " '匯率（月底）-（新台幣／美元）': '26.240',\n",
              " '外匯存底（億美元）': '924.54',\n",
              " '利率（年息%）-金融業拆款': '6.130',\n",
              " '利率（年息%）-商業本票31-90天期': '6.77',\n",
              " '利率（年息%）-中央銀行重貼現率': '5.500',\n",
              " '利率（年息%）-債券市場（十年期中央政府公債）': '7.24',\n",
              " '證券（集中市場）-發行量加權股價指數（月底）': '7124.66',\n",
              " '證券（集中市場）-成交值（億元）': '194766'}"
            ]
          },
          "metadata": {},
          "execution_count": 9
        }
      ]
    },
    {
      "cell_type": "markdown",
      "source": [
        "### 列出各年度的M2貨幣供給額"
      ],
      "metadata": {
        "id": "XKS7PDAHdrKc"
      }
    },
    {
      "cell_type": "markdown",
      "source": [
        "#### 方法一"
      ],
      "metadata": {
        "id": "fZV5YPv4dxVH"
      }
    },
    {
      "cell_type": "code",
      "source": [
        "for i in data:\n",
        "  print(i['年度'], \"==>\", i['貨幣供給額期底年增率-M2'])"
      ],
      "metadata": {
        "colab": {
          "base_uri": "https://localhost:8080/"
        },
        "id": "XmjUorR7Zlib",
        "outputId": "0636da66-e6e3-4060-d607-d46ea2e980ef"
      },
      "execution_count": 10,
      "outputs": [
        {
          "output_type": "stream",
          "name": "stdout",
          "text": [
            "1994 ==> 15.07\n",
            "1995 ==> 9.42\n",
            "1996 ==> 9.13\n",
            "1997 ==> 8.02\n",
            "1998 ==> 8.56\n",
            "1999 ==> 8.29\n",
            "2000 ==> 6.50\n",
            "2001 ==> 4.31\n",
            "2002 ==> 2.53\n",
            "2003 ==> 5.68\n",
            "2004 ==> 7.19\n",
            "2005 ==> 6.63\n",
            "2006 ==> 5.15\n",
            "2007 ==> 0.84\n",
            "2008 ==> 7.21\n",
            "2009 ==> 5.78\n",
            "2010 ==> 5.44\n",
            "2011 ==> 4.84\n",
            "2012 ==> 3.46\n",
            "2013 ==> 5.79\n",
            "2014 ==> 6.13\n",
            "2015 ==> 5.80\n",
            "2016 ==> 3.55\n",
            "2017 ==> 3.56\n",
            "2018 ==> 2.65\n",
            "2019 ==> 4.52\n",
            "2020 ==> 9.36\n",
            "2021 ==> 7.35\n",
            "2022 ==> 6.74\n"
          ]
        }
      ]
    },
    {
      "cell_type": "markdown",
      "source": [
        "#### 方法二"
      ],
      "metadata": {
        "id": "zNhXBX78dzXM"
      }
    },
    {
      "cell_type": "code",
      "source": [
        "for i in range(len(data)):\n",
        "  print(i)"
      ],
      "metadata": {
        "colab": {
          "base_uri": "https://localhost:8080/"
        },
        "id": "U_RL6lL8Z_Nk",
        "outputId": "afdce545-fd0a-4dab-db31-546f0c54ee34"
      },
      "execution_count": 14,
      "outputs": [
        {
          "output_type": "stream",
          "name": "stdout",
          "text": [
            "0\n",
            "1\n",
            "2\n",
            "3\n",
            "4\n",
            "5\n",
            "6\n",
            "7\n",
            "8\n",
            "9\n",
            "10\n",
            "11\n",
            "12\n",
            "13\n",
            "14\n",
            "15\n",
            "16\n",
            "17\n",
            "18\n",
            "19\n",
            "20\n",
            "21\n",
            "22\n",
            "23\n",
            "24\n",
            "25\n",
            "26\n",
            "27\n",
            "28\n"
          ]
        }
      ]
    },
    {
      "cell_type": "code",
      "source": [
        "for i in range(len(data)):\n",
        "  print(data[i]['年度'], \"==>\", data[i]['貨幣供給額期底年增率-M2'])"
      ],
      "metadata": {
        "colab": {
          "base_uri": "https://localhost:8080/"
        },
        "id": "lNKpEdb1d2A6",
        "outputId": "2eaecc83-ba27-4838-b664-841fe33f10ac"
      },
      "execution_count": 12,
      "outputs": [
        {
          "output_type": "stream",
          "name": "stdout",
          "text": [
            "1994 ==> 15.07\n",
            "1995 ==> 9.42\n",
            "1996 ==> 9.13\n",
            "1997 ==> 8.02\n",
            "1998 ==> 8.56\n",
            "1999 ==> 8.29\n",
            "2000 ==> 6.50\n",
            "2001 ==> 4.31\n",
            "2002 ==> 2.53\n",
            "2003 ==> 5.68\n",
            "2004 ==> 7.19\n",
            "2005 ==> 6.63\n",
            "2006 ==> 5.15\n",
            "2007 ==> 0.84\n",
            "2008 ==> 7.21\n",
            "2009 ==> 5.78\n",
            "2010 ==> 5.44\n",
            "2011 ==> 4.84\n",
            "2012 ==> 3.46\n",
            "2013 ==> 5.79\n",
            "2014 ==> 6.13\n",
            "2015 ==> 5.80\n",
            "2016 ==> 3.55\n",
            "2017 ==> 3.56\n",
            "2018 ==> 2.65\n",
            "2019 ==> 4.52\n",
            "2020 ==> 9.36\n",
            "2021 ==> 7.35\n",
            "2022 ==> 6.74\n"
          ]
        }
      ]
    },
    {
      "cell_type": "markdown",
      "source": [
        "## 資料分析基礎套件\n",
        "\n",
        "* numpy ==> 科學運算基礎套件\n",
        "* matplotlib ==> 繪圖基礎套件\n",
        "* pandas ==> 資料分析基礎套件"
      ],
      "metadata": {
        "id": "K3crGdOdhVjK"
      }
    },
    {
      "cell_type": "markdown",
      "source": [
        "### 套件載入的慣用法\n",
        "\n",
        "```python\n",
        "import numpy as np\n",
        "import matplotlib.pyplot as plt\n",
        "import pandas as pd\n",
        "```"
      ],
      "metadata": {
        "id": "pzMCb30lhy8t"
      }
    },
    {
      "cell_type": "markdown",
      "source": [
        "### NumPy\n",
        "\n",
        "NumPy ==> **Num**erical **Py**thon\n",
        "\n",
        "* ndarray (多維陣列) ==> N-Dimensional Arrays\n",
        "* ufunc (通用函式) ==> Universal Functions"
      ],
      "metadata": {
        "id": "0FnqVO-uibcM"
      }
    },
    {
      "cell_type": "code",
      "source": [
        "import numpy as np"
      ],
      "metadata": {
        "id": "-pJiXkamhc92"
      },
      "execution_count": 15,
      "outputs": []
    },
    {
      "cell_type": "markdown",
      "source": [
        "### ndarray"
      ],
      "metadata": {
        "id": "1i0xR46gmdwP"
      }
    },
    {
      "cell_type": "markdown",
      "source": [
        "#### 原生的python的容器型別的限制\n",
        "\n",
        "無法簡單的做到科學運算(向量運算)！"
      ],
      "metadata": {
        "id": "JW0Bg_qPlfy_"
      }
    },
    {
      "cell_type": "code",
      "source": [
        "x = [1, 2, 3]\n",
        "y = [4, 5, 6]"
      ],
      "metadata": {
        "id": "1qLQ4R7cirDE"
      },
      "execution_count": 16,
      "outputs": []
    },
    {
      "cell_type": "code",
      "source": [
        "x + y"
      ],
      "metadata": {
        "colab": {
          "base_uri": "https://localhost:8080/"
        },
        "id": "Ez3KU8J3kXQ3",
        "outputId": "4c1e940a-b6c5-4c8d-f702-8228efa94284"
      },
      "execution_count": 17,
      "outputs": [
        {
          "output_type": "execute_result",
          "data": {
            "text/plain": [
              "[1, 2, 3, 4, 5, 6]"
            ]
          },
          "metadata": {},
          "execution_count": 17
        }
      ]
    },
    {
      "cell_type": "code",
      "source": [
        "2 * x"
      ],
      "metadata": {
        "colab": {
          "base_uri": "https://localhost:8080/"
        },
        "id": "n1iWtjuoka7m",
        "outputId": "c37c2073-f6fe-4979-9710-27f38a0d651c"
      },
      "execution_count": 18,
      "outputs": [
        {
          "output_type": "execute_result",
          "data": {
            "text/plain": [
              "[1, 2, 3, 1, 2, 3]"
            ]
          },
          "metadata": {},
          "execution_count": 18
        }
      ]
    },
    {
      "cell_type": "markdown",
      "source": [
        "#### 使用numpy的ndarray來解決科學運算的問題"
      ],
      "metadata": {
        "id": "iw4xp0kXluRx"
      }
    },
    {
      "cell_type": "code",
      "source": [
        "x1 = np.array(x)\n",
        "y1 = np.array(y)"
      ],
      "metadata": {
        "id": "PSECyB-Vkt4k"
      },
      "execution_count": 20,
      "outputs": []
    },
    {
      "cell_type": "code",
      "source": [
        "type(x1)"
      ],
      "metadata": {
        "colab": {
          "base_uri": "https://localhost:8080/"
        },
        "id": "mY1hHHC6lKaH",
        "outputId": "701a4e0c-65c7-4e85-a7b6-e97a0d5ade4e"
      },
      "execution_count": 21,
      "outputs": [
        {
          "output_type": "execute_result",
          "data": {
            "text/plain": [
              "numpy.ndarray"
            ]
          },
          "metadata": {},
          "execution_count": 21
        }
      ]
    },
    {
      "cell_type": "code",
      "source": [
        "x1"
      ],
      "metadata": {
        "colab": {
          "base_uri": "https://localhost:8080/"
        },
        "id": "1MvQI1uAlXWQ",
        "outputId": "86fb1c5f-2a76-4144-944f-d1e6b9cf10d2"
      },
      "execution_count": 23,
      "outputs": [
        {
          "output_type": "execute_result",
          "data": {
            "text/plain": [
              "array([1, 2, 3])"
            ]
          },
          "metadata": {},
          "execution_count": 23
        }
      ]
    },
    {
      "cell_type": "code",
      "source": [
        "y1"
      ],
      "metadata": {
        "colab": {
          "base_uri": "https://localhost:8080/"
        },
        "id": "ADSdHqEflZLF",
        "outputId": "129c613a-ee3e-4974-f0dd-c5bdd5311db6"
      },
      "execution_count": 24,
      "outputs": [
        {
          "output_type": "execute_result",
          "data": {
            "text/plain": [
              "array([4, 5, 6])"
            ]
          },
          "metadata": {},
          "execution_count": 24
        }
      ]
    },
    {
      "cell_type": "code",
      "source": [
        "x1 + y1"
      ],
      "metadata": {
        "colab": {
          "base_uri": "https://localhost:8080/"
        },
        "id": "NXWPHuPMlLOq",
        "outputId": "18cd3401-47da-467d-840f-dd6fbbb84d23"
      },
      "execution_count": 22,
      "outputs": [
        {
          "output_type": "execute_result",
          "data": {
            "text/plain": [
              "array([5, 7, 9])"
            ]
          },
          "metadata": {},
          "execution_count": 22
        }
      ]
    },
    {
      "cell_type": "code",
      "source": [
        "2 * x1"
      ],
      "metadata": {
        "colab": {
          "base_uri": "https://localhost:8080/"
        },
        "id": "vWWBMTp4lVE0",
        "outputId": "54c7cec6-f208-4664-b982-fd13a5b98d24"
      },
      "execution_count": 25,
      "outputs": [
        {
          "output_type": "execute_result",
          "data": {
            "text/plain": [
              "array([2, 4, 6])"
            ]
          },
          "metadata": {},
          "execution_count": 25
        }
      ]
    },
    {
      "cell_type": "markdown",
      "source": [
        "### ufunc"
      ],
      "metadata": {
        "id": "S4dq87sCmham"
      }
    },
    {
      "cell_type": "markdown",
      "source": [
        "#### 原生的python的數學運算"
      ],
      "metadata": {
        "id": "iFoe6DtVn5bp"
      }
    },
    {
      "cell_type": "code",
      "source": [
        "import math"
      ],
      "metadata": {
        "id": "mTBQ_cR4lbpn"
      },
      "execution_count": 26,
      "outputs": []
    },
    {
      "cell_type": "code",
      "source": [
        "math.pi"
      ],
      "metadata": {
        "colab": {
          "base_uri": "https://localhost:8080/"
        },
        "id": "b0tXp81Pm4PV",
        "outputId": "8b3c31bc-4300-4cfc-c5f0-ff6568a9a448"
      },
      "execution_count": 27,
      "outputs": [
        {
          "output_type": "execute_result",
          "data": {
            "text/plain": [
              "3.141592653589793"
            ]
          },
          "metadata": {},
          "execution_count": 27
        }
      ]
    },
    {
      "cell_type": "code",
      "source": [
        "math.sin(math.pi/2)"
      ],
      "metadata": {
        "colab": {
          "base_uri": "https://localhost:8080/"
        },
        "id": "2zOLZYOIm7fA",
        "outputId": "0563294a-df0c-4589-fd70-a432eb7bd7d5"
      },
      "execution_count": 28,
      "outputs": [
        {
          "output_type": "execute_result",
          "data": {
            "text/plain": [
              "1.0"
            ]
          },
          "metadata": {},
          "execution_count": 28
        }
      ]
    },
    {
      "cell_type": "code",
      "source": [
        "math.sin(x)"
      ],
      "metadata": {
        "colab": {
          "base_uri": "https://localhost:8080/",
          "height": 169
        },
        "id": "DQwvkwRWnAIi",
        "outputId": "e440c346-a00b-43e3-a4fc-0eeba69f13ce"
      },
      "execution_count": 30,
      "outputs": [
        {
          "output_type": "error",
          "ename": "TypeError",
          "evalue": "ignored",
          "traceback": [
            "\u001b[0;31m---------------------------------------------------------------------------\u001b[0m",
            "\u001b[0;31mTypeError\u001b[0m                                 Traceback (most recent call last)",
            "\u001b[0;32m<ipython-input-30-514904a8605d>\u001b[0m in \u001b[0;36m<module>\u001b[0;34m\u001b[0m\n\u001b[0;32m----> 1\u001b[0;31m \u001b[0mmath\u001b[0m\u001b[0;34m.\u001b[0m\u001b[0msin\u001b[0m\u001b[0;34m(\u001b[0m\u001b[0mx\u001b[0m\u001b[0;34m)\u001b[0m\u001b[0;34m\u001b[0m\u001b[0;34m\u001b[0m\u001b[0m\n\u001b[0m",
            "\u001b[0;31mTypeError\u001b[0m: must be real number, not list"
          ]
        }
      ]
    },
    {
      "cell_type": "markdown",
      "source": [
        "#### 比較一下 numpy 的使用"
      ],
      "metadata": {
        "id": "9pgmyRtMoATr"
      }
    },
    {
      "cell_type": "code",
      "source": [
        "np.pi"
      ],
      "metadata": {
        "colab": {
          "base_uri": "https://localhost:8080/"
        },
        "id": "56VXXtQUnY_6",
        "outputId": "8af20ff4-0cd7-41b5-e346-7cb438574bda"
      },
      "execution_count": 31,
      "outputs": [
        {
          "output_type": "execute_result",
          "data": {
            "text/plain": [
              "3.141592653589793"
            ]
          },
          "metadata": {},
          "execution_count": 31
        }
      ]
    },
    {
      "cell_type": "code",
      "source": [
        "np.sin(np.pi/2)"
      ],
      "metadata": {
        "colab": {
          "base_uri": "https://localhost:8080/"
        },
        "id": "v5MJgquunjgS",
        "outputId": "82430879-a3d0-4dc4-abdd-ab10845e5e31"
      },
      "execution_count": 33,
      "outputs": [
        {
          "output_type": "execute_result",
          "data": {
            "text/plain": [
              "1.0"
            ]
          },
          "metadata": {},
          "execution_count": 33
        }
      ]
    },
    {
      "cell_type": "code",
      "source": [
        "np.sin(x)"
      ],
      "metadata": {
        "colab": {
          "base_uri": "https://localhost:8080/"
        },
        "id": "h1t3My1NnlXu",
        "outputId": "3b6dac1c-6371-4d73-d831-3a7d4725531e"
      },
      "execution_count": 34,
      "outputs": [
        {
          "output_type": "execute_result",
          "data": {
            "text/plain": [
              "array([0.84147098, 0.90929743, 0.14112001])"
            ]
          },
          "metadata": {},
          "execution_count": 34
        }
      ]
    },
    {
      "cell_type": "markdown",
      "source": [
        "### ndarray 附帶的屬性 (properties)"
      ],
      "metadata": {
        "id": "-l1Dxl5Ur1F6"
      }
    },
    {
      "cell_type": "code",
      "source": [
        "x"
      ],
      "metadata": {
        "colab": {
          "base_uri": "https://localhost:8080/"
        },
        "id": "zoPQRCWWr-da",
        "outputId": "0f8ce643-d1c6-4dc3-a02e-3e09d268e6e5"
      },
      "execution_count": 35,
      "outputs": [
        {
          "output_type": "execute_result",
          "data": {
            "text/plain": [
              "[1, 2, 3]"
            ]
          },
          "metadata": {},
          "execution_count": 35
        }
      ]
    },
    {
      "cell_type": "code",
      "source": [
        "x1"
      ],
      "metadata": {
        "colab": {
          "base_uri": "https://localhost:8080/"
        },
        "id": "X_YFYdvcsmWL",
        "outputId": "ad7918c0-8bf1-445a-bd58-66820a50087a"
      },
      "execution_count": 36,
      "outputs": [
        {
          "output_type": "execute_result",
          "data": {
            "text/plain": [
              "array([1, 2, 3])"
            ]
          },
          "metadata": {},
          "execution_count": 36
        }
      ]
    },
    {
      "cell_type": "code",
      "source": [
        "# 資料型態\n",
        "x1.dtype"
      ],
      "metadata": {
        "colab": {
          "base_uri": "https://localhost:8080/"
        },
        "id": "ytP-w7CysnGW",
        "outputId": "ac44e310-689a-4788-af68-e35c4a0f39c8"
      },
      "execution_count": 37,
      "outputs": [
        {
          "output_type": "execute_result",
          "data": {
            "text/plain": [
              "dtype('int64')"
            ]
          },
          "metadata": {},
          "execution_count": 37
        }
      ]
    },
    {
      "cell_type": "code",
      "source": [
        "# 資料的形狀\n",
        "x1.shape"
      ],
      "metadata": {
        "colab": {
          "base_uri": "https://localhost:8080/"
        },
        "id": "aeh1nwjPsrhR",
        "outputId": "70c808aa-37cb-4dff-a66f-f52df003c853"
      },
      "execution_count": 38,
      "outputs": [
        {
          "output_type": "execute_result",
          "data": {
            "text/plain": [
              "(3,)"
            ]
          },
          "metadata": {},
          "execution_count": 38
        }
      ]
    },
    {
      "cell_type": "code",
      "source": [
        "# 資料的個數\n",
        "x1.size"
      ],
      "metadata": {
        "colab": {
          "base_uri": "https://localhost:8080/"
        },
        "id": "FUVpkPzRs1Ca",
        "outputId": "ead6ff7c-53c1-4b6b-c4b4-8a2c9fc26d29"
      },
      "execution_count": 40,
      "outputs": [
        {
          "output_type": "execute_result",
          "data": {
            "text/plain": [
              "3"
            ]
          },
          "metadata": {},
          "execution_count": 40
        }
      ]
    },
    {
      "cell_type": "markdown",
      "source": [
        "### ndarray 的 indexing 跟 slicing"
      ],
      "metadata": {
        "id": "vk-4C4darulb"
      }
    },
    {
      "cell_type": "code",
      "source": [
        "# np.arange() 類似 range()，但是會產生ndarray\n",
        "F = np.arange(25)"
      ],
      "metadata": {
        "id": "sJAyjVJynpbT"
      },
      "execution_count": 50,
      "outputs": []
    },
    {
      "cell_type": "code",
      "source": [
        "F"
      ],
      "metadata": {
        "colab": {
          "base_uri": "https://localhost:8080/"
        },
        "id": "Fe-mZkoOtNOh",
        "outputId": "12e154ba-abcc-42ad-ee96-b6fb5dad2292"
      },
      "execution_count": 51,
      "outputs": [
        {
          "output_type": "execute_result",
          "data": {
            "text/plain": [
              "array([ 0,  1,  2,  3,  4,  5,  6,  7,  8,  9, 10, 11, 12, 13, 14, 15, 16,\n",
              "       17, 18, 19, 20, 21, 22, 23, 24])"
            ]
          },
          "metadata": {},
          "execution_count": 51
        }
      ]
    },
    {
      "cell_type": "code",
      "source": [
        "F.dtype"
      ],
      "metadata": {
        "colab": {
          "base_uri": "https://localhost:8080/"
        },
        "id": "MZHlibujtNrC",
        "outputId": "75096af5-4f48-4aa1-bafd-b48ce8e763b0"
      },
      "execution_count": 52,
      "outputs": [
        {
          "output_type": "execute_result",
          "data": {
            "text/plain": [
              "dtype('int64')"
            ]
          },
          "metadata": {},
          "execution_count": 52
        }
      ]
    },
    {
      "cell_type": "code",
      "source": [
        "F.shape"
      ],
      "metadata": {
        "colab": {
          "base_uri": "https://localhost:8080/"
        },
        "id": "cz7IOphbtkiH",
        "outputId": "f0cbaf70-b5da-4034-c77e-db98682894f1"
      },
      "execution_count": 53,
      "outputs": [
        {
          "output_type": "execute_result",
          "data": {
            "text/plain": [
              "(25,)"
            ]
          },
          "metadata": {},
          "execution_count": 53
        }
      ]
    },
    {
      "cell_type": "code",
      "source": [
        "F.reshape(5, 5)"
      ],
      "metadata": {
        "colab": {
          "base_uri": "https://localhost:8080/"
        },
        "id": "ca7itZBKtmgt",
        "outputId": "e3f3d2f3-29b0-4f29-d3b6-6074dfa39a05"
      },
      "execution_count": 54,
      "outputs": [
        {
          "output_type": "execute_result",
          "data": {
            "text/plain": [
              "array([[ 0,  1,  2,  3,  4],\n",
              "       [ 5,  6,  7,  8,  9],\n",
              "       [10, 11, 12, 13, 14],\n",
              "       [15, 16, 17, 18, 19],\n",
              "       [20, 21, 22, 23, 24]])"
            ]
          },
          "metadata": {},
          "execution_count": 54
        }
      ]
    },
    {
      "cell_type": "code",
      "source": [
        "F"
      ],
      "metadata": {
        "colab": {
          "base_uri": "https://localhost:8080/"
        },
        "id": "2QlCeKN1ts7p",
        "outputId": "f4ab5d08-b78c-44cc-a40a-74146eb21c3f"
      },
      "execution_count": 55,
      "outputs": [
        {
          "output_type": "execute_result",
          "data": {
            "text/plain": [
              "array([ 0,  1,  2,  3,  4,  5,  6,  7,  8,  9, 10, 11, 12, 13, 14, 15, 16,\n",
              "       17, 18, 19, 20, 21, 22, 23, 24])"
            ]
          },
          "metadata": {},
          "execution_count": 55
        }
      ]
    },
    {
      "cell_type": "code",
      "source": [
        "G = F.reshape(5, 5)"
      ],
      "metadata": {
        "id": "R1WWaomptzcn"
      },
      "execution_count": 56,
      "outputs": []
    },
    {
      "cell_type": "code",
      "source": [
        "G"
      ],
      "metadata": {
        "colab": {
          "base_uri": "https://localhost:8080/"
        },
        "id": "tVfjq9dTt3Av",
        "outputId": "baa354e2-8ec6-49c9-c191-5dd00cd29996"
      },
      "execution_count": 57,
      "outputs": [
        {
          "output_type": "execute_result",
          "data": {
            "text/plain": [
              "array([[ 0,  1,  2,  3,  4],\n",
              "       [ 5,  6,  7,  8,  9],\n",
              "       [10, 11, 12, 13, 14],\n",
              "       [15, 16, 17, 18, 19],\n",
              "       [20, 21, 22, 23, 24]])"
            ]
          },
          "metadata": {},
          "execution_count": 57
        }
      ]
    },
    {
      "cell_type": "code",
      "source": [
        "G.shape"
      ],
      "metadata": {
        "colab": {
          "base_uri": "https://localhost:8080/"
        },
        "id": "J8vb1VGqt3kB",
        "outputId": "88e8a3c4-3f5b-4649-b1c6-65739e57c3a5"
      },
      "execution_count": 58,
      "outputs": [
        {
          "output_type": "execute_result",
          "data": {
            "text/plain": [
              "(5, 5)"
            ]
          },
          "metadata": {},
          "execution_count": 58
        }
      ]
    },
    {
      "cell_type": "markdown",
      "source": [
        "#### indexing"
      ],
      "metadata": {
        "id": "MuDCKWG9uCqN"
      }
    },
    {
      "cell_type": "code",
      "source": [
        "F"
      ],
      "metadata": {
        "colab": {
          "base_uri": "https://localhost:8080/"
        },
        "id": "uZTZz8oct5Ic",
        "outputId": "8d7e2986-f9a7-4813-b7e0-d26b25c9f172"
      },
      "execution_count": 59,
      "outputs": [
        {
          "output_type": "execute_result",
          "data": {
            "text/plain": [
              "array([ 0,  1,  2,  3,  4,  5,  6,  7,  8,  9, 10, 11, 12, 13, 14, 15, 16,\n",
              "       17, 18, 19, 20, 21, 22, 23, 24])"
            ]
          },
          "metadata": {},
          "execution_count": 59
        }
      ]
    },
    {
      "cell_type": "code",
      "source": [
        "F[0]"
      ],
      "metadata": {
        "colab": {
          "base_uri": "https://localhost:8080/"
        },
        "id": "VTAMfs4-uZOz",
        "outputId": "3fe8ac23-7c2b-4b29-e053-ab74e1e00270"
      },
      "execution_count": 60,
      "outputs": [
        {
          "output_type": "execute_result",
          "data": {
            "text/plain": [
              "0"
            ]
          },
          "metadata": {},
          "execution_count": 60
        }
      ]
    },
    {
      "cell_type": "code",
      "source": [
        "F[-1]"
      ],
      "metadata": {
        "colab": {
          "base_uri": "https://localhost:8080/"
        },
        "id": "O9Q4xMU6ucSV",
        "outputId": "73f450e6-9100-415d-8a81-8acf97cb3c03"
      },
      "execution_count": 61,
      "outputs": [
        {
          "output_type": "execute_result",
          "data": {
            "text/plain": [
              "24"
            ]
          },
          "metadata": {},
          "execution_count": 61
        }
      ]
    },
    {
      "cell_type": "code",
      "source": [
        "G"
      ],
      "metadata": {
        "colab": {
          "base_uri": "https://localhost:8080/"
        },
        "id": "JP-l5GNcudNI",
        "outputId": "edc97efa-c0a3-47e0-df65-0422020bb89b"
      },
      "execution_count": 62,
      "outputs": [
        {
          "output_type": "execute_result",
          "data": {
            "text/plain": [
              "array([[ 0,  1,  2,  3,  4],\n",
              "       [ 5,  6,  7,  8,  9],\n",
              "       [10, 11, 12, 13, 14],\n",
              "       [15, 16, 17, 18, 19],\n",
              "       [20, 21, 22, 23, 24]])"
            ]
          },
          "metadata": {},
          "execution_count": 62
        }
      ]
    },
    {
      "cell_type": "code",
      "source": [
        "G[2]"
      ],
      "metadata": {
        "colab": {
          "base_uri": "https://localhost:8080/"
        },
        "id": "GoHAjDPVujHH",
        "outputId": "85a3bc04-b664-4744-ddc1-c0f2bd9d67c2"
      },
      "execution_count": 63,
      "outputs": [
        {
          "output_type": "execute_result",
          "data": {
            "text/plain": [
              "array([10, 11, 12, 13, 14])"
            ]
          },
          "metadata": {},
          "execution_count": 63
        }
      ]
    },
    {
      "cell_type": "code",
      "source": [
        "G[2][2]"
      ],
      "metadata": {
        "colab": {
          "base_uri": "https://localhost:8080/"
        },
        "id": "p9Cdb69quwXg",
        "outputId": "19c9f9e7-42b0-4cf1-954b-a9440d118de4"
      },
      "execution_count": 64,
      "outputs": [
        {
          "output_type": "execute_result",
          "data": {
            "text/plain": [
              "12"
            ]
          },
          "metadata": {},
          "execution_count": 64
        }
      ]
    },
    {
      "cell_type": "code",
      "source": [
        "G[2, 2]"
      ],
      "metadata": {
        "colab": {
          "base_uri": "https://localhost:8080/"
        },
        "id": "7T7pitd6uyHU",
        "outputId": "40f1be70-eed8-40e0-d25d-624ac464727b"
      },
      "execution_count": 65,
      "outputs": [
        {
          "output_type": "execute_result",
          "data": {
            "text/plain": [
              "12"
            ]
          },
          "metadata": {},
          "execution_count": 65
        }
      ]
    },
    {
      "cell_type": "markdown",
      "source": [
        "#### slicing"
      ],
      "metadata": {
        "id": "vpoqS3uhvU7i"
      }
    },
    {
      "cell_type": "code",
      "source": [
        "G"
      ],
      "metadata": {
        "colab": {
          "base_uri": "https://localhost:8080/"
        },
        "id": "fyEOwy7gvA4v",
        "outputId": "7f5b4ccd-a5cd-450b-e85c-f2be64a72c86"
      },
      "execution_count": 66,
      "outputs": [
        {
          "output_type": "execute_result",
          "data": {
            "text/plain": [
              "array([[ 0,  1,  2,  3,  4],\n",
              "       [ 5,  6,  7,  8,  9],\n",
              "       [10, 11, 12, 13, 14],\n",
              "       [15, 16, 17, 18, 19],\n",
              "       [20, 21, 22, 23, 24]])"
            ]
          },
          "metadata": {},
          "execution_count": 66
        }
      ]
    },
    {
      "cell_type": "code",
      "source": [
        "G[1:3, 1:3]"
      ],
      "metadata": {
        "colab": {
          "base_uri": "https://localhost:8080/"
        },
        "id": "oEPJG0HHvW7y",
        "outputId": "789e0409-2a56-4d21-e390-9c3bb9294763"
      },
      "execution_count": 67,
      "outputs": [
        {
          "output_type": "execute_result",
          "data": {
            "text/plain": [
              "array([[ 6,  7],\n",
              "       [11, 12]])"
            ]
          },
          "metadata": {},
          "execution_count": 67
        }
      ]
    },
    {
      "cell_type": "markdown",
      "source": [
        "## 回答問題\n",
        "\n",
        "### Q: 如果np的ufunc都會主動將list轉換成ndarray，我們是不是可以省略 np.array(x) 這樣的轉換？"
      ],
      "metadata": {
        "id": "canTHO20v16y"
      }
    },
    {
      "cell_type": "code",
      "source": [
        "x"
      ],
      "metadata": {
        "colab": {
          "base_uri": "https://localhost:8080/"
        },
        "id": "pbMmUZdHvZCm",
        "outputId": "0eafc202-5525-48ac-c688-0cd5641edcc0"
      },
      "execution_count": 68,
      "outputs": [
        {
          "output_type": "execute_result",
          "data": {
            "text/plain": [
              "[1, 2, 3]"
            ]
          },
          "metadata": {},
          "execution_count": 68
        }
      ]
    },
    {
      "cell_type": "code",
      "source": [
        "x ** 2"
      ],
      "metadata": {
        "colab": {
          "base_uri": "https://localhost:8080/",
          "height": 169
        },
        "id": "inffVGe0wGbQ",
        "outputId": "b89d0562-bd82-467d-f398-6c5d92957d62"
      },
      "execution_count": 69,
      "outputs": [
        {
          "output_type": "error",
          "ename": "TypeError",
          "evalue": "ignored",
          "traceback": [
            "\u001b[0;31m---------------------------------------------------------------------------\u001b[0m",
            "\u001b[0;31mTypeError\u001b[0m                                 Traceback (most recent call last)",
            "\u001b[0;32m<ipython-input-69-519b2adf25af>\u001b[0m in \u001b[0;36m<module>\u001b[0;34m\u001b[0m\n\u001b[0;32m----> 1\u001b[0;31m \u001b[0mx\u001b[0m \u001b[0;34m**\u001b[0m \u001b[0;36m2\u001b[0m\u001b[0;34m\u001b[0m\u001b[0;34m\u001b[0m\u001b[0m\n\u001b[0m",
            "\u001b[0;31mTypeError\u001b[0m: unsupported operand type(s) for ** or pow(): 'list' and 'int'"
          ]
        }
      ]
    },
    {
      "cell_type": "code",
      "source": [
        "x1 ** 2"
      ],
      "metadata": {
        "colab": {
          "base_uri": "https://localhost:8080/"
        },
        "id": "oWmi73hywIq2",
        "outputId": "175782e2-9e42-4be0-943e-a2e896a8fe4d"
      },
      "execution_count": 70,
      "outputs": [
        {
          "output_type": "execute_result",
          "data": {
            "text/plain": [
              "array([1, 4, 9])"
            ]
          },
          "metadata": {},
          "execution_count": 70
        }
      ]
    },
    {
      "cell_type": "markdown",
      "source": [
        "### 練習\n",
        "\n",
        "請問如何取得二維的ndarray的第一欄及最後一欄的資料？"
      ],
      "metadata": {
        "id": "4Ht3Z1X0wmxj"
      }
    },
    {
      "cell_type": "code",
      "source": [
        "G"
      ],
      "metadata": {
        "colab": {
          "base_uri": "https://localhost:8080/"
        },
        "id": "yXykICejwKlL",
        "outputId": "d5466287-af17-4507-c72b-ecc39348857d"
      },
      "execution_count": 71,
      "outputs": [
        {
          "output_type": "execute_result",
          "data": {
            "text/plain": [
              "array([[ 0,  1,  2,  3,  4],\n",
              "       [ 5,  6,  7,  8,  9],\n",
              "       [10, 11, 12, 13, 14],\n",
              "       [15, 16, 17, 18, 19],\n",
              "       [20, 21, 22, 23, 24]])"
            ]
          },
          "metadata": {},
          "execution_count": 71
        }
      ]
    },
    {
      "cell_type": "code",
      "source": [
        "G[:,0]"
      ],
      "metadata": {
        "colab": {
          "base_uri": "https://localhost:8080/"
        },
        "id": "isufZBzlwzO-",
        "outputId": "8670960a-7a15-4684-884b-d72fa42d3df9"
      },
      "execution_count": 72,
      "outputs": [
        {
          "output_type": "execute_result",
          "data": {
            "text/plain": [
              "array([ 0,  5, 10, 15, 20])"
            ]
          },
          "metadata": {},
          "execution_count": 72
        }
      ]
    },
    {
      "cell_type": "code",
      "source": [
        "G[:,-1]"
      ],
      "metadata": {
        "colab": {
          "base_uri": "https://localhost:8080/"
        },
        "id": "P2zEZ5DQxA_i",
        "outputId": "188ac5e4-0fa7-4d8c-ea13-0e0fc97e433c"
      },
      "execution_count": 73,
      "outputs": [
        {
          "output_type": "execute_result",
          "data": {
            "text/plain": [
              "array([ 4,  9, 14, 19, 24])"
            ]
          },
          "metadata": {},
          "execution_count": 73
        }
      ]
    },
    {
      "cell_type": "code",
      "source": [
        "G"
      ],
      "metadata": {
        "colab": {
          "base_uri": "https://localhost:8080/"
        },
        "id": "Wdj9mY17xEua",
        "outputId": "3920bf29-3b3e-4993-90fa-a81107c3c293"
      },
      "execution_count": 74,
      "outputs": [
        {
          "output_type": "execute_result",
          "data": {
            "text/plain": [
              "array([[ 0,  1,  2,  3,  4],\n",
              "       [ 5,  6,  7,  8,  9],\n",
              "       [10, 11, 12, 13, 14],\n",
              "       [15, 16, 17, 18, 19],\n",
              "       [20, 21, 22, 23, 24]])"
            ]
          },
          "metadata": {},
          "execution_count": 74
        }
      ]
    },
    {
      "cell_type": "code",
      "source": [
        "G[:, 0] = 0"
      ],
      "metadata": {
        "id": "7TD9QGZexQ_7"
      },
      "execution_count": 75,
      "outputs": []
    },
    {
      "cell_type": "code",
      "source": [
        "G"
      ],
      "metadata": {
        "colab": {
          "base_uri": "https://localhost:8080/"
        },
        "id": "K067NaeyxUA8",
        "outputId": "fa583092-bd29-40d8-d5b8-34ec390b689e"
      },
      "execution_count": 76,
      "outputs": [
        {
          "output_type": "execute_result",
          "data": {
            "text/plain": [
              "array([[ 0,  1,  2,  3,  4],\n",
              "       [ 0,  6,  7,  8,  9],\n",
              "       [ 0, 11, 12, 13, 14],\n",
              "       [ 0, 16, 17, 18, 19],\n",
              "       [ 0, 21, 22, 23, 24]])"
            ]
          },
          "metadata": {},
          "execution_count": 76
        }
      ]
    },
    {
      "cell_type": "code",
      "source": [
        "G[1:3, 1:3]"
      ],
      "metadata": {
        "colab": {
          "base_uri": "https://localhost:8080/"
        },
        "id": "yDjZB4YmxUnR",
        "outputId": "ff5d686f-991d-49eb-a617-21184f708a5d"
      },
      "execution_count": 77,
      "outputs": [
        {
          "output_type": "execute_result",
          "data": {
            "text/plain": [
              "array([[ 6,  7],\n",
              "       [11, 12]])"
            ]
          },
          "metadata": {},
          "execution_count": 77
        }
      ]
    },
    {
      "cell_type": "code",
      "source": [
        "G[1:3, 2]"
      ],
      "metadata": {
        "colab": {
          "base_uri": "https://localhost:8080/"
        },
        "id": "mm8_-_qBzjM6",
        "outputId": "a45c3046-8f93-4af8-9591-4afb1d8c50ea"
      },
      "execution_count": 78,
      "outputs": [
        {
          "output_type": "execute_result",
          "data": {
            "text/plain": [
              "array([ 7, 12])"
            ]
          },
          "metadata": {},
          "execution_count": 78
        }
      ]
    },
    {
      "cell_type": "markdown",
      "source": [
        "## MatPlotLib\n",
        "\n",
        "MatPlotLib ==> **Mat**rix **Plot**ting **Lib**rary\n",
        "\n",
        "* pyplot\n",
        "* artist\n",
        "\n",
        "Reference:\n",
        "https://matplotlib.org/stable/index.html"
      ],
      "metadata": {
        "id": "MhzoiBiGz3QU"
      }
    },
    {
      "cell_type": "code",
      "source": [
        "import matplotlib.pyplot as plt"
      ],
      "metadata": {
        "id": "ZbpY5q6qzl0r"
      },
      "execution_count": 84,
      "outputs": []
    },
    {
      "cell_type": "markdown",
      "source": [
        "### 折線圖 (Line Chart)"
      ],
      "metadata": {
        "id": "H0GNRBzY0ZuT"
      }
    },
    {
      "cell_type": "code",
      "source": [
        "x"
      ],
      "metadata": {
        "colab": {
          "base_uri": "https://localhost:8080/"
        },
        "id": "tRjYWI1L0UxB",
        "outputId": "159bf69a-c6f6-486e-f2c7-5625727db978"
      },
      "execution_count": 80,
      "outputs": [
        {
          "output_type": "execute_result",
          "data": {
            "text/plain": [
              "[1, 2, 3]"
            ]
          },
          "metadata": {},
          "execution_count": 80
        }
      ]
    },
    {
      "cell_type": "code",
      "source": [
        "plt.plot(x)"
      ],
      "metadata": {
        "colab": {
          "base_uri": "https://localhost:8080/",
          "height": 283
        },
        "id": "9gbOolbm0WHw",
        "outputId": "a282a7b3-c77d-424f-c2f1-9306ace3d560"
      },
      "execution_count": 81,
      "outputs": [
        {
          "output_type": "execute_result",
          "data": {
            "text/plain": [
              "[<matplotlib.lines.Line2D at 0x7fc6a3d5b970>]"
            ]
          },
          "metadata": {},
          "execution_count": 81
        },
        {
          "output_type": "display_data",
          "data": {
            "text/plain": [
              "<Figure size 432x288 with 1 Axes>"
            ],
            "image/png": "[encoded data removed]"
          },
          "metadata": {
            "needs_background": "light"
          }
        }
      ]
    },
    {
      "cell_type": "markdown",
      "source": [
        "### Markers, Line Styles, Colors\n",
        "\n",
        "https://matplotlib.org/stable/api/_as_gen/matplotlib.pyplot.plot.html"
      ],
      "metadata": {
        "id": "0TPyCuYE1AH5"
      }
    },
    {
      "cell_type": "code",
      "source": [
        "plt.plot(x, \"ro-\")"
      ],
      "metadata": {
        "colab": {
          "base_uri": "https://localhost:8080/",
          "height": 283
        },
        "id": "ZcqTwMV40X7f",
        "outputId": "d8e7e832-7a43-44a6-8c2b-29dda3a9d2e9"
      },
      "execution_count": 82,
      "outputs": [
        {
          "output_type": "execute_result",
          "data": {
            "text/plain": [
              "[<matplotlib.lines.Line2D at 0x7fc6a3cd84c0>]"
            ]
          },
          "metadata": {},
          "execution_count": 82
        },
        {
          "output_type": "display_data",
          "data": {
            "text/plain": [
              "<Figure size 432x288 with 1 Axes>"
            ],
            "image/png": "[encoded data removed]"
          },
          "metadata": {
            "needs_background": "light"
          }
        }
      ]
    },
    {
      "cell_type": "code",
      "source": [
        "plt.plot(x, \"ro\")"
      ],
      "metadata": {
        "colab": {
          "base_uri": "https://localhost:8080/",
          "height": 283
        },
        "id": "0zc1QsYN0uPH",
        "outputId": "7557051a-0eab-41c6-8146-deea6f9d734e"
      },
      "execution_count": 83,
      "outputs": [
        {
          "output_type": "execute_result",
          "data": {
            "text/plain": [
              "[<matplotlib.lines.Line2D at 0x7fc6a37fbc70>]"
            ]
          },
          "metadata": {},
          "execution_count": 83
        },
        {
          "output_type": "display_data",
          "data": {
            "text/plain": [
              "<Figure size 432x288 with 1 Axes>"
            ],
            "image/png": "[encoded data removed]"
          },
          "metadata": {
            "needs_background": "light"
          }
        }
      ]
    },
    {
      "cell_type": "code",
      "source": [
        "plt.plot(x, \"^r-\")"
      ],
      "metadata": {
        "colab": {
          "base_uri": "https://localhost:8080/",
          "height": 283
        },
        "id": "5eRPmgi80x3H",
        "outputId": "8e515587-ee0a-4747-f275-d597f1f89d26"
      },
      "execution_count": 85,
      "outputs": [
        {
          "output_type": "execute_result",
          "data": {
            "text/plain": [
              "[<matplotlib.lines.Line2D at 0x7fc6a37e0fa0>]"
            ]
          },
          "metadata": {},
          "execution_count": 85
        },
        {
          "output_type": "display_data",
          "data": {
            "text/plain": [
              "<Figure size 432x288 with 1 Axes>"
            ],
            "image/png": "[encoded data removed]"
          },
          "metadata": {
            "needs_background": "light"
          }
        }
      ]
    },
    {
      "cell_type": "code",
      "source": [
        "plt.plot(x, \"b>--\")"
      ],
      "metadata": {
        "colab": {
          "base_uri": "https://localhost:8080/",
          "height": 283
        },
        "id": "dGQrlB_tFDld",
        "outputId": "326dcd6e-882e-4ca1-efbe-d55f71cac534"
      },
      "execution_count": 87,
      "outputs": [
        {
          "output_type": "execute_result",
          "data": {
            "text/plain": [
              "[<matplotlib.lines.Line2D at 0x7fc6a370bb20>]"
            ]
          },
          "metadata": {},
          "execution_count": 87
        },
        {
          "output_type": "display_data",
          "data": {
            "text/plain": [
              "<Figure size 432x288 with 1 Axes>"
            ],
            "image/png": "[encoded data removed]"
          },
          "metadata": {
            "needs_background": "light"
          }
        }
      ]
    },
    {
      "cell_type": "code",
      "source": [
        "x"
      ],
      "metadata": {
        "colab": {
          "base_uri": "https://localhost:8080/"
        },
        "id": "G8fJOUdEFYOR",
        "outputId": "8576cf0d-7b55-490c-873f-32b498b6f85b"
      },
      "execution_count": 88,
      "outputs": [
        {
          "output_type": "execute_result",
          "data": {
            "text/plain": [
              "[1, 2, 3]"
            ]
          },
          "metadata": {},
          "execution_count": 88
        }
      ]
    },
    {
      "cell_type": "code",
      "source": [
        "x**2"
      ],
      "metadata": {
        "colab": {
          "base_uri": "https://localhost:8080/",
          "height": 169
        },
        "id": "tpzdQR_6FhqS",
        "outputId": "bb9f5252-96e9-425d-a46f-7cb0f7c3e802"
      },
      "execution_count": 89,
      "outputs": [
        {
          "output_type": "error",
          "ename": "TypeError",
          "evalue": "ignored",
          "traceback": [
            "\u001b[0;31m---------------------------------------------------------------------------\u001b[0m",
            "\u001b[0;31mTypeError\u001b[0m                                 Traceback (most recent call last)",
            "\u001b[0;32m<ipython-input-89-4157f318709d>\u001b[0m in \u001b[0;36m<module>\u001b[0;34m\u001b[0m\n\u001b[0;32m----> 1\u001b[0;31m \u001b[0mx\u001b[0m\u001b[0;34m**\u001b[0m\u001b[0;36m2\u001b[0m\u001b[0;34m\u001b[0m\u001b[0;34m\u001b[0m\u001b[0m\n\u001b[0m",
            "\u001b[0;31mTypeError\u001b[0m: unsupported operand type(s) for ** or pow(): 'list' and 'int'"
          ]
        }
      ]
    },
    {
      "cell_type": "code",
      "source": [
        "x1"
      ],
      "metadata": {
        "colab": {
          "base_uri": "https://localhost:8080/"
        },
        "id": "RBR2jNmIFjjt",
        "outputId": "2e73d2b2-5c0a-4585-9af3-239be830d855"
      },
      "execution_count": 90,
      "outputs": [
        {
          "output_type": "execute_result",
          "data": {
            "text/plain": [
              "array([1, 2, 3])"
            ]
          },
          "metadata": {},
          "execution_count": 90
        }
      ]
    },
    {
      "cell_type": "code",
      "source": [
        "x1**2"
      ],
      "metadata": {
        "colab": {
          "base_uri": "https://localhost:8080/"
        },
        "id": "59h3mEVhFlJD",
        "outputId": "cc3e71b0-e886-4c2b-a913-fd322e96ab0b"
      },
      "execution_count": 91,
      "outputs": [
        {
          "output_type": "execute_result",
          "data": {
            "text/plain": [
              "array([1, 4, 9])"
            ]
          },
          "metadata": {},
          "execution_count": 91
        }
      ]
    },
    {
      "cell_type": "code",
      "source": [
        "x1**3"
      ],
      "metadata": {
        "colab": {
          "base_uri": "https://localhost:8080/"
        },
        "id": "gssE6X3oFmR7",
        "outputId": "0ebd27e7-4225-4869-c52b-80fcebba107b"
      },
      "execution_count": 92,
      "outputs": [
        {
          "output_type": "execute_result",
          "data": {
            "text/plain": [
              "array([ 1,  8, 27])"
            ]
          },
          "metadata": {},
          "execution_count": 92
        }
      ]
    },
    {
      "cell_type": "code",
      "source": [
        "plt.plot(x1, \"ro-\")\n",
        "plt.plot(x1**2, \"bx--\")\n",
        "plt.plot(x1**3, \"k^-.\")"
      ],
      "metadata": {
        "colab": {
          "base_uri": "https://localhost:8080/",
          "height": 283
        },
        "id": "zyGAmetVFnZw",
        "outputId": "0d0a0ae0-94ea-407a-bb89-b046bd6db21a"
      },
      "execution_count": 93,
      "outputs": [
        {
          "output_type": "execute_result",
          "data": {
            "text/plain": [
              "[<matplotlib.lines.Line2D at 0x7fc6a363e8b0>]"
            ]
          },
          "metadata": {},
          "execution_count": 93
        },
        {
          "output_type": "display_data",
          "data": {
            "text/plain": [
              "<Figure size 432x288 with 1 Axes>"
            ],
            "image/png": "[encoded data removed]"
          },
          "metadata": {
            "needs_background": "light"
          }
        }
      ]
    },
    {
      "cell_type": "code",
      "source": [
        "plt.plot(x1, \"ro-\", label=\"x1\")\n",
        "plt.plot(x1**2, \"bx--\", label=\"x1**2\")\n",
        "plt.plot(x1**3, \"k^-.\", label=\"x1**3\")\n",
        "plt.legend()"
      ],
      "metadata": {
        "colab": {
          "base_uri": "https://localhost:8080/",
          "height": 283
        },
        "id": "nkMLBivNF5m0",
        "outputId": "1bdfcd5b-d0da-49be-90da-30c42f3a1841"
      },
      "execution_count": 94,
      "outputs": [
        {
          "output_type": "execute_result",
          "data": {
            "text/plain": [
              "<matplotlib.legend.Legend at 0x7fc6a361cdf0>"
            ]
          },
          "metadata": {},
          "execution_count": 94
        },
        {
          "output_type": "display_data",
          "data": {
            "text/plain": [
              "<Figure size 432x288 with 1 Axes>"
            ],
            "image/png": "[encoded data removed]"
          },
          "metadata": {
            "needs_background": "light"
          }
        }
      ]
    },
    {
      "cell_type": "code",
      "source": [
        "plt.plot(x1, \"ro-\", label=\"$x_1$\")\n",
        "plt.plot(x1**2, \"bx--\", label=\"$x_1^2$\")\n",
        "plt.plot(x1**3, \"k^-.\", label=\"$x_1^3$\")\n",
        "plt.legend()"
      ],
      "metadata": {
        "colab": {
          "base_uri": "https://localhost:8080/",
          "height": 283
        },
        "id": "-zdxgRn9GGcY",
        "outputId": "8e14309a-8669-429a-f409-9b47d4ee22b6"
      },
      "execution_count": 95,
      "outputs": [
        {
          "output_type": "execute_result",
          "data": {
            "text/plain": [
              "<matplotlib.legend.Legend at 0x7fc6a35eb5e0>"
            ]
          },
          "metadata": {},
          "execution_count": 95
        },
        {
          "output_type": "display_data",
          "data": {
            "text/plain": [
              "<Figure size 432x288 with 1 Axes>"
            ],
            "image/png": "[encoded data removed]"
          },
          "metadata": {
            "needs_background": "light"
          }
        }
      ]
    },
    {
      "cell_type": "code",
      "source": [
        "plt.plot(x1, \"ro-\", label=\"$x_1$\")\n",
        "plt.plot(x1**2, \"bx--\", label=\"$x_1^2$\")\n",
        "plt.plot(x1**3, \"k^-.\", label=\"$x_1^3$\")\n",
        "plt.legend()\n",
        "plt.title(\"The power of x1\")"
      ],
      "metadata": {
        "colab": {
          "base_uri": "https://localhost:8080/",
          "height": 299
        },
        "id": "aPs-EbnBGTlS",
        "outputId": "b68233d8-1df6-4abc-8ae3-151e3eda8f79"
      },
      "execution_count": 96,
      "outputs": [
        {
          "output_type": "execute_result",
          "data": {
            "text/plain": [
              "Text(0.5, 1.0, 'The power of x1')"
            ]
          },
          "metadata": {},
          "execution_count": 96
        },
        {
          "output_type": "display_data",
          "data": {
            "text/plain": [
              "<Figure size 432x288 with 1 Axes>"
            ],
            "image/png": "[encoded data removed]"
          },
          "metadata": {
            "needs_background": "light"
          }
        }
      ]
    },
    {
      "cell_type": "code",
      "source": [
        "plt.plot(x1, \"ro-\", label=\"$x_1$\")\n",
        "plt.plot(x1**2, \"bx--\", label=\"$x_1^2$\")\n",
        "plt.plot(x1**3, \"k^-.\", label=\"$x_1^3$\")\n",
        "plt.legend()\n",
        "plt.title(\"The power of x1\")\n",
        "plt.xlabel(\"Axis x\")\n",
        "plt.ylabel(\"Axis y\")"
      ],
      "metadata": {
        "colab": {
          "base_uri": "https://localhost:8080/",
          "height": 313
        },
        "id": "F-4ZfY4NGkFu",
        "outputId": "7c81c53a-3637-46d8-f1dd-a92bc0390fce"
      },
      "execution_count": 97,
      "outputs": [
        {
          "output_type": "execute_result",
          "data": {
            "text/plain": [
              "Text(0, 0.5, 'Axis y')"
            ]
          },
          "metadata": {},
          "execution_count": 97
        },
        {
          "output_type": "display_data",
          "data": {
            "text/plain": [
              "<Figure size 432x288 with 1 Axes>"
            ],
            "image/png": "[encoded data removed]"
          },
          "metadata": {
            "needs_background": "light"
          }
        }
      ]
    },
    {
      "cell_type": "markdown",
      "source": [
        "### 長條圖 (Bar Chart)"
      ],
      "metadata": {
        "id": "KQczfsUtHaRC"
      }
    },
    {
      "cell_type": "code",
      "source": [
        "x"
      ],
      "metadata": {
        "colab": {
          "base_uri": "https://localhost:8080/"
        },
        "id": "9QoI-NX4G8ZG",
        "outputId": "bf430ffb-5f52-4079-c865-2214c260bc4a"
      },
      "execution_count": 98,
      "outputs": [
        {
          "output_type": "execute_result",
          "data": {
            "text/plain": [
              "[1, 2, 3]"
            ]
          },
          "metadata": {},
          "execution_count": 98
        }
      ]
    },
    {
      "cell_type": "code",
      "source": [
        "plt.bar?"
      ],
      "metadata": {
        "id": "eBQCFF95HnxQ"
      },
      "execution_count": 99,
      "outputs": []
    },
    {
      "cell_type": "code",
      "source": [
        "c = ['a', 'b', 'c']"
      ],
      "metadata": {
        "id": "bemS91pyHrIo"
      },
      "execution_count": 100,
      "outputs": []
    },
    {
      "cell_type": "code",
      "source": [
        "plt.bar(c, x)"
      ],
      "metadata": {
        "colab": {
          "base_uri": "https://localhost:8080/",
          "height": 283
        },
        "id": "Itl-4kUuH-f7",
        "outputId": "d3434007-3f45-4cab-c089-f166b6bbe76d"
      },
      "execution_count": 101,
      "outputs": [
        {
          "output_type": "execute_result",
          "data": {
            "text/plain": [
              "<BarContainer object of 3 artists>"
            ]
          },
          "metadata": {},
          "execution_count": 101
        },
        {
          "output_type": "display_data",
          "data": {
            "text/plain": [
              "<Figure size 432x288 with 1 Axes>"
            ],
            "image/png": "[encoded data removed]"
          },
          "metadata": {
            "needs_background": "light"
          }
        }
      ]
    },
    {
      "cell_type": "markdown",
      "source": [
        "### 圓餅圖 (Pie Chart)"
      ],
      "metadata": {
        "id": "-JvrH4RQIEqX"
      }
    },
    {
      "cell_type": "code",
      "source": [
        "plt.pie?"
      ],
      "metadata": {
        "id": "DnGn94ACIADY"
      },
      "execution_count": 102,
      "outputs": []
    },
    {
      "cell_type": "code",
      "source": [
        "plt.pie(x, labels=c)"
      ],
      "metadata": {
        "colab": {
          "base_uri": "https://localhost:8080/",
          "height": 355
        },
        "id": "RMQCBNMhIJva",
        "outputId": "52ce072e-e973-4000-cb5e-f4491e775461"
      },
      "execution_count": 103,
      "outputs": [
        {
          "output_type": "execute_result",
          "data": {
            "text/plain": [
              "([<matplotlib.patches.Wedge at 0x7fc6a32c50a0>,\n",
              "  <matplotlib.patches.Wedge at 0x7fc6a32c5550>,\n",
              "  <matplotlib.patches.Wedge at 0x7fc6a32c59d0>],\n",
              " [Text(0.9526279355804298, 0.5500000148652441, 'a'),\n",
              "  Text(-0.5500000594609755, 0.9526279098330699, 'b'),\n",
              "  Text(1.0298943251329445e-07, -1.0999999999999954, 'c')])"
            ]
          },
          "metadata": {},
          "execution_count": 103
        },
        {
          "output_type": "display_data",
          "data": {
            "text/plain": [
              "<Figure size 432x288 with 1 Axes>"
            ],
            "image/png": "[encoded data removed]"
          },
          "metadata": {}
        }
      ]
    },
    {
      "cell_type": "code",
      "source": [
        "plt.pie(x, labels=c);"
      ],
      "metadata": {
        "colab": {
          "base_uri": "https://localhost:8080/",
          "height": 248
        },
        "id": "_QU1L067ISAL",
        "outputId": "792fa72d-df62-4c7e-9314-2cfa0eacf425"
      },
      "execution_count": 104,
      "outputs": [
        {
          "output_type": "display_data",
          "data": {
            "text/plain": [
              "<Figure size 432x288 with 1 Axes>"
            ],
            "image/png": "[encoded data removed]"
          },
          "metadata": {}
        }
      ]
    },
    {
      "cell_type": "markdown",
      "source": [
        "## 補充說明：\n",
        "\n",
        "Python 常用來做影像處理的套件，大概有三個：\n",
        "\n",
        "* pillow (PIL)\n",
        "* skimage\n",
        "* opencv\n"
      ],
      "metadata": {
        "id": "NMtt74EaKLO6"
      }
    },
    {
      "cell_type": "code",
      "source": [
        "from PIL import Image"
      ],
      "metadata": {
        "id": "6LHADFTKIW78"
      },
      "execution_count": 105,
      "outputs": []
    },
    {
      "cell_type": "code",
      "source": [
        "lin = Image.open('lin.jpg')"
      ],
      "metadata": {
        "id": "APmpmk89K3HX"
      },
      "execution_count": 106,
      "outputs": []
    },
    {
      "cell_type": "code",
      "source": [
        "type(lin)"
      ],
      "metadata": {
        "colab": {
          "base_uri": "https://localhost:8080/"
        },
        "id": "T3WcRTXZT9No",
        "outputId": "399501af-f42f-460f-f52d-e6c7ca6b9525"
      },
      "execution_count": 117,
      "outputs": [
        {
          "output_type": "execute_result",
          "data": {
            "text/plain": [
              "PIL.JpegImagePlugin.JpegImageFile"
            ]
          },
          "metadata": {},
          "execution_count": 117
        }
      ]
    },
    {
      "cell_type": "code",
      "source": [
        "lin_array = np.array(lin)"
      ],
      "metadata": {
        "id": "Ds6zat-OLHsN"
      },
      "execution_count": 108,
      "outputs": []
    },
    {
      "cell_type": "code",
      "source": [
        "type(lin_array)"
      ],
      "metadata": {
        "colab": {
          "base_uri": "https://localhost:8080/"
        },
        "id": "vbAN-JZXT_3y",
        "outputId": "ffa9bda4-bc35-4257-84dc-662a027c2db8"
      },
      "execution_count": 118,
      "outputs": [
        {
          "output_type": "execute_result",
          "data": {
            "text/plain": [
              "numpy.ndarray"
            ]
          },
          "metadata": {},
          "execution_count": 118
        }
      ]
    },
    {
      "cell_type": "code",
      "source": [
        "plt.imshow(lin_array)"
      ],
      "metadata": {
        "colab": {
          "base_uri": "https://localhost:8080/",
          "height": 287
        },
        "id": "nrl55OHxLI5O",
        "outputId": "7ac46e1b-c4ac-4fb1-d4c7-08ccc3cf305f"
      },
      "execution_count": 109,
      "outputs": [
        {
          "output_type": "execute_result",
          "data": {
            "text/plain": [
              "<matplotlib.image.AxesImage at 0x7fc6a35f4340>"
            ]
          },
          "metadata": {},
          "execution_count": 109
        },
        {
          "output_type": "display_data",
          "data": {
            "text/plain": [
              "<Figure size 432x288 with 1 Axes>"
            ],
            "image/png": "[encoded data removed]"
          },
          "metadata": {
            "needs_background": "light"
          }
        }
      ]
    },
    {
      "cell_type": "code",
      "source": [
        "plt.imshow(lin_array[400:600, 300:600])"
      ],
      "metadata": {
        "colab": {
          "base_uri": "https://localhost:8080/",
          "height": 287
        },
        "id": "SPWDGYN_UZ-K",
        "outputId": "26715e4d-01a3-419c-ae49-57800ca0e3ab"
      },
      "execution_count": 119,
      "outputs": [
        {
          "output_type": "execute_result",
          "data": {
            "text/plain": [
              "<matplotlib.image.AxesImage at 0x7fc6a046d850>"
            ]
          },
          "metadata": {},
          "execution_count": 119
        },
        {
          "output_type": "display_data",
          "data": {
            "text/plain": [
              "<Figure size 432x288 with 1 Axes>"
            ],
            "image/png": "[encoded data removed]"
          },
          "metadata": {
            "needs_background": "light"
          }
        }
      ]
    },
    {
      "cell_type": "markdown",
      "source": [
        "## Pandas\n",
        "\n",
        "* Series\n",
        "* DataFrame"
      ],
      "metadata": {
        "id": "TbXTatM5Lc48"
      }
    },
    {
      "cell_type": "markdown",
      "source": [
        "### 讀取股價歷史資料"
      ],
      "metadata": {
        "id": "HmobT9_MXKfx"
      }
    },
    {
      "cell_type": "code",
      "source": [
        "!pip install yfinance"
      ],
      "metadata": {
        "id": "h_I-L1C4LUSd"
      },
      "execution_count": null,
      "outputs": []
    },
    {
      "cell_type": "code",
      "source": [
        "import yfinance as yf"
      ],
      "metadata": {
        "id": "mQnjnPaGOq5n"
      },
      "execution_count": 111,
      "outputs": []
    },
    {
      "cell_type": "code",
      "source": [
        "df = yf.download(\"TSLA\")"
      ],
      "metadata": {
        "colab": {
          "base_uri": "https://localhost:8080/"
        },
        "id": "FLzpu_a6PA13",
        "outputId": "06667809-abea-4f2b-f9c7-46d49f912ed7"
      },
      "execution_count": 112,
      "outputs": [
        {
          "output_type": "stream",
          "name": "stdout",
          "text": [
            "\r[*********************100%***********************]  1 of 1 completed\n"
          ]
        }
      ]
    },
    {
      "cell_type": "code",
      "source": [
        "type(df)"
      ],
      "metadata": {
        "colab": {
          "base_uri": "https://localhost:8080/"
        },
        "id": "a2mLAz59PIlp",
        "outputId": "e4c82356-5cb0-47ca-fe6c-ec5daca828cb"
      },
      "execution_count": 113,
      "outputs": [
        {
          "output_type": "execute_result",
          "data": {
            "text/plain": [
              "pandas.core.frame.DataFrame"
            ]
          },
          "metadata": {},
          "execution_count": 113
        }
      ]
    },
    {
      "cell_type": "markdown",
      "source": [
        "### 檢視股價歷史資料"
      ],
      "metadata": {
        "id": "l-UQ2Py1XOOJ"
      }
    },
    {
      "cell_type": "code",
      "source": [
        "# 檢視前五筆資料\n",
        "df.head()"
      ],
      "metadata": {
        "colab": {
          "base_uri": "https://localhost:8080/",
          "height": 237
        },
        "id": "8Sa4JZC-PlTn",
        "outputId": "5920c454-cf4d-42c5-a1ae-ad85431b952f"
      },
      "execution_count": 114,
      "outputs": [
        {
          "output_type": "execute_result",
          "data": {
            "text/plain": [
              "                Open      High       Low     Close  Adj Close     Volume\n",
              "Date                                                                    \n",
              "2010-06-29  1.266667  1.666667  1.169333  1.592667   1.592667  281494500\n",
              "2010-06-30  1.719333  2.028000  1.553333  1.588667   1.588667  257806500\n",
              "2010-07-01  1.666667  1.728000  1.351333  1.464000   1.464000  123282000\n",
              "2010-07-02  1.533333  1.540000  1.247333  1.280000   1.280000   77097000\n",
              "2010-07-06  1.333333  1.333333  1.055333  1.074000   1.074000  103003500"
            ],
            "text/html": [
              "\n",
              "  <div id=\"df-f966b5e8-0d07-4cf7-bc9c-39505e50bf84\">\n",
              "    <div class=\"colab-df-container\">\n",
              "      <div>\n",
              "<style scoped>\n",
              "    .dataframe tbody tr th:only-of-type {\n",
              "        vertical-align: middle;\n",
              "    }\n",
              "\n",
              "    .dataframe tbody tr th {\n",
              "        vertical-align: top;\n",
              "    }\n",
              "\n",
              "    .dataframe thead th {\n",
              "        text-align: right;\n",
              "    }\n",
              "</style>\n",
              "<table border=\"1\" class=\"dataframe\">\n",
              "  <thead>\n",
              "    <tr style=\"text-align: right;\">\n",
              "      <th></th>\n",
              "      <th>Open</th>\n",
              "      <th>High</th>\n",
              "      <th>Low</th>\n",
              "      <th>Close</th>\n",
              "      <th>Adj Close</th>\n",
              "      <th>Volume</th>\n",
              "    </tr>\n",
              "    <tr>\n",
              "      <th>Date</th>\n",
              "      <th></th>\n",
              "      <th></th>\n",
              "      <th></th>\n",
              "      <th></th>\n",
              "      <th></th>\n",
              "      <th></th>\n",
              "    </tr>\n",
              "  </thead>\n",
              "  <tbody>\n",
              "    <tr>\n",
              "      <th>2010-06-29</th>\n",
              "      <td>1.266667</td>\n",
              "      <td>1.666667</td>\n",
              "      <td>1.169333</td>\n",
              "      <td>1.592667</td>\n",
              "      <td>1.592667</td>\n",
              "      <td>281494500</td>\n",
              "    </tr>\n",
              "    <tr>\n",
              "      <th>2010-06-30</th>\n",
              "      <td>1.719333</td>\n",
              "      <td>2.028000</td>\n",
              "      <td>1.553333</td>\n",
              "      <td>1.588667</td>\n",
              "      <td>1.588667</td>\n",
              "      <td>257806500</td>\n",
              "    </tr>\n",
              "    <tr>\n",
              "      <th>2010-07-01</th>\n",
              "      <td>1.666667</td>\n",
              "      <td>1.728000</td>\n",
              "      <td>1.351333</td>\n",
              "      <td>1.464000</td>\n",
              "      <td>1.464000</td>\n",
              "      <td>123282000</td>\n",
              "    </tr>\n",
              "    <tr>\n",
              "      <th>2010-07-02</th>\n",
              "      <td>1.533333</td>\n",
              "      <td>1.540000</td>\n",
              "      <td>1.247333</td>\n",
              "      <td>1.280000</td>\n",
              "      <td>1.280000</td>\n",
              "      <td>77097000</td>\n",
              "    </tr>\n",
              "    <tr>\n",
              "      <th>2010-07-06</th>\n",
              "      <td>1.333333</td>\n",
              "      <td>1.333333</td>\n",
              "      <td>1.055333</td>\n",
              "      <td>1.074000</td>\n",
              "      <td>1.074000</td>\n",
              "      <td>103003500</td>\n",
              "    </tr>\n",
              "  </tbody>\n",
              "</table>\n",
              "</div>\n",
              "      <button class=\"colab-df-convert\" onclick=\"convertToInteractive('df-f966b5e8-0d07-4cf7-bc9c-39505e50bf84')\"\n",
              "              title=\"Convert this dataframe to an interactive table.\"\n",
              "              style=\"display:none;\">\n",
              "        \n",
              "  <svg xmlns=\"http://www.w3.org/2000/svg\" height=\"24px\"viewBox=\"0 0 24 24\"\n",
              "       width=\"24px\">\n",
              "    <path d=\"M0 0h24v24H0V0z\" fill=\"none\"/>\n",
              "    <path d=\"M18.56 5.44l.94 2.06.94-2.06 2.06-.94-2.06-.94-.94-2.06-.94 2.06-2.06.94zm-11 1L8.5 8.5l.94-2.06 2.06-.94-2.06-.94L8.5 2.5l-.94 2.06-2.06.94zm10 10l.94 2.06.94-2.06 2.06-.94-2.06-.94-.94-2.06-.94 2.06-2.06.94z\"/><path d=\"M17.41 7.96l-1.37-1.37c-.4-.4-.92-.59-1.43-.59-.52 0-1.04.2-1.43.59L10.3 9.45l-7.72 7.72c-.78.78-.78 2.05 0 2.83L4 21.41c.39.39.9.59 1.41.59.51 0 1.02-.2 1.41-.59l7.78-7.78 2.81-2.81c.8-.78.8-2.07 0-2.86zM5.41 20L4 18.59l7.72-7.72 1.47 1.35L5.41 20z\"/>\n",
              "  </svg>\n",
              "      </button>\n",
              "      \n",
              "  <style>\n",
              "    .colab-df-container {\n",
              "      display:flex;\n",
              "      flex-wrap:wrap;\n",
              "      gap: 12px;\n",
              "    }\n",
              "\n",
              "    .colab-df-convert {\n",
              "      background-color: #E8F0FE;\n",
              "      border: none;\n",
              "      border-radius: 50%;\n",
              "      cursor: pointer;\n",
              "      display: none;\n",
              "      fill: #1967D2;\n",
              "      height: 32px;\n",
              "      padding: 0 0 0 0;\n",
              "      width: 32px;\n",
              "    }\n",
              "\n",
              "    .colab-df-convert:hover {\n",
              "      background-color: #E2EBFA;\n",
              "      box-shadow: 0px 1px 2px rgba(60, 64, 67, 0.3), 0px 1px 3px 1px rgba(60, 64, 67, 0.15);\n",
              "      fill: #174EA6;\n",
              "    }\n",
              "\n",
              "    [theme=dark] .colab-df-convert {\n",
              "      background-color: #3B4455;\n",
              "      fill: #D2E3FC;\n",
              "    }\n",
              "\n",
              "    [theme=dark] .colab-df-convert:hover {\n",
              "      background-color: #434B5C;\n",
              "      box-shadow: 0px 1px 3px 1px rgba(0, 0, 0, 0.15);\n",
              "      filter: drop-shadow(0px 1px 2px rgba(0, 0, 0, 0.3));\n",
              "      fill: #FFFFFF;\n",
              "    }\n",
              "  </style>\n",
              "\n",
              "      <script>\n",
              "        const buttonEl =\n",
              "          document.querySelector('#df-f966b5e8-0d07-4cf7-bc9c-39505e50bf84 button.colab-df-convert');\n",
              "        buttonEl.style.display =\n",
              "          google.colab.kernel.accessAllowed ? 'block' : 'none';\n",
              "\n",
              "        async function convertToInteractive(key) {\n",
              "          const element = document.querySelector('#df-f966b5e8-0d07-4cf7-bc9c-39505e50bf84');\n",
              "          const dataTable =\n",
              "            await google.colab.kernel.invokeFunction('convertToInteractive',\n",
              "                                                     [key], {});\n",
              "          if (!dataTable) return;\n",
              "\n",
              "          const docLinkHtml = 'Like what you see? Visit the ' +\n",
              "            '<a target=\"_blank\" href=https://colab.research.google.com/notebooks/data_table.ipynb>data table notebook</a>'\n",
              "            + ' to learn more about interactive tables.';\n",
              "          element.innerHTML = '';\n",
              "          dataTable['output_type'] = 'display_data';\n",
              "          await google.colab.output.renderOutput(dataTable, element);\n",
              "          const docLink = document.createElement('div');\n",
              "          docLink.innerHTML = docLinkHtml;\n",
              "          element.appendChild(docLink);\n",
              "        }\n",
              "      </script>\n",
              "    </div>\n",
              "  </div>\n",
              "  "
            ]
          },
          "metadata": {},
          "execution_count": 114
        }
      ]
    },
    {
      "cell_type": "code",
      "source": [
        "# 檢視後五筆資料\n",
        "df.tail()"
      ],
      "metadata": {
        "colab": {
          "base_uri": "https://localhost:8080/",
          "height": 237
        },
        "id": "v8rpppCZP4-o",
        "outputId": "eb5b40a6-4a55-4943-f95f-d4c6fba7ac3b"
      },
      "execution_count": 115,
      "outputs": [
        {
          "output_type": "execute_result",
          "data": {
            "text/plain": [
              "                  Open        High         Low       Close   Adj Close  \\\n",
              "Date                                                                     \n",
              "2023-02-13  194.419998  196.300003  187.610001  194.639999  194.639999   \n",
              "2023-02-14  191.940002  209.820007  189.440002  209.250000  209.250000   \n",
              "2023-02-15  211.759995  214.660004  206.110001  214.240005  214.240005   \n",
              "2023-02-16  210.779999  217.649994  201.839996  202.039993  202.039993   \n",
              "2023-02-17  199.990005  208.440002  197.500000  208.309998  208.309998   \n",
              "\n",
              "               Volume  \n",
              "Date                   \n",
              "2023-02-13  172475500  \n",
              "2023-02-14  216455700  \n",
              "2023-02-15  182108600  \n",
              "2023-02-16  229586500  \n",
              "2023-02-17  213080200  "
            ],
            "text/html": [
              "\n",
              "  <div id=\"df-e6b1a04d-3c5c-43b7-98b7-108b4936859b\">\n",
              "    <div class=\"colab-df-container\">\n",
              "      <div>\n",
              "<style scoped>\n",
              "    .dataframe tbody tr th:only-of-type {\n",
              "        vertical-align: middle;\n",
              "    }\n",
              "\n",
              "    .dataframe tbody tr th {\n",
              "        vertical-align: top;\n",
              "    }\n",
              "\n",
              "    .dataframe thead th {\n",
              "        text-align: right;\n",
              "    }\n",
              "</style>\n",
              "<table border=\"1\" class=\"dataframe\">\n",
              "  <thead>\n",
              "    <tr style=\"text-align: right;\">\n",
              "      <th></th>\n",
              "      <th>Open</th>\n",
              "      <th>High</th>\n",
              "      <th>Low</th>\n",
              "      <th>Close</th>\n",
              "      <th>Adj Close</th>\n",
              "      <th>Volume</th>\n",
              "    </tr>\n",
              "    <tr>\n",
              "      <th>Date</th>\n",
              "      <th></th>\n",
              "      <th></th>\n",
              "      <th></th>\n",
              "      <th></th>\n",
              "      <th></th>\n",
              "      <th></th>\n",
              "    </tr>\n",
              "  </thead>\n",
              "  <tbody>\n",
              "    <tr>\n",
              "      <th>2023-02-13</th>\n",
              "      <td>194.419998</td>\n",
              "      <td>196.300003</td>\n",
              "      <td>187.610001</td>\n",
              "      <td>194.639999</td>\n",
              "      <td>194.639999</td>\n",
              "      <td>172475500</td>\n",
              "    </tr>\n",
              "    <tr>\n",
              "      <th>2023-02-14</th>\n",
              "      <td>191.940002</td>\n",
              "      <td>209.820007</td>\n",
              "      <td>189.440002</td>\n",
              "      <td>209.250000</td>\n",
              "      <td>209.250000</td>\n",
              "      <td>216455700</td>\n",
              "    </tr>\n",
              "    <tr>\n",
              "      <th>2023-02-15</th>\n",
              "      <td>211.759995</td>\n",
              "      <td>214.660004</td>\n",
              "      <td>206.110001</td>\n",
              "      <td>214.240005</td>\n",
              "      <td>214.240005</td>\n",
              "      <td>182108600</td>\n",
              "    </tr>\n",
              "    <tr>\n",
              "      <th>2023-02-16</th>\n",
              "      <td>210.779999</td>\n",
              "      <td>217.649994</td>\n",
              "      <td>201.839996</td>\n",
              "      <td>202.039993</td>\n",
              "      <td>202.039993</td>\n",
              "      <td>229586500</td>\n",
              "    </tr>\n",
              "    <tr>\n",
              "      <th>2023-02-17</th>\n",
              "      <td>199.990005</td>\n",
              "      <td>208.440002</td>\n",
              "      <td>197.500000</td>\n",
              "      <td>208.309998</td>\n",
              "      <td>208.309998</td>\n",
              "      <td>213080200</td>\n",
              "    </tr>\n",
              "  </tbody>\n",
              "</table>\n",
              "</div>\n",
              "      <button class=\"colab-df-convert\" onclick=\"convertToInteractive('df-e6b1a04d-3c5c-43b7-98b7-108b4936859b')\"\n",
              "              title=\"Convert this dataframe to an interactive table.\"\n",
              "              style=\"display:none;\">\n",
              "        \n",
              "  <svg xmlns=\"http://www.w3.org/2000/svg\" height=\"24px\"viewBox=\"0 0 24 24\"\n",
              "       width=\"24px\">\n",
              "    <path d=\"M0 0h24v24H0V0z\" fill=\"none\"/>\n",
              "    <path d=\"M18.56 5.44l.94 2.06.94-2.06 2.06-.94-2.06-.94-.94-2.06-.94 2.06-2.06.94zm-11 1L8.5 8.5l.94-2.06 2.06-.94-2.06-.94L8.5 2.5l-.94 2.06-2.06.94zm10 10l.94 2.06.94-2.06 2.06-.94-2.06-.94-.94-2.06-.94 2.06-2.06.94z\"/><path d=\"M17.41 7.96l-1.37-1.37c-.4-.4-.92-.59-1.43-.59-.52 0-1.04.2-1.43.59L10.3 9.45l-7.72 7.72c-.78.78-.78 2.05 0 2.83L4 21.41c.39.39.9.59 1.41.59.51 0 1.02-.2 1.41-.59l7.78-7.78 2.81-2.81c.8-.78.8-2.07 0-2.86zM5.41 20L4 18.59l7.72-7.72 1.47 1.35L5.41 20z\"/>\n",
              "  </svg>\n",
              "      </button>\n",
              "      \n",
              "  <style>\n",
              "    .colab-df-container {\n",
              "      display:flex;\n",
              "      flex-wrap:wrap;\n",
              "      gap: 12px;\n",
              "    }\n",
              "\n",
              "    .colab-df-convert {\n",
              "      background-color: #E8F0FE;\n",
              "      border: none;\n",
              "      border-radius: 50%;\n",
              "      cursor: pointer;\n",
              "      display: none;\n",
              "      fill: #1967D2;\n",
              "      height: 32px;\n",
              "      padding: 0 0 0 0;\n",
              "      width: 32px;\n",
              "    }\n",
              "\n",
              "    .colab-df-convert:hover {\n",
              "      background-color: #E2EBFA;\n",
              "      box-shadow: 0px 1px 2px rgba(60, 64, 67, 0.3), 0px 1px 3px 1px rgba(60, 64, 67, 0.15);\n",
              "      fill: #174EA6;\n",
              "    }\n",
              "\n",
              "    [theme=dark] .colab-df-convert {\n",
              "      background-color: #3B4455;\n",
              "      fill: #D2E3FC;\n",
              "    }\n",
              "\n",
              "    [theme=dark] .colab-df-convert:hover {\n",
              "      background-color: #434B5C;\n",
              "      box-shadow: 0px 1px 3px 1px rgba(0, 0, 0, 0.15);\n",
              "      filter: drop-shadow(0px 1px 2px rgba(0, 0, 0, 0.3));\n",
              "      fill: #FFFFFF;\n",
              "    }\n",
              "  </style>\n",
              "\n",
              "      <script>\n",
              "        const buttonEl =\n",
              "          document.querySelector('#df-e6b1a04d-3c5c-43b7-98b7-108b4936859b button.colab-df-convert');\n",
              "        buttonEl.style.display =\n",
              "          google.colab.kernel.accessAllowed ? 'block' : 'none';\n",
              "\n",
              "        async function convertToInteractive(key) {\n",
              "          const element = document.querySelector('#df-e6b1a04d-3c5c-43b7-98b7-108b4936859b');\n",
              "          const dataTable =\n",
              "            await google.colab.kernel.invokeFunction('convertToInteractive',\n",
              "                                                     [key], {});\n",
              "          if (!dataTable) return;\n",
              "\n",
              "          const docLinkHtml = 'Like what you see? Visit the ' +\n",
              "            '<a target=\"_blank\" href=https://colab.research.google.com/notebooks/data_table.ipynb>data table notebook</a>'\n",
              "            + ' to learn more about interactive tables.';\n",
              "          element.innerHTML = '';\n",
              "          dataTable['output_type'] = 'display_data';\n",
              "          await google.colab.output.renderOutput(dataTable, element);\n",
              "          const docLink = document.createElement('div');\n",
              "          docLink.innerHTML = docLinkHtml;\n",
              "          element.appendChild(docLink);\n",
              "        }\n",
              "      </script>\n",
              "    </div>\n",
              "  </div>\n",
              "  "
            ]
          },
          "metadata": {},
          "execution_count": 115
        }
      ]
    },
    {
      "cell_type": "code",
      "source": [
        "# 檢視資料的摘要\n",
        "df.info()"
      ],
      "metadata": {
        "colab": {
          "base_uri": "https://localhost:8080/"
        },
        "id": "-PiFWuC7QESB",
        "outputId": "978b956f-ba38-4f1a-a789-2749d3428bfa"
      },
      "execution_count": 116,
      "outputs": [
        {
          "output_type": "stream",
          "name": "stdout",
          "text": [
            "<class 'pandas.core.frame.DataFrame'>\n",
            "DatetimeIndex: 3183 entries, 2010-06-29 to 2023-02-17\n",
            "Data columns (total 6 columns):\n",
            " #   Column     Non-Null Count  Dtype  \n",
            "---  ------     --------------  -----  \n",
            " 0   Open       3183 non-null   float64\n",
            " 1   High       3183 non-null   float64\n",
            " 2   Low        3183 non-null   float64\n",
            " 3   Close      3183 non-null   float64\n",
            " 4   Adj Close  3183 non-null   float64\n",
            " 5   Volume     3183 non-null   int64  \n",
            "dtypes: float64(5), int64(1)\n",
            "memory usage: 174.1 KB\n"
          ]
        }
      ]
    },
    {
      "cell_type": "markdown",
      "source": [
        "### 練習\n",
        "\n",
        "抓取SP500成分股的 symbol。\n",
        "\n",
        "https://en.wikipedia.org/wiki/List_of_S%26P_500_companies"
      ],
      "metadata": {
        "id": "RBjO373AVk0r"
      }
    },
    {
      "cell_type": "code",
      "source": [
        "import pandas as pd"
      ],
      "metadata": {
        "id": "6Qxt-6ETQa3x"
      },
      "execution_count": 120,
      "outputs": []
    },
    {
      "cell_type": "code",
      "source": [
        "url = 'https://en.wikipedia.org/wiki/List_of_S%26P_500_companies'"
      ],
      "metadata": {
        "id": "KYdxidl5VslA"
      },
      "execution_count": 121,
      "outputs": []
    },
    {
      "cell_type": "code",
      "source": [
        "df_list = pd.read_html(url)"
      ],
      "metadata": {
        "id": "1v4ySk22VveG"
      },
      "execution_count": 122,
      "outputs": []
    },
    {
      "cell_type": "code",
      "source": [
        "df_list[0].Symbol"
      ],
      "metadata": {
        "colab": {
          "base_uri": "https://localhost:8080/"
        },
        "id": "_fq0i2a-V2Ju",
        "outputId": "089b79df-4a18-4cce-ae98-cba24d439d19"
      },
      "execution_count": 124,
      "outputs": [
        {
          "output_type": "execute_result",
          "data": {
            "text/plain": [
              "0       MMM\n",
              "1       AOS\n",
              "2       ABT\n",
              "3      ABBV\n",
              "4       ACN\n",
              "       ... \n",
              "498     YUM\n",
              "499    ZBRA\n",
              "500     ZBH\n",
              "501    ZION\n",
              "502     ZTS\n",
              "Name: Symbol, Length: 503, dtype: object"
            ]
          },
          "metadata": {},
          "execution_count": 124
        }
      ]
    },
    {
      "cell_type": "code",
      "source": [
        "SP500 = pd.read_html(url)[0].Symbol"
      ],
      "metadata": {
        "id": "z23XZ0B8V4TA"
      },
      "execution_count": 125,
      "outputs": []
    },
    {
      "cell_type": "markdown",
      "source": [
        "### 分析投資報酬率"
      ],
      "metadata": {
        "id": "5E6GM09sXIuO"
      }
    },
    {
      "cell_type": "code",
      "source": [
        "df.head()"
      ],
      "metadata": {
        "colab": {
          "base_uri": "https://localhost:8080/",
          "height": 237
        },
        "id": "TUOzHXkdWYz3",
        "outputId": "69df31c5-28b2-41db-b94e-a88c1cfe7643"
      },
      "execution_count": 126,
      "outputs": [
        {
          "output_type": "execute_result",
          "data": {
            "text/plain": [
              "                Open      High       Low     Close  Adj Close     Volume\n",
              "Date                                                                    \n",
              "2010-06-29  1.266667  1.666667  1.169333  1.592667   1.592667  281494500\n",
              "2010-06-30  1.719333  2.028000  1.553333  1.588667   1.588667  257806500\n",
              "2010-07-01  1.666667  1.728000  1.351333  1.464000   1.464000  123282000\n",
              "2010-07-02  1.533333  1.540000  1.247333  1.280000   1.280000   77097000\n",
              "2010-07-06  1.333333  1.333333  1.055333  1.074000   1.074000  103003500"
            ],
            "text/html": [
              "\n",
              "  <div id=\"df-4cdd85d8-dd2e-4ace-938a-ce0638090ebe\">\n",
              "    <div class=\"colab-df-container\">\n",
              "      <div>\n",
              "<style scoped>\n",
              "    .dataframe tbody tr th:only-of-type {\n",
              "        vertical-align: middle;\n",
              "    }\n",
              "\n",
              "    .dataframe tbody tr th {\n",
              "        vertical-align: top;\n",
              "    }\n",
              "\n",
              "    .dataframe thead th {\n",
              "        text-align: right;\n",
              "    }\n",
              "</style>\n",
              "<table border=\"1\" class=\"dataframe\">\n",
              "  <thead>\n",
              "    <tr style=\"text-align: right;\">\n",
              "      <th></th>\n",
              "      <th>Open</th>\n",
              "      <th>High</th>\n",
              "      <th>Low</th>\n",
              "      <th>Close</th>\n",
              "      <th>Adj Close</th>\n",
              "      <th>Volume</th>\n",
              "    </tr>\n",
              "    <tr>\n",
              "      <th>Date</th>\n",
              "      <th></th>\n",
              "      <th></th>\n",
              "      <th></th>\n",
              "      <th></th>\n",
              "      <th></th>\n",
              "      <th></th>\n",
              "    </tr>\n",
              "  </thead>\n",
              "  <tbody>\n",
              "    <tr>\n",
              "      <th>2010-06-29</th>\n",
              "      <td>1.266667</td>\n",
              "      <td>1.666667</td>\n",
              "      <td>1.169333</td>\n",
              "      <td>1.592667</td>\n",
              "      <td>1.592667</td>\n",
              "      <td>281494500</td>\n",
              "    </tr>\n",
              "    <tr>\n",
              "      <th>2010-06-30</th>\n",
              "      <td>1.719333</td>\n",
              "      <td>2.028000</td>\n",
              "      <td>1.553333</td>\n",
              "      <td>1.588667</td>\n",
              "      <td>1.588667</td>\n",
              "      <td>257806500</td>\n",
              "    </tr>\n",
              "    <tr>\n",
              "      <th>2010-07-01</th>\n",
              "      <td>1.666667</td>\n",
              "      <td>1.728000</td>\n",
              "      <td>1.351333</td>\n",
              "      <td>1.464000</td>\n",
              "      <td>1.464000</td>\n",
              "      <td>123282000</td>\n",
              "    </tr>\n",
              "    <tr>\n",
              "      <th>2010-07-02</th>\n",
              "      <td>1.533333</td>\n",
              "      <td>1.540000</td>\n",
              "      <td>1.247333</td>\n",
              "      <td>1.280000</td>\n",
              "      <td>1.280000</td>\n",
              "      <td>77097000</td>\n",
              "    </tr>\n",
              "    <tr>\n",
              "      <th>2010-07-06</th>\n",
              "      <td>1.333333</td>\n",
              "      <td>1.333333</td>\n",
              "      <td>1.055333</td>\n",
              "      <td>1.074000</td>\n",
              "      <td>1.074000</td>\n",
              "      <td>103003500</td>\n",
              "    </tr>\n",
              "  </tbody>\n",
              "</table>\n",
              "</div>\n",
              "      <button class=\"colab-df-convert\" onclick=\"convertToInteractive('df-4cdd85d8-dd2e-4ace-938a-ce0638090ebe')\"\n",
              "              title=\"Convert this dataframe to an interactive table.\"\n",
              "              style=\"display:none;\">\n",
              "        \n",
              "  <svg xmlns=\"http://www.w3.org/2000/svg\" height=\"24px\"viewBox=\"0 0 24 24\"\n",
              "       width=\"24px\">\n",
              "    <path d=\"M0 0h24v24H0V0z\" fill=\"none\"/>\n",
              "    <path d=\"M18.56 5.44l.94 2.06.94-2.06 2.06-.94-2.06-.94-.94-2.06-.94 2.06-2.06.94zm-11 1L8.5 8.5l.94-2.06 2.06-.94-2.06-.94L8.5 2.5l-.94 2.06-2.06.94zm10 10l.94 2.06.94-2.06 2.06-.94-2.06-.94-.94-2.06-.94 2.06-2.06.94z\"/><path d=\"M17.41 7.96l-1.37-1.37c-.4-.4-.92-.59-1.43-.59-.52 0-1.04.2-1.43.59L10.3 9.45l-7.72 7.72c-.78.78-.78 2.05 0 2.83L4 21.41c.39.39.9.59 1.41.59.51 0 1.02-.2 1.41-.59l7.78-7.78 2.81-2.81c.8-.78.8-2.07 0-2.86zM5.41 20L4 18.59l7.72-7.72 1.47 1.35L5.41 20z\"/>\n",
              "  </svg>\n",
              "      </button>\n",
              "      \n",
              "  <style>\n",
              "    .colab-df-container {\n",
              "      display:flex;\n",
              "      flex-wrap:wrap;\n",
              "      gap: 12px;\n",
              "    }\n",
              "\n",
              "    .colab-df-convert {\n",
              "      background-color: #E8F0FE;\n",
              "      border: none;\n",
              "      border-radius: 50%;\n",
              "      cursor: pointer;\n",
              "      display: none;\n",
              "      fill: #1967D2;\n",
              "      height: 32px;\n",
              "      padding: 0 0 0 0;\n",
              "      width: 32px;\n",
              "    }\n",
              "\n",
              "    .colab-df-convert:hover {\n",
              "      background-color: #E2EBFA;\n",
              "      box-shadow: 0px 1px 2px rgba(60, 64, 67, 0.3), 0px 1px 3px 1px rgba(60, 64, 67, 0.15);\n",
              "      fill: #174EA6;\n",
              "    }\n",
              "\n",
              "    [theme=dark] .colab-df-convert {\n",
              "      background-color: #3B4455;\n",
              "      fill: #D2E3FC;\n",
              "    }\n",
              "\n",
              "    [theme=dark] .colab-df-convert:hover {\n",
              "      background-color: #434B5C;\n",
              "      box-shadow: 0px 1px 3px 1px rgba(0, 0, 0, 0.15);\n",
              "      filter: drop-shadow(0px 1px 2px rgba(0, 0, 0, 0.3));\n",
              "      fill: #FFFFFF;\n",
              "    }\n",
              "  </style>\n",
              "\n",
              "      <script>\n",
              "        const buttonEl =\n",
              "          document.querySelector('#df-4cdd85d8-dd2e-4ace-938a-ce0638090ebe button.colab-df-convert');\n",
              "        buttonEl.style.display =\n",
              "          google.colab.kernel.accessAllowed ? 'block' : 'none';\n",
              "\n",
              "        async function convertToInteractive(key) {\n",
              "          const element = document.querySelector('#df-4cdd85d8-dd2e-4ace-938a-ce0638090ebe');\n",
              "          const dataTable =\n",
              "            await google.colab.kernel.invokeFunction('convertToInteractive',\n",
              "                                                     [key], {});\n",
              "          if (!dataTable) return;\n",
              "\n",
              "          const docLinkHtml = 'Like what you see? Visit the ' +\n",
              "            '<a target=\"_blank\" href=https://colab.research.google.com/notebooks/data_table.ipynb>data table notebook</a>'\n",
              "            + ' to learn more about interactive tables.';\n",
              "          element.innerHTML = '';\n",
              "          dataTable['output_type'] = 'display_data';\n",
              "          await google.colab.output.renderOutput(dataTable, element);\n",
              "          const docLink = document.createElement('div');\n",
              "          docLink.innerHTML = docLinkHtml;\n",
              "          element.appendChild(docLink);\n",
              "        }\n",
              "      </script>\n",
              "    </div>\n",
              "  </div>\n",
              "  "
            ]
          },
          "metadata": {},
          "execution_count": 126
        }
      ]
    },
    {
      "cell_type": "code",
      "source": [
        "type(df)"
      ],
      "metadata": {
        "colab": {
          "base_uri": "https://localhost:8080/"
        },
        "id": "fxfzMfNgXjSx",
        "outputId": "c369e1de-fe23-4d4e-8f78-6251fa04bb83"
      },
      "execution_count": 127,
      "outputs": [
        {
          "output_type": "execute_result",
          "data": {
            "text/plain": [
              "pandas.core.frame.DataFrame"
            ]
          },
          "metadata": {},
          "execution_count": 127
        }
      ]
    },
    {
      "cell_type": "markdown",
      "source": [
        "#### 讀取單一個欄位"
      ],
      "metadata": {
        "id": "FBF9TqMpXqTc"
      }
    },
    {
      "cell_type": "code",
      "source": [
        "df.Close"
      ],
      "metadata": {
        "colab": {
          "base_uri": "https://localhost:8080/"
        },
        "id": "LjclbBXaXmDd",
        "outputId": "177060ad-7345-46e3-d614-9813748bd186"
      },
      "execution_count": 128,
      "outputs": [
        {
          "output_type": "execute_result",
          "data": {
            "text/plain": [
              "Date\n",
              "2010-06-29      1.592667\n",
              "2010-06-30      1.588667\n",
              "2010-07-01      1.464000\n",
              "2010-07-02      1.280000\n",
              "2010-07-06      1.074000\n",
              "                 ...    \n",
              "2023-02-13    194.639999\n",
              "2023-02-14    209.250000\n",
              "2023-02-15    214.240005\n",
              "2023-02-16    202.039993\n",
              "2023-02-17    208.309998\n",
              "Name: Close, Length: 3183, dtype: float64"
            ]
          },
          "metadata": {},
          "execution_count": 128
        }
      ]
    },
    {
      "cell_type": "code",
      "source": [
        "df['Close']"
      ],
      "metadata": {
        "colab": {
          "base_uri": "https://localhost:8080/"
        },
        "id": "AB8CLm4HX19P",
        "outputId": "3df6dafc-c330-402a-c384-ef75d4ca78a5"
      },
      "execution_count": 129,
      "outputs": [
        {
          "output_type": "execute_result",
          "data": {
            "text/plain": [
              "Date\n",
              "2010-06-29      1.592667\n",
              "2010-06-30      1.588667\n",
              "2010-07-01      1.464000\n",
              "2010-07-02      1.280000\n",
              "2010-07-06      1.074000\n",
              "                 ...    \n",
              "2023-02-13    194.639999\n",
              "2023-02-14    209.250000\n",
              "2023-02-15    214.240005\n",
              "2023-02-16    202.039993\n",
              "2023-02-17    208.309998\n",
              "Name: Close, Length: 3183, dtype: float64"
            ]
          },
          "metadata": {},
          "execution_count": 129
        }
      ]
    },
    {
      "cell_type": "code",
      "source": [
        "type(df.Close)"
      ],
      "metadata": {
        "colab": {
          "base_uri": "https://localhost:8080/"
        },
        "id": "daQRqqiBX4mr",
        "outputId": "de2f2afb-b6e7-44f0-9b8b-4b0a5bafd1aa"
      },
      "execution_count": 130,
      "outputs": [
        {
          "output_type": "execute_result",
          "data": {
            "text/plain": [
              "pandas.core.series.Series"
            ]
          },
          "metadata": {},
          "execution_count": 130
        }
      ]
    },
    {
      "cell_type": "code",
      "source": [
        "df[['Open', 'Close']]"
      ],
      "metadata": {
        "colab": {
          "base_uri": "https://localhost:8080/",
          "height": 455
        },
        "id": "jVEZByE6X7lT",
        "outputId": "9406ee13-eb34-4387-9983-39c0fc957bbd"
      },
      "execution_count": 131,
      "outputs": [
        {
          "output_type": "execute_result",
          "data": {
            "text/plain": [
              "                  Open       Close\n",
              "Date                              \n",
              "2010-06-29    1.266667    1.592667\n",
              "2010-06-30    1.719333    1.588667\n",
              "2010-07-01    1.666667    1.464000\n",
              "2010-07-02    1.533333    1.280000\n",
              "2010-07-06    1.333333    1.074000\n",
              "...                ...         ...\n",
              "2023-02-13  194.419998  194.639999\n",
              "2023-02-14  191.940002  209.250000\n",
              "2023-02-15  211.759995  214.240005\n",
              "2023-02-16  210.779999  202.039993\n",
              "2023-02-17  199.990005  208.309998\n",
              "\n",
              "[3183 rows x 2 columns]"
            ],
            "text/html": [
              "\n",
              "  <div id=\"df-e65b5fa5-99c6-4d79-9678-a67ffb412100\">\n",
              "    <div class=\"colab-df-container\">\n",
              "      <div>\n",
              "<style scoped>\n",
              "    .dataframe tbody tr th:only-of-type {\n",
              "        vertical-align: middle;\n",
              "    }\n",
              "\n",
              "    .dataframe tbody tr th {\n",
              "        vertical-align: top;\n",
              "    }\n",
              "\n",
              "    .dataframe thead th {\n",
              "        text-align: right;\n",
              "    }\n",
              "</style>\n",
              "<table border=\"1\" class=\"dataframe\">\n",
              "  <thead>\n",
              "    <tr style=\"text-align: right;\">\n",
              "      <th></th>\n",
              "      <th>Open</th>\n",
              "      <th>Close</th>\n",
              "    </tr>\n",
              "    <tr>\n",
              "      <th>Date</th>\n",
              "      <th></th>\n",
              "      <th></th>\n",
              "    </tr>\n",
              "  </thead>\n",
              "  <tbody>\n",
              "    <tr>\n",
              "      <th>2010-06-29</th>\n",
              "      <td>1.266667</td>\n",
              "      <td>1.592667</td>\n",
              "    </tr>\n",
              "    <tr>\n",
              "      <th>2010-06-30</th>\n",
              "      <td>1.719333</td>\n",
              "      <td>1.588667</td>\n",
              "    </tr>\n",
              "    <tr>\n",
              "      <th>2010-07-01</th>\n",
              "      <td>1.666667</td>\n",
              "      <td>1.464000</td>\n",
              "    </tr>\n",
              "    <tr>\n",
              "      <th>2010-07-02</th>\n",
              "      <td>1.533333</td>\n",
              "      <td>1.280000</td>\n",
              "    </tr>\n",
              "    <tr>\n",
              "      <th>2010-07-06</th>\n",
              "      <td>1.333333</td>\n",
              "      <td>1.074000</td>\n",
              "    </tr>\n",
              "    <tr>\n",
              "      <th>...</th>\n",
              "      <td>...</td>\n",
              "      <td>...</td>\n",
              "    </tr>\n",
              "    <tr>\n",
              "      <th>2023-02-13</th>\n",
              "      <td>194.419998</td>\n",
              "      <td>194.639999</td>\n",
              "    </tr>\n",
              "    <tr>\n",
              "      <th>2023-02-14</th>\n",
              "      <td>191.940002</td>\n",
              "      <td>209.250000</td>\n",
              "    </tr>\n",
              "    <tr>\n",
              "      <th>2023-02-15</th>\n",
              "      <td>211.759995</td>\n",
              "      <td>214.240005</td>\n",
              "    </tr>\n",
              "    <tr>\n",
              "      <th>2023-02-16</th>\n",
              "      <td>210.779999</td>\n",
              "      <td>202.039993</td>\n",
              "    </tr>\n",
              "    <tr>\n",
              "      <th>2023-02-17</th>\n",
              "      <td>199.990005</td>\n",
              "      <td>208.309998</td>\n",
              "    </tr>\n",
              "  </tbody>\n",
              "</table>\n",
              "<p>3183 rows × 2 columns</p>\n",
              "</div>\n",
              "      <button class=\"colab-df-convert\" onclick=\"convertToInteractive('df-e65b5fa5-99c6-4d79-9678-a67ffb412100')\"\n",
              "              title=\"Convert this dataframe to an interactive table.\"\n",
              "              style=\"display:none;\">\n",
              "        \n",
              "  <svg xmlns=\"http://www.w3.org/2000/svg\" height=\"24px\"viewBox=\"0 0 24 24\"\n",
              "       width=\"24px\">\n",
              "    <path d=\"M0 0h24v24H0V0z\" fill=\"none\"/>\n",
              "    <path d=\"M18.56 5.44l.94 2.06.94-2.06 2.06-.94-2.06-.94-.94-2.06-.94 2.06-2.06.94zm-11 1L8.5 8.5l.94-2.06 2.06-.94-2.06-.94L8.5 2.5l-.94 2.06-2.06.94zm10 10l.94 2.06.94-2.06 2.06-.94-2.06-.94-.94-2.06-.94 2.06-2.06.94z\"/><path d=\"M17.41 7.96l-1.37-1.37c-.4-.4-.92-.59-1.43-.59-.52 0-1.04.2-1.43.59L10.3 9.45l-7.72 7.72c-.78.78-.78 2.05 0 2.83L4 21.41c.39.39.9.59 1.41.59.51 0 1.02-.2 1.41-.59l7.78-7.78 2.81-2.81c.8-.78.8-2.07 0-2.86zM5.41 20L4 18.59l7.72-7.72 1.47 1.35L5.41 20z\"/>\n",
              "  </svg>\n",
              "      </button>\n",
              "      \n",
              "  <style>\n",
              "    .colab-df-container {\n",
              "      display:flex;\n",
              "      flex-wrap:wrap;\n",
              "      gap: 12px;\n",
              "    }\n",
              "\n",
              "    .colab-df-convert {\n",
              "      background-color: #E8F0FE;\n",
              "      border: none;\n",
              "      border-radius: 50%;\n",
              "      cursor: pointer;\n",
              "      display: none;\n",
              "      fill: #1967D2;\n",
              "      height: 32px;\n",
              "      padding: 0 0 0 0;\n",
              "      width: 32px;\n",
              "    }\n",
              "\n",
              "    .colab-df-convert:hover {\n",
              "      background-color: #E2EBFA;\n",
              "      box-shadow: 0px 1px 2px rgba(60, 64, 67, 0.3), 0px 1px 3px 1px rgba(60, 64, 67, 0.15);\n",
              "      fill: #174EA6;\n",
              "    }\n",
              "\n",
              "    [theme=dark] .colab-df-convert {\n",
              "      background-color: #3B4455;\n",
              "      fill: #D2E3FC;\n",
              "    }\n",
              "\n",
              "    [theme=dark] .colab-df-convert:hover {\n",
              "      background-color: #434B5C;\n",
              "      box-shadow: 0px 1px 3px 1px rgba(0, 0, 0, 0.15);\n",
              "      filter: drop-shadow(0px 1px 2px rgba(0, 0, 0, 0.3));\n",
              "      fill: #FFFFFF;\n",
              "    }\n",
              "  </style>\n",
              "\n",
              "      <script>\n",
              "        const buttonEl =\n",
              "          document.querySelector('#df-e65b5fa5-99c6-4d79-9678-a67ffb412100 button.colab-df-convert');\n",
              "        buttonEl.style.display =\n",
              "          google.colab.kernel.accessAllowed ? 'block' : 'none';\n",
              "\n",
              "        async function convertToInteractive(key) {\n",
              "          const element = document.querySelector('#df-e65b5fa5-99c6-4d79-9678-a67ffb412100');\n",
              "          const dataTable =\n",
              "            await google.colab.kernel.invokeFunction('convertToInteractive',\n",
              "                                                     [key], {});\n",
              "          if (!dataTable) return;\n",
              "\n",
              "          const docLinkHtml = 'Like what you see? Visit the ' +\n",
              "            '<a target=\"_blank\" href=https://colab.research.google.com/notebooks/data_table.ipynb>data table notebook</a>'\n",
              "            + ' to learn more about interactive tables.';\n",
              "          element.innerHTML = '';\n",
              "          dataTable['output_type'] = 'display_data';\n",
              "          await google.colab.output.renderOutput(dataTable, element);\n",
              "          const docLink = document.createElement('div');\n",
              "          docLink.innerHTML = docLinkHtml;\n",
              "          element.appendChild(docLink);\n",
              "        }\n",
              "      </script>\n",
              "    </div>\n",
              "  </div>\n",
              "  "
            ]
          },
          "metadata": {},
          "execution_count": 131
        }
      ]
    },
    {
      "cell_type": "code",
      "source": [
        "df.head?"
      ],
      "metadata": {
        "id": "bP2dsfohZZ3t"
      },
      "execution_count": 132,
      "outputs": []
    },
    {
      "cell_type": "markdown",
      "source": [
        "#### 計算投資報酬率"
      ],
      "metadata": {
        "id": "8WKD77ADbkUe"
      }
    },
    {
      "cell_type": "code",
      "source": [
        "df.Close"
      ],
      "metadata": {
        "colab": {
          "base_uri": "https://localhost:8080/"
        },
        "id": "dLYj5GlIbMLM",
        "outputId": "9f4d4eab-a2d4-476c-9397-7d98bfc751c0"
      },
      "execution_count": 134,
      "outputs": [
        {
          "output_type": "execute_result",
          "data": {
            "text/plain": [
              "Date\n",
              "2010-06-29      1.592667\n",
              "2010-06-30      1.588667\n",
              "2010-07-01      1.464000\n",
              "2010-07-02      1.280000\n",
              "2010-07-06      1.074000\n",
              "                 ...    \n",
              "2023-02-13    194.639999\n",
              "2023-02-14    209.250000\n",
              "2023-02-15    214.240005\n",
              "2023-02-16    202.039993\n",
              "2023-02-17    208.309998\n",
              "Name: Close, Length: 3183, dtype: float64"
            ]
          },
          "metadata": {},
          "execution_count": 134
        }
      ]
    },
    {
      "cell_type": "code",
      "source": [
        "df.Close[0]"
      ],
      "metadata": {
        "colab": {
          "base_uri": "https://localhost:8080/"
        },
        "id": "SwkV7vBjb4Ar",
        "outputId": "a9d8fd5a-5954-4825-a15b-2a5b1b4480ea"
      },
      "execution_count": 135,
      "outputs": [
        {
          "output_type": "execute_result",
          "data": {
            "text/plain": [
              "1.5926669836044312"
            ]
          },
          "metadata": {},
          "execution_count": 135
        }
      ]
    },
    {
      "cell_type": "code",
      "source": [
        "df.Close[-1]"
      ],
      "metadata": {
        "colab": {
          "base_uri": "https://localhost:8080/"
        },
        "id": "jL9BZidAcIH0",
        "outputId": "8d7fed77-7549-412b-f211-0e1be69af835"
      },
      "execution_count": 136,
      "outputs": [
        {
          "output_type": "execute_result",
          "data": {
            "text/plain": [
              "208.30999755859375"
            ]
          },
          "metadata": {},
          "execution_count": 136
        }
      ]
    },
    {
      "cell_type": "code",
      "source": [
        "df.Close[-1]/df.Close[0]"
      ],
      "metadata": {
        "colab": {
          "base_uri": "https://localhost:8080/"
        },
        "id": "WmzU4LsKcKtS",
        "outputId": "4c467c10-b3ac-4542-ca64-0d092fdbab8c"
      },
      "execution_count": 137,
      "outputs": [
        {
          "output_type": "execute_result",
          "data": {
            "text/plain": [
              "130.79319135953875"
            ]
          },
          "metadata": {},
          "execution_count": 137
        }
      ]
    },
    {
      "cell_type": "code",
      "source": [
        "ret = df.Close[-1]/df.Close[0]"
      ],
      "metadata": {
        "id": "2fgqstMncSNK"
      },
      "execution_count": 138,
      "outputs": []
    },
    {
      "cell_type": "code",
      "source": [
        "ret"
      ],
      "metadata": {
        "colab": {
          "base_uri": "https://localhost:8080/"
        },
        "id": "GYscy2lYd_ym",
        "outputId": "b70d9bda-a1d5-4779-ad83-25b7c721349c"
      },
      "execution_count": 140,
      "outputs": [
        {
          "output_type": "execute_result",
          "data": {
            "text/plain": [
              "130.79319135953875"
            ]
          },
          "metadata": {},
          "execution_count": 140
        }
      ]
    },
    {
      "cell_type": "markdown",
      "source": [
        "#### 計算2023年初買進持有到現在的資產變化"
      ],
      "metadata": {
        "id": "poAgjBxYe4-5"
      }
    },
    {
      "cell_type": "code",
      "source": [
        "df['2023'].Close[0]"
      ],
      "metadata": {
        "colab": {
          "base_uri": "https://localhost:8080/"
        },
        "id": "_Ic9_VMdeKg8",
        "outputId": "080539aa-633f-41f4-9b5b-aaad0d5b0c64"
      },
      "execution_count": 141,
      "outputs": [
        {
          "output_type": "stream",
          "name": "stderr",
          "text": [
            "<ipython-input-141-219dca36fd8f>:1: FutureWarning: Indexing a DataFrame with a datetimelike index using a single string to slice the rows, like `frame[string]`, is deprecated and will be removed in a future version. Use `frame.loc[string]` instead.\n",
            "  df['2023'].Close[0]\n"
          ]
        },
        {
          "output_type": "execute_result",
          "data": {
            "text/plain": [
              "108.0999984741211"
            ]
          },
          "metadata": {},
          "execution_count": 141
        }
      ]
    },
    {
      "cell_type": "code",
      "source": [
        "df.loc['2023'].Close[0]"
      ],
      "metadata": {
        "colab": {
          "base_uri": "https://localhost:8080/"
        },
        "id": "y9OOueMxfHi5",
        "outputId": "ed8c83c1-0f29-4b9e-8c9b-31b9d64478ad"
      },
      "execution_count": 142,
      "outputs": [
        {
          "output_type": "execute_result",
          "data": {
            "text/plain": [
              "108.0999984741211"
            ]
          },
          "metadata": {},
          "execution_count": 142
        }
      ]
    },
    {
      "cell_type": "code",
      "source": [
        "df.loc['2023'].Close[-1]/df.loc['2023'].Close[0]"
      ],
      "metadata": {
        "colab": {
          "base_uri": "https://localhost:8080/"
        },
        "id": "ualGwI_KfTRt",
        "outputId": "3981c1bb-84d8-408b-d1a9-1c66ba070abf"
      },
      "execution_count": 143,
      "outputs": [
        {
          "output_type": "execute_result",
          "data": {
            "text/plain": [
              "1.9270120305178609"
            ]
          },
          "metadata": {},
          "execution_count": 143
        }
      ]
    },
    {
      "cell_type": "markdown",
      "source": [
        "#### 計算2022年十月初買進持有到2023年一月底的資產變化"
      ],
      "metadata": {
        "id": "GuCEjMq2ihIK"
      }
    },
    {
      "cell_type": "code",
      "source": [
        "df.loc['2022-10':'2023-01'].Close[-1]/df.loc['2022-10':'2023-01'].Close[0]"
      ],
      "metadata": {
        "colab": {
          "base_uri": "https://localhost:8080/"
        },
        "id": "GJtmiZ_kfaOo",
        "outputId": "87b046d0-8291-4853-f5b4-69174b0f5d8b"
      },
      "execution_count": 145,
      "outputs": [
        {
          "output_type": "execute_result",
          "data": {
            "text/plain": [
              "0.7146039834253288"
            ]
          },
          "metadata": {},
          "execution_count": 145
        }
      ]
    },
    {
      "cell_type": "code",
      "source": [
        "df.loc['2022-10':'2023-01']"
      ],
      "metadata": {
        "colab": {
          "base_uri": "https://localhost:8080/",
          "height": 455
        },
        "id": "dPgVy5mEivTm",
        "outputId": "770f9f9d-940d-4d42-abea-e173edbbb101"
      },
      "execution_count": 146,
      "outputs": [
        {
          "output_type": "execute_result",
          "data": {
            "text/plain": [
              "                  Open        High         Low       Close   Adj Close  \\\n",
              "Date                                                                     \n",
              "2022-10-03  254.500000  255.160004  241.009995  242.399994  242.399994   \n",
              "2022-10-04  250.520004  257.500000  242.009995  249.440002  249.440002   \n",
              "2022-10-05  245.009995  246.669998  233.270004  240.809998  240.809998   \n",
              "2022-10-06  239.440002  244.580002  235.350006  238.130005  238.130005   \n",
              "2022-10-07  233.940002  234.570007  222.020004  223.070007  223.070007   \n",
              "...                ...         ...         ...         ...         ...   \n",
              "2023-01-25  141.910004  146.410004  138.070007  144.429993  144.429993   \n",
              "2023-01-26  159.970001  161.419998  154.759995  160.270004  160.270004   \n",
              "2023-01-27  162.429993  180.679993  161.169998  177.899994  177.899994   \n",
              "2023-01-30  178.050003  179.770004  166.500000  166.660004  166.660004   \n",
              "2023-01-31  164.570007  174.300003  162.779999  173.220001  173.220001   \n",
              "\n",
              "               Volume  \n",
              "Date                   \n",
              "2022-10-03   98363500  \n",
              "2022-10-04  109578500  \n",
              "2022-10-05   86982700  \n",
              "2022-10-06   69298400  \n",
              "2022-10-07   83916800  \n",
              "...               ...  \n",
              "2023-01-25  192734300  \n",
              "2023-01-26  234815100  \n",
              "2023-01-27  305632100  \n",
              "2023-01-30  230878800  \n",
              "2023-01-31  196813500  \n",
              "\n",
              "[83 rows x 6 columns]"
            ],
            "text/html": [
              "\n",
              "  <div id=\"df-59ea9c15-da45-4a8c-a7b2-b58be3af2679\">\n",
              "    <div class=\"colab-df-container\">\n",
              "      <div>\n",
              "<style scoped>\n",
              "    .dataframe tbody tr th:only-of-type {\n",
              "        vertical-align: middle;\n",
              "    }\n",
              "\n",
              "    .dataframe tbody tr th {\n",
              "        vertical-align: top;\n",
              "    }\n",
              "\n",
              "    .dataframe thead th {\n",
              "        text-align: right;\n",
              "    }\n",
              "</style>\n",
              "<table border=\"1\" class=\"dataframe\">\n",
              "  <thead>\n",
              "    <tr style=\"text-align: right;\">\n",
              "      <th></th>\n",
              "      <th>Open</th>\n",
              "      <th>High</th>\n",
              "      <th>Low</th>\n",
              "      <th>Close</th>\n",
              "      <th>Adj Close</th>\n",
              "      <th>Volume</th>\n",
              "    </tr>\n",
              "    <tr>\n",
              "      <th>Date</th>\n",
              "      <th></th>\n",
              "      <th></th>\n",
              "      <th></th>\n",
              "      <th></th>\n",
              "      <th></th>\n",
              "      <th></th>\n",
              "    </tr>\n",
              "  </thead>\n",
              "  <tbody>\n",
              "    <tr>\n",
              "      <th>2022-10-03</th>\n",
              "      <td>254.500000</td>\n",
              "      <td>255.160004</td>\n",
              "      <td>241.009995</td>\n",
              "      <td>242.399994</td>\n",
              "      <td>242.399994</td>\n",
              "      <td>98363500</td>\n",
              "    </tr>\n",
              "    <tr>\n",
              "      <th>2022-10-04</th>\n",
              "      <td>250.520004</td>\n",
              "      <td>257.500000</td>\n",
              "      <td>242.009995</td>\n",
              "      <td>249.440002</td>\n",
              "      <td>249.440002</td>\n",
              "      <td>109578500</td>\n",
              "    </tr>\n",
              "    <tr>\n",
              "      <th>2022-10-05</th>\n",
              "      <td>245.009995</td>\n",
              "      <td>246.669998</td>\n",
              "      <td>233.270004</td>\n",
              "      <td>240.809998</td>\n",
              "      <td>240.809998</td>\n",
              "      <td>86982700</td>\n",
              "    </tr>\n",
              "    <tr>\n",
              "      <th>2022-10-06</th>\n",
              "      <td>239.440002</td>\n",
              "      <td>244.580002</td>\n",
              "      <td>235.350006</td>\n",
              "      <td>238.130005</td>\n",
              "      <td>238.130005</td>\n",
              "      <td>69298400</td>\n",
              "    </tr>\n",
              "    <tr>\n",
              "      <th>2022-10-07</th>\n",
              "      <td>233.940002</td>\n",
              "      <td>234.570007</td>\n",
              "      <td>222.020004</td>\n",
              "      <td>223.070007</td>\n",
              "      <td>223.070007</td>\n",
              "      <td>83916800</td>\n",
              "    </tr>\n",
              "    <tr>\n",
              "      <th>...</th>\n",
              "      <td>...</td>\n",
              "      <td>...</td>\n",
              "      <td>...</td>\n",
              "      <td>...</td>\n",
              "      <td>...</td>\n",
              "      <td>...</td>\n",
              "    </tr>\n",
              "    <tr>\n",
              "      <th>2023-01-25</th>\n",
              "      <td>141.910004</td>\n",
              "      <td>146.410004</td>\n",
              "      <td>138.070007</td>\n",
              "      <td>144.429993</td>\n",
              "      <td>144.429993</td>\n",
              "      <td>192734300</td>\n",
              "    </tr>\n",
              "    <tr>\n",
              "      <th>2023-01-26</th>\n",
              "      <td>159.970001</td>\n",
              "      <td>161.419998</td>\n",
              "      <td>154.759995</td>\n",
              "      <td>160.270004</td>\n",
              "      <td>160.270004</td>\n",
              "      <td>234815100</td>\n",
              "    </tr>\n",
              "    <tr>\n",
              "      <th>2023-01-27</th>\n",
              "      <td>162.429993</td>\n",
              "      <td>180.679993</td>\n",
              "      <td>161.169998</td>\n",
              "      <td>177.899994</td>\n",
              "      <td>177.899994</td>\n",
              "      <td>305632100</td>\n",
              "    </tr>\n",
              "    <tr>\n",
              "      <th>2023-01-30</th>\n",
              "      <td>178.050003</td>\n",
              "      <td>179.770004</td>\n",
              "      <td>166.500000</td>\n",
              "      <td>166.660004</td>\n",
              "      <td>166.660004</td>\n",
              "      <td>230878800</td>\n",
              "    </tr>\n",
              "    <tr>\n",
              "      <th>2023-01-31</th>\n",
              "      <td>164.570007</td>\n",
              "      <td>174.300003</td>\n",
              "      <td>162.779999</td>\n",
              "      <td>173.220001</td>\n",
              "      <td>173.220001</td>\n",
              "      <td>196813500</td>\n",
              "    </tr>\n",
              "  </tbody>\n",
              "</table>\n",
              "<p>83 rows × 6 columns</p>\n",
              "</div>\n",
              "      <button class=\"colab-df-convert\" onclick=\"convertToInteractive('df-59ea9c15-da45-4a8c-a7b2-b58be3af2679')\"\n",
              "              title=\"Convert this dataframe to an interactive table.\"\n",
              "              style=\"display:none;\">\n",
              "        \n",
              "  <svg xmlns=\"http://www.w3.org/2000/svg\" height=\"24px\"viewBox=\"0 0 24 24\"\n",
              "       width=\"24px\">\n",
              "    <path d=\"M0 0h24v24H0V0z\" fill=\"none\"/>\n",
              "    <path d=\"M18.56 5.44l.94 2.06.94-2.06 2.06-.94-2.06-.94-.94-2.06-.94 2.06-2.06.94zm-11 1L8.5 8.5l.94-2.06 2.06-.94-2.06-.94L8.5 2.5l-.94 2.06-2.06.94zm10 10l.94 2.06.94-2.06 2.06-.94-2.06-.94-.94-2.06-.94 2.06-2.06.94z\"/><path d=\"M17.41 7.96l-1.37-1.37c-.4-.4-.92-.59-1.43-.59-.52 0-1.04.2-1.43.59L10.3 9.45l-7.72 7.72c-.78.78-.78 2.05 0 2.83L4 21.41c.39.39.9.59 1.41.59.51 0 1.02-.2 1.41-.59l7.78-7.78 2.81-2.81c.8-.78.8-2.07 0-2.86zM5.41 20L4 18.59l7.72-7.72 1.47 1.35L5.41 20z\"/>\n",
              "  </svg>\n",
              "      </button>\n",
              "      \n",
              "  <style>\n",
              "    .colab-df-container {\n",
              "      display:flex;\n",
              "      flex-wrap:wrap;\n",
              "      gap: 12px;\n",
              "    }\n",
              "\n",
              "    .colab-df-convert {\n",
              "      background-color: #E8F0FE;\n",
              "      border: none;\n",
              "      border-radius: 50%;\n",
              "      cursor: pointer;\n",
              "      display: none;\n",
              "      fill: #1967D2;\n",
              "      height: 32px;\n",
              "      padding: 0 0 0 0;\n",
              "      width: 32px;\n",
              "    }\n",
              "\n",
              "    .colab-df-convert:hover {\n",
              "      background-color: #E2EBFA;\n",
              "      box-shadow: 0px 1px 2px rgba(60, 64, 67, 0.3), 0px 1px 3px 1px rgba(60, 64, 67, 0.15);\n",
              "      fill: #174EA6;\n",
              "    }\n",
              "\n",
              "    [theme=dark] .colab-df-convert {\n",
              "      background-color: #3B4455;\n",
              "      fill: #D2E3FC;\n",
              "    }\n",
              "\n",
              "    [theme=dark] .colab-df-convert:hover {\n",
              "      background-color: #434B5C;\n",
              "      box-shadow: 0px 1px 3px 1px rgba(0, 0, 0, 0.15);\n",
              "      filter: drop-shadow(0px 1px 2px rgba(0, 0, 0, 0.3));\n",
              "      fill: #FFFFFF;\n",
              "    }\n",
              "  </style>\n",
              "\n",
              "      <script>\n",
              "        const buttonEl =\n",
              "          document.querySelector('#df-59ea9c15-da45-4a8c-a7b2-b58be3af2679 button.colab-df-convert');\n",
              "        buttonEl.style.display =\n",
              "          google.colab.kernel.accessAllowed ? 'block' : 'none';\n",
              "\n",
              "        async function convertToInteractive(key) {\n",
              "          const element = document.querySelector('#df-59ea9c15-da45-4a8c-a7b2-b58be3af2679');\n",
              "          const dataTable =\n",
              "            await google.colab.kernel.invokeFunction('convertToInteractive',\n",
              "                                                     [key], {});\n",
              "          if (!dataTable) return;\n",
              "\n",
              "          const docLinkHtml = 'Like what you see? Visit the ' +\n",
              "            '<a target=\"_blank\" href=https://colab.research.google.com/notebooks/data_table.ipynb>data table notebook</a>'\n",
              "            + ' to learn more about interactive tables.';\n",
              "          element.innerHTML = '';\n",
              "          dataTable['output_type'] = 'display_data';\n",
              "          await google.colab.output.renderOutput(dataTable, element);\n",
              "          const docLink = document.createElement('div');\n",
              "          docLink.innerHTML = docLinkHtml;\n",
              "          element.appendChild(docLink);\n",
              "        }\n",
              "      </script>\n",
              "    </div>\n",
              "  </div>\n",
              "  "
            ]
          },
          "metadata": {},
          "execution_count": 146
        }
      ]
    },
    {
      "cell_type": "markdown",
      "source": [
        "### 資料視覺化"
      ],
      "metadata": {
        "id": "vAUnS5pPj_l-"
      }
    },
    {
      "cell_type": "markdown",
      "source": [
        "#### 繪製收盤曲線"
      ],
      "metadata": {
        "id": "Ti1fNi9_kHCW"
      }
    },
    {
      "cell_type": "code",
      "source": [
        "df.loc['2023']"
      ],
      "metadata": {
        "colab": {
          "base_uri": "https://localhost:8080/",
          "height": 1000
        },
        "id": "WzIwUb9fjEkN",
        "outputId": "c31b3faf-f1da-46a7-bb5d-538581355bba"
      },
      "execution_count": 147,
      "outputs": [
        {
          "output_type": "execute_result",
          "data": {
            "text/plain": [
              "                  Open        High         Low       Close   Adj Close  \\\n",
              "Date                                                                     \n",
              "2023-01-03  118.470001  118.800003  104.639999  108.099998  108.099998   \n",
              "2023-01-04  109.110001  114.589996  107.519997  113.639999  113.639999   \n",
              "2023-01-05  110.510002  111.750000  107.160004  110.339996  110.339996   \n",
              "2023-01-06  103.000000  114.389999  101.809998  113.059998  113.059998   \n",
              "2023-01-09  118.959999  123.519997  117.110001  119.769997  119.769997   \n",
              "2023-01-10  121.070000  122.760002  114.919998  118.849998  118.849998   \n",
              "2023-01-11  122.089996  125.949997  120.510002  123.220001  123.220001   \n",
              "2023-01-12  122.559998  124.129997  117.000000  123.559998  123.559998   \n",
              "2023-01-13  116.550003  122.629997  115.599998  122.400002  122.400002   \n",
              "2023-01-17  125.699997  131.699997  125.019997  131.490005  131.490005   \n",
              "2023-01-18  136.559998  136.679993  127.010002  128.779999  128.779999   \n",
              "2023-01-19  127.260002  129.990005  124.309998  127.169998  127.169998   \n",
              "2023-01-20  128.679993  133.509995  127.349998  133.419998  133.419998   \n",
              "2023-01-23  135.869995  145.380005  134.270004  143.750000  143.750000   \n",
              "2023-01-24  143.000000  146.500000  141.100006  143.889999  143.889999   \n",
              "2023-01-25  141.910004  146.410004  138.070007  144.429993  144.429993   \n",
              "2023-01-26  159.970001  161.419998  154.759995  160.270004  160.270004   \n",
              "2023-01-27  162.429993  180.679993  161.169998  177.899994  177.899994   \n",
              "2023-01-30  178.050003  179.770004  166.500000  166.660004  166.660004   \n",
              "2023-01-31  164.570007  174.300003  162.779999  173.220001  173.220001   \n",
              "2023-02-01  173.889999  183.809998  169.929993  181.410004  181.410004   \n",
              "2023-02-02  187.330002  196.750000  182.610001  188.270004  188.270004   \n",
              "2023-02-03  183.949997  199.000000  183.690002  189.979996  189.979996   \n",
              "2023-02-06  193.009995  198.169998  189.919998  194.759995  194.759995   \n",
              "2023-02-07  196.429993  197.500000  189.550003  196.809998  196.809998   \n",
              "2023-02-08  196.100006  203.000000  194.309998  201.289993  201.289993   \n",
              "2023-02-09  207.779999  214.000000  204.770004  207.320007  207.320007   \n",
              "2023-02-10  202.229996  206.199997  192.889999  196.889999  196.889999   \n",
              "2023-02-13  194.419998  196.300003  187.610001  194.639999  194.639999   \n",
              "2023-02-14  191.940002  209.820007  189.440002  209.250000  209.250000   \n",
              "2023-02-15  211.759995  214.660004  206.110001  214.240005  214.240005   \n",
              "2023-02-16  210.779999  217.649994  201.839996  202.039993  202.039993   \n",
              "2023-02-17  199.990005  208.440002  197.500000  208.309998  208.309998   \n",
              "\n",
              "               Volume  \n",
              "Date                   \n",
              "2023-01-03  231402800  \n",
              "2023-01-04  180389000  \n",
              "2023-01-05  157986300  \n",
              "2023-01-06  220575900  \n",
              "2023-01-09  190284000  \n",
              "2023-01-10  167642500  \n",
              "2023-01-11  183810800  \n",
              "2023-01-12  169400900  \n",
              "2023-01-13  180439300  \n",
              "2023-01-17  186477000  \n",
              "2023-01-18  195680300  \n",
              "2023-01-19  170291900  \n",
              "2023-01-20  138429900  \n",
              "2023-01-23  203119200  \n",
              "2023-01-24  158699100  \n",
              "2023-01-25  192734300  \n",
              "2023-01-26  234815100  \n",
              "2023-01-27  305632100  \n",
              "2023-01-30  230878800  \n",
              "2023-01-31  196813500  \n",
              "2023-02-01  213806300  \n",
              "2023-02-02  217448300  \n",
              "2023-02-03  231684200  \n",
              "2023-02-06  186188100  \n",
              "2023-02-07  186010300  \n",
              "2023-02-08  180673600  \n",
              "2023-02-09  215431400  \n",
              "2023-02-10  204193800  \n",
              "2023-02-13  172475500  \n",
              "2023-02-14  216455700  \n",
              "2023-02-15  182108600  \n",
              "2023-02-16  229586500  \n",
              "2023-02-17  213080200  "
            ],
            "text/html": [
              "\n",
              "  <div id=\"df-8f271627-c4d0-4a9c-8be7-7ac5eb0ddaf5\">\n",
              "    <div class=\"colab-df-container\">\n",
              "      <div>\n",
              "<style scoped>\n",
              "    .dataframe tbody tr th:only-of-type {\n",
              "        vertical-align: middle;\n",
              "    }\n",
              "\n",
              "    .dataframe tbody tr th {\n",
              "        vertical-align: top;\n",
              "    }\n",
              "\n",
              "    .dataframe thead th {\n",
              "        text-align: right;\n",
              "    }\n",
              "</style>\n",
              "<table border=\"1\" class=\"dataframe\">\n",
              "  <thead>\n",
              "    <tr style=\"text-align: right;\">\n",
              "      <th></th>\n",
              "      <th>Open</th>\n",
              "      <th>High</th>\n",
              "      <th>Low</th>\n",
              "      <th>Close</th>\n",
              "      <th>Adj Close</th>\n",
              "      <th>Volume</th>\n",
              "    </tr>\n",
              "    <tr>\n",
              "      <th>Date</th>\n",
              "      <th></th>\n",
              "      <th></th>\n",
              "      <th></th>\n",
              "      <th></th>\n",
              "      <th></th>\n",
              "      <th></th>\n",
              "    </tr>\n",
              "  </thead>\n",
              "  <tbody>\n",
              "    <tr>\n",
              "      <th>2023-01-03</th>\n",
              "      <td>118.470001</td>\n",
              "      <td>118.800003</td>\n",
              "      <td>104.639999</td>\n",
              "      <td>108.099998</td>\n",
              "      <td>108.099998</td>\n",
              "      <td>231402800</td>\n",
              "    </tr>\n",
              "    <tr>\n",
              "      <th>2023-01-04</th>\n",
              "      <td>109.110001</td>\n",
              "      <td>114.589996</td>\n",
              "      <td>107.519997</td>\n",
              "      <td>113.639999</td>\n",
              "      <td>113.639999</td>\n",
              "      <td>180389000</td>\n",
              "    </tr>\n",
              "    <tr>\n",
              "      <th>2023-01-05</th>\n",
              "      <td>110.510002</td>\n",
              "      <td>111.750000</td>\n",
              "      <td>107.160004</td>\n",
              "      <td>110.339996</td>\n",
              "      <td>110.339996</td>\n",
              "      <td>157986300</td>\n",
              "    </tr>\n",
              "    <tr>\n",
              "      <th>2023-01-06</th>\n",
              "      <td>103.000000</td>\n",
              "      <td>114.389999</td>\n",
              "      <td>101.809998</td>\n",
              "      <td>113.059998</td>\n",
              "      <td>113.059998</td>\n",
              "      <td>220575900</td>\n",
              "    </tr>\n",
              "    <tr>\n",
              "      <th>2023-01-09</th>\n",
              "      <td>118.959999</td>\n",
              "      <td>123.519997</td>\n",
              "      <td>117.110001</td>\n",
              "      <td>119.769997</td>\n",
              "      <td>119.769997</td>\n",
              "      <td>190284000</td>\n",
              "    </tr>\n",
              "    <tr>\n",
              "      <th>2023-01-10</th>\n",
              "      <td>121.070000</td>\n",
              "      <td>122.760002</td>\n",
              "      <td>114.919998</td>\n",
              "      <td>118.849998</td>\n",
              "      <td>118.849998</td>\n",
              "      <td>167642500</td>\n",
              "    </tr>\n",
              "    <tr>\n",
              "      <th>2023-01-11</th>\n",
              "      <td>122.089996</td>\n",
              "      <td>125.949997</td>\n",
              "      <td>120.510002</td>\n",
              "      <td>123.220001</td>\n",
              "      <td>123.220001</td>\n",
              "      <td>183810800</td>\n",
              "    </tr>\n",
              "    <tr>\n",
              "      <th>2023-01-12</th>\n",
              "      <td>122.559998</td>\n",
              "      <td>124.129997</td>\n",
              "      <td>117.000000</td>\n",
              "      <td>123.559998</td>\n",
              "      <td>123.559998</td>\n",
              "      <td>169400900</td>\n",
              "    </tr>\n",
              "    <tr>\n",
              "      <th>2023-01-13</th>\n",
              "      <td>116.550003</td>\n",
              "      <td>122.629997</td>\n",
              "      <td>115.599998</td>\n",
              "      <td>122.400002</td>\n",
              "      <td>122.400002</td>\n",
              "      <td>180439300</td>\n",
              "    </tr>\n",
              "    <tr>\n",
              "      <th>2023-01-17</th>\n",
              "      <td>125.699997</td>\n",
              "      <td>131.699997</td>\n",
              "      <td>125.019997</td>\n",
              "      <td>131.490005</td>\n",
              "      <td>131.490005</td>\n",
              "      <td>186477000</td>\n",
              "    </tr>\n",
              "    <tr>\n",
              "      <th>2023-01-18</th>\n",
              "      <td>136.559998</td>\n",
              "      <td>136.679993</td>\n",
              "      <td>127.010002</td>\n",
              "      <td>128.779999</td>\n",
              "      <td>128.779999</td>\n",
              "      <td>195680300</td>\n",
              "    </tr>\n",
              "    <tr>\n",
              "      <th>2023-01-19</th>\n",
              "      <td>127.260002</td>\n",
              "      <td>129.990005</td>\n",
              "      <td>124.309998</td>\n",
              "      <td>127.169998</td>\n",
              "      <td>127.169998</td>\n",
              "      <td>170291900</td>\n",
              "    </tr>\n",
              "    <tr>\n",
              "      <th>2023-01-20</th>\n",
              "      <td>128.679993</td>\n",
              "      <td>133.509995</td>\n",
              "      <td>127.349998</td>\n",
              "      <td>133.419998</td>\n",
              "      <td>133.419998</td>\n",
              "      <td>138429900</td>\n",
              "    </tr>\n",
              "    <tr>\n",
              "      <th>2023-01-23</th>\n",
              "      <td>135.869995</td>\n",
              "      <td>145.380005</td>\n",
              "      <td>134.270004</td>\n",
              "      <td>143.750000</td>\n",
              "      <td>143.750000</td>\n",
              "      <td>203119200</td>\n",
              "    </tr>\n",
              "    <tr>\n",
              "      <th>2023-01-24</th>\n",
              "      <td>143.000000</td>\n",
              "      <td>146.500000</td>\n",
              "      <td>141.100006</td>\n",
              "      <td>143.889999</td>\n",
              "      <td>143.889999</td>\n",
              "      <td>158699100</td>\n",
              "    </tr>\n",
              "    <tr>\n",
              "      <th>2023-01-25</th>\n",
              "      <td>141.910004</td>\n",
              "      <td>146.410004</td>\n",
              "      <td>138.070007</td>\n",
              "      <td>144.429993</td>\n",
              "      <td>144.429993</td>\n",
              "      <td>192734300</td>\n",
              "    </tr>\n",
              "    <tr>\n",
              "      <th>2023-01-26</th>\n",
              "      <td>159.970001</td>\n",
              "      <td>161.419998</td>\n",
              "      <td>154.759995</td>\n",
              "      <td>160.270004</td>\n",
              "      <td>160.270004</td>\n",
              "      <td>234815100</td>\n",
              "    </tr>\n",
              "    <tr>\n",
              "      <th>2023-01-27</th>\n",
              "      <td>162.429993</td>\n",
              "      <td>180.679993</td>\n",
              "      <td>161.169998</td>\n",
              "      <td>177.899994</td>\n",
              "      <td>177.899994</td>\n",
              "      <td>305632100</td>\n",
              "    </tr>\n",
              "    <tr>\n",
              "      <th>2023-01-30</th>\n",
              "      <td>178.050003</td>\n",
              "      <td>179.770004</td>\n",
              "      <td>166.500000</td>\n",
              "      <td>166.660004</td>\n",
              "      <td>166.660004</td>\n",
              "      <td>230878800</td>\n",
              "    </tr>\n",
              "    <tr>\n",
              "      <th>2023-01-31</th>\n",
              "      <td>164.570007</td>\n",
              "      <td>174.300003</td>\n",
              "      <td>162.779999</td>\n",
              "      <td>173.220001</td>\n",
              "      <td>173.220001</td>\n",
              "      <td>196813500</td>\n",
              "    </tr>\n",
              "    <tr>\n",
              "      <th>2023-02-01</th>\n",
              "      <td>173.889999</td>\n",
              "      <td>183.809998</td>\n",
              "      <td>169.929993</td>\n",
              "      <td>181.410004</td>\n",
              "      <td>181.410004</td>\n",
              "      <td>213806300</td>\n",
              "    </tr>\n",
              "    <tr>\n",
              "      <th>2023-02-02</th>\n",
              "      <td>187.330002</td>\n",
              "      <td>196.750000</td>\n",
              "      <td>182.610001</td>\n",
              "      <td>188.270004</td>\n",
              "      <td>188.270004</td>\n",
              "      <td>217448300</td>\n",
              "    </tr>\n",
              "    <tr>\n",
              "      <th>2023-02-03</th>\n",
              "      <td>183.949997</td>\n",
              "      <td>199.000000</td>\n",
              "      <td>183.690002</td>\n",
              "      <td>189.979996</td>\n",
              "      <td>189.979996</td>\n",
              "      <td>231684200</td>\n",
              "    </tr>\n",
              "    <tr>\n",
              "      <th>2023-02-06</th>\n",
              "      <td>193.009995</td>\n",
              "      <td>198.169998</td>\n",
              "      <td>189.919998</td>\n",
              "      <td>194.759995</td>\n",
              "      <td>194.759995</td>\n",
              "      <td>186188100</td>\n",
              "    </tr>\n",
              "    <tr>\n",
              "      <th>2023-02-07</th>\n",
              "      <td>196.429993</td>\n",
              "      <td>197.500000</td>\n",
              "      <td>189.550003</td>\n",
              "      <td>196.809998</td>\n",
              "      <td>196.809998</td>\n",
              "      <td>186010300</td>\n",
              "    </tr>\n",
              "    <tr>\n",
              "      <th>2023-02-08</th>\n",
              "      <td>196.100006</td>\n",
              "      <td>203.000000</td>\n",
              "      <td>194.309998</td>\n",
              "      <td>201.289993</td>\n",
              "      <td>201.289993</td>\n",
              "      <td>180673600</td>\n",
              "    </tr>\n",
              "    <tr>\n",
              "      <th>2023-02-09</th>\n",
              "      <td>207.779999</td>\n",
              "      <td>214.000000</td>\n",
              "      <td>204.770004</td>\n",
              "      <td>207.320007</td>\n",
              "      <td>207.320007</td>\n",
              "      <td>215431400</td>\n",
              "    </tr>\n",
              "    <tr>\n",
              "      <th>2023-02-10</th>\n",
              "      <td>202.229996</td>\n",
              "      <td>206.199997</td>\n",
              "      <td>192.889999</td>\n",
              "      <td>196.889999</td>\n",
              "      <td>196.889999</td>\n",
              "      <td>204193800</td>\n",
              "    </tr>\n",
              "    <tr>\n",
              "      <th>2023-02-13</th>\n",
              "      <td>194.419998</td>\n",
              "      <td>196.300003</td>\n",
              "      <td>187.610001</td>\n",
              "      <td>194.639999</td>\n",
              "      <td>194.639999</td>\n",
              "      <td>172475500</td>\n",
              "    </tr>\n",
              "    <tr>\n",
              "      <th>2023-02-14</th>\n",
              "      <td>191.940002</td>\n",
              "      <td>209.820007</td>\n",
              "      <td>189.440002</td>\n",
              "      <td>209.250000</td>\n",
              "      <td>209.250000</td>\n",
              "      <td>216455700</td>\n",
              "    </tr>\n",
              "    <tr>\n",
              "      <th>2023-02-15</th>\n",
              "      <td>211.759995</td>\n",
              "      <td>214.660004</td>\n",
              "      <td>206.110001</td>\n",
              "      <td>214.240005</td>\n",
              "      <td>214.240005</td>\n",
              "      <td>182108600</td>\n",
              "    </tr>\n",
              "    <tr>\n",
              "      <th>2023-02-16</th>\n",
              "      <td>210.779999</td>\n",
              "      <td>217.649994</td>\n",
              "      <td>201.839996</td>\n",
              "      <td>202.039993</td>\n",
              "      <td>202.039993</td>\n",
              "      <td>229586500</td>\n",
              "    </tr>\n",
              "    <tr>\n",
              "      <th>2023-02-17</th>\n",
              "      <td>199.990005</td>\n",
              "      <td>208.440002</td>\n",
              "      <td>197.500000</td>\n",
              "      <td>208.309998</td>\n",
              "      <td>208.309998</td>\n",
              "      <td>213080200</td>\n",
              "    </tr>\n",
              "  </tbody>\n",
              "</table>\n",
              "</div>\n",
              "      <button class=\"colab-df-convert\" onclick=\"convertToInteractive('df-8f271627-c4d0-4a9c-8be7-7ac5eb0ddaf5')\"\n",
              "              title=\"Convert this dataframe to an interactive table.\"\n",
              "              style=\"display:none;\">\n",
              "        \n",
              "  <svg xmlns=\"http://www.w3.org/2000/svg\" height=\"24px\"viewBox=\"0 0 24 24\"\n",
              "       width=\"24px\">\n",
              "    <path d=\"M0 0h24v24H0V0z\" fill=\"none\"/>\n",
              "    <path d=\"M18.56 5.44l.94 2.06.94-2.06 2.06-.94-2.06-.94-.94-2.06-.94 2.06-2.06.94zm-11 1L8.5 8.5l.94-2.06 2.06-.94-2.06-.94L8.5 2.5l-.94 2.06-2.06.94zm10 10l.94 2.06.94-2.06 2.06-.94-2.06-.94-.94-2.06-.94 2.06-2.06.94z\"/><path d=\"M17.41 7.96l-1.37-1.37c-.4-.4-.92-.59-1.43-.59-.52 0-1.04.2-1.43.59L10.3 9.45l-7.72 7.72c-.78.78-.78 2.05 0 2.83L4 21.41c.39.39.9.59 1.41.59.51 0 1.02-.2 1.41-.59l7.78-7.78 2.81-2.81c.8-.78.8-2.07 0-2.86zM5.41 20L4 18.59l7.72-7.72 1.47 1.35L5.41 20z\"/>\n",
              "  </svg>\n",
              "      </button>\n",
              "      \n",
              "  <style>\n",
              "    .colab-df-container {\n",
              "      display:flex;\n",
              "      flex-wrap:wrap;\n",
              "      gap: 12px;\n",
              "    }\n",
              "\n",
              "    .colab-df-convert {\n",
              "      background-color: #E8F0FE;\n",
              "      border: none;\n",
              "      border-radius: 50%;\n",
              "      cursor: pointer;\n",
              "      display: none;\n",
              "      fill: #1967D2;\n",
              "      height: 32px;\n",
              "      padding: 0 0 0 0;\n",
              "      width: 32px;\n",
              "    }\n",
              "\n",
              "    .colab-df-convert:hover {\n",
              "      background-color: #E2EBFA;\n",
              "      box-shadow: 0px 1px 2px rgba(60, 64, 67, 0.3), 0px 1px 3px 1px rgba(60, 64, 67, 0.15);\n",
              "      fill: #174EA6;\n",
              "    }\n",
              "\n",
              "    [theme=dark] .colab-df-convert {\n",
              "      background-color: #3B4455;\n",
              "      fill: #D2E3FC;\n",
              "    }\n",
              "\n",
              "    [theme=dark] .colab-df-convert:hover {\n",
              "      background-color: #434B5C;\n",
              "      box-shadow: 0px 1px 3px 1px rgba(0, 0, 0, 0.15);\n",
              "      filter: drop-shadow(0px 1px 2px rgba(0, 0, 0, 0.3));\n",
              "      fill: #FFFFFF;\n",
              "    }\n",
              "  </style>\n",
              "\n",
              "      <script>\n",
              "        const buttonEl =\n",
              "          document.querySelector('#df-8f271627-c4d0-4a9c-8be7-7ac5eb0ddaf5 button.colab-df-convert');\n",
              "        buttonEl.style.display =\n",
              "          google.colab.kernel.accessAllowed ? 'block' : 'none';\n",
              "\n",
              "        async function convertToInteractive(key) {\n",
              "          const element = document.querySelector('#df-8f271627-c4d0-4a9c-8be7-7ac5eb0ddaf5');\n",
              "          const dataTable =\n",
              "            await google.colab.kernel.invokeFunction('convertToInteractive',\n",
              "                                                     [key], {});\n",
              "          if (!dataTable) return;\n",
              "\n",
              "          const docLinkHtml = 'Like what you see? Visit the ' +\n",
              "            '<a target=\"_blank\" href=https://colab.research.google.com/notebooks/data_table.ipynb>data table notebook</a>'\n",
              "            + ' to learn more about interactive tables.';\n",
              "          element.innerHTML = '';\n",
              "          dataTable['output_type'] = 'display_data';\n",
              "          await google.colab.output.renderOutput(dataTable, element);\n",
              "          const docLink = document.createElement('div');\n",
              "          docLink.innerHTML = docLinkHtml;\n",
              "          element.appendChild(docLink);\n",
              "        }\n",
              "      </script>\n",
              "    </div>\n",
              "  </div>\n",
              "  "
            ]
          },
          "metadata": {},
          "execution_count": 147
        }
      ]
    },
    {
      "cell_type": "code",
      "source": [
        "df.loc['2023'].Close.plot()"
      ],
      "metadata": {
        "colab": {
          "base_uri": "https://localhost:8080/",
          "height": 303
        },
        "id": "hMzSdF4ukOKN",
        "outputId": "bbdb7ec5-5967-4597-df5d-bd74b1e83759"
      },
      "execution_count": 149,
      "outputs": [
        {
          "output_type": "execute_result",
          "data": {
            "text/plain": [
              "<matplotlib.axes._subplots.AxesSubplot at 0x7fc6a0212e20>"
            ]
          },
          "metadata": {},
          "execution_count": 149
        },
        {
          "output_type": "display_data",
          "data": {
            "text/plain": [
              "<Figure size 432x288 with 1 Axes>"
            ],
            "image/png": "[encoded data removed]"
          },
          "metadata": {
            "needs_background": "light"
          }
        }
      ]
    },
    {
      "cell_type": "code",
      "source": [
        "df.loc['2022':].Close.plot()"
      ],
      "metadata": {
        "colab": {
          "base_uri": "https://localhost:8080/",
          "height": 295
        },
        "id": "JlQc9c7EkhOk",
        "outputId": "3db730c7-76d0-446b-9eac-b60b3484d62c"
      },
      "execution_count": 150,
      "outputs": [
        {
          "output_type": "execute_result",
          "data": {
            "text/plain": [
              "<matplotlib.axes._subplots.AxesSubplot at 0x7fc6a01707f0>"
            ]
          },
          "metadata": {},
          "execution_count": 150
        },
        {
          "output_type": "display_data",
          "data": {
            "text/plain": [
              "<Figure size 432x288 with 1 Axes>"
            ],
            "image/png": "[encoded data removed]"
          },
          "metadata": {
            "needs_background": "light"
          }
        }
      ]
    },
    {
      "cell_type": "markdown",
      "source": [
        "#### 繪製K線圖\n",
        "\n",
        "https://github.com/matplotlib/mplfinance"
      ],
      "metadata": {
        "id": "dmO4HiD4lfJN"
      }
    },
    {
      "cell_type": "code",
      "source": [
        "!pip install mplfinance"
      ],
      "metadata": {
        "colab": {
          "base_uri": "https://localhost:8080/"
        },
        "id": "NZBJBXImnATf",
        "outputId": "d9f5af92-f1b0-42e5-9a94-a81e81f5563e"
      },
      "execution_count": 152,
      "outputs": [
        {
          "output_type": "stream",
          "name": "stdout",
          "text": [
            "Looking in indexes: https://pypi.org/simple, https://us-python.pkg.dev/colab-wheels/public/simple/\n",
            "Collecting mplfinance\n",
            "  Downloading mplfinance-0.12.9b7-py3-none-any.whl (73 kB)\n",
            "\u001b[2K     \u001b[90m━━━━━━━━━━━━━━━━━━━━━━━━━━━━━━━━━━━━━━━━\u001b[0m \u001b[32m73.1/73.1 KB\u001b[0m \u001b[31m6.8 MB/s\u001b[0m eta \u001b[36m0:00:00\u001b[0m\n",
            "\u001b[?25hRequirement already satisfied: matplotlib in /usr/local/lib/python3.8/dist-packages (from mplfinance) (3.2.2)\n",
            "Requirement already satisfied: pandas in /usr/local/lib/python3.8/dist-packages (from mplfinance) (1.3.5)\n",
            "Requirement already satisfied: cycler>=0.10 in /usr/local/lib/python3.8/dist-packages (from matplotlib->mplfinance) (0.11.0)\n",
            "Requirement already satisfied: numpy>=1.11 in /usr/local/lib/python3.8/dist-packages (from matplotlib->mplfinance) (1.21.6)\n",
            "Requirement already satisfied: kiwisolver>=1.0.1 in /usr/local/lib/python3.8/dist-packages (from matplotlib->mplfinance) (1.4.4)\n",
            "Requirement already satisfied: pyparsing!=2.0.4,!=2.1.2,!=2.1.6,>=2.0.1 in /usr/local/lib/python3.8/dist-packages (from matplotlib->mplfinance) (3.0.9)\n",
            "Requirement already satisfied: python-dateutil>=2.1 in /usr/local/lib/python3.8/dist-packages (from matplotlib->mplfinance) (2.8.2)\n",
            "Requirement already satisfied: pytz>=2017.3 in /usr/local/lib/python3.8/dist-packages (from pandas->mplfinance) (2022.7.1)\n",
            "Requirement already satisfied: six>=1.5 in /usr/local/lib/python3.8/dist-packages (from python-dateutil>=2.1->matplotlib->mplfinance) (1.15.0)\n",
            "Installing collected packages: mplfinance\n",
            "Successfully installed mplfinance-0.12.9b7\n"
          ]
        }
      ]
    },
    {
      "cell_type": "code",
      "source": [
        "import mplfinance as mpf"
      ],
      "metadata": {
        "id": "wR1_5QIjk14K"
      },
      "execution_count": 153,
      "outputs": []
    },
    {
      "cell_type": "code",
      "source": [
        "mpf.plot(df,type='candle')"
      ],
      "metadata": {
        "colab": {
          "base_uri": "https://localhost:8080/",
          "height": 791
        },
        "id": "sgKnFitCm4lL",
        "outputId": "fd427889-7b53-4e32-a24d-8132f81c6d8a"
      },
      "execution_count": 154,
      "outputs": [
        {
          "output_type": "stream",
          "name": "stderr",
          "text": [
            "/usr/local/lib/python3.8/dist-packages/mplfinance/_arg_validators.py:83: UserWarning: \n",
            "\n",
            " ================================================================= \n",
            "\n",
            "   WARNING: YOU ARE PLOTTING SO MUCH DATA THAT IT MAY NOT BE\n",
            "            POSSIBLE TO SEE DETAILS (Candles, Ohlc-Bars, Etc.)\n",
            "   For more information see:\n",
            "   - https://github.com/matplotlib/mplfinance/wiki/Plotting-Too-Much-Data\n",
            "   \n",
            "   TO SILENCE THIS WARNING, set `type='line'` in `mpf.plot()`\n",
            "   OR set kwarg `warn_too_much_data=N` where N is an integer \n",
            "   LARGER than the number of data points you want to plot.\n",
            "\n",
            " ================================================================ \n",
            "  warnings.warn('\\n\\n ================================================================= '+\n"
          ]
        },
        {
          "output_type": "display_data",
          "data": {
            "text/plain": [
              "<Figure size 800x575 with 2 Axes>"
            ],
            "image/png": "[encoded data removed]"
          },
          "metadata": {}
        }
      ]
    },
    {
      "cell_type": "code",
      "source": [
        "mpf.plot(df.tail(50),type='candle')"
      ],
      "metadata": {
        "colab": {
          "base_uri": "https://localhost:8080/",
          "height": 523
        },
        "id": "vD5J-1BGnvJ6",
        "outputId": "38b6b887-d1c2-4efb-9d78-525d6ae387a0"
      },
      "execution_count": 155,
      "outputs": [
        {
          "output_type": "display_data",
          "data": {
            "text/plain": [
              "<Figure size 800x575 with 2 Axes>"
            ],
            "image/png": "[encoded data removed]"
          },
          "metadata": {}
        }
      ]
    },
    {
      "cell_type": "markdown",
      "source": [
        "### 回家練習\n",
        "\n",
        "分析台積電的股價 (2330.tw)。\n",
        "* 下載歷史股價\n",
        "* 分析歷史股價第一筆到最近一筆資料的資產變化情形\n",
        "* 分析2022年自2023年間，從何時切入投資報酬率最大\n",
        "* 繪製台積電收盤價曲線"
      ],
      "metadata": {
        "id": "xzR-vvdpovYg"
      }
    },
    {
      "cell_type": "code",
      "source": [
        "# hint: 尋找股價最低點\n",
        "df.Close.min()"
      ],
      "metadata": {
        "colab": {
          "base_uri": "https://localhost:8080/"
        },
        "id": "w8RHSID-oTHT",
        "outputId": "4960d7c6-6844-434f-de39-2359726d3c50"
      },
      "execution_count": 156,
      "outputs": [
        {
          "output_type": "execute_result",
          "data": {
            "text/plain": [
              "1.053333044052124"
            ]
          },
          "metadata": {},
          "execution_count": 156
        }
      ]
    },
    {
      "cell_type": "code",
      "source": [
        "# 回傳boolean index\n",
        "df.Close == df.Close.min()"
      ],
      "metadata": {
        "colab": {
          "base_uri": "https://localhost:8080/"
        },
        "id": "DSn9NosDtDH5",
        "outputId": "742d5e3b-fb93-4f54-a16f-70245cb827f2"
      },
      "execution_count": 164,
      "outputs": [
        {
          "output_type": "execute_result",
          "data": {
            "text/plain": [
              "Date\n",
              "2010-06-29    False\n",
              "2010-06-30    False\n",
              "2010-07-01    False\n",
              "2010-07-02    False\n",
              "2010-07-06    False\n",
              "              ...  \n",
              "2023-02-13    False\n",
              "2023-02-14    False\n",
              "2023-02-15    False\n",
              "2023-02-16    False\n",
              "2023-02-17    False\n",
              "Name: Close, Length: 3183, dtype: bool"
            ]
          },
          "metadata": {},
          "execution_count": 164
        }
      ]
    },
    {
      "cell_type": "code",
      "source": [
        "df[df.Close == df.Close.min()]"
      ],
      "metadata": {
        "colab": {
          "base_uri": "https://localhost:8080/",
          "height": 112
        },
        "id": "IrCQj4TusmZd",
        "outputId": "9070ffa1-454d-4f5e-bdec-a8e44eafbe60"
      },
      "execution_count": 163,
      "outputs": [
        {
          "output_type": "execute_result",
          "data": {
            "text/plain": [
              "                Open      High       Low     Close  Adj Close     Volume\n",
              "Date                                                                    \n",
              "2010-07-07  1.093333  1.108667  0.998667  1.053333   1.053333  103825500"
            ],
            "text/html": [
              "\n",
              "  <div id=\"df-7b5f6a87-be62-47a9-9edf-39697862be64\">\n",
              "    <div class=\"colab-df-container\">\n",
              "      <div>\n",
              "<style scoped>\n",
              "    .dataframe tbody tr th:only-of-type {\n",
              "        vertical-align: middle;\n",
              "    }\n",
              "\n",
              "    .dataframe tbody tr th {\n",
              "        vertical-align: top;\n",
              "    }\n",
              "\n",
              "    .dataframe thead th {\n",
              "        text-align: right;\n",
              "    }\n",
              "</style>\n",
              "<table border=\"1\" class=\"dataframe\">\n",
              "  <thead>\n",
              "    <tr style=\"text-align: right;\">\n",
              "      <th></th>\n",
              "      <th>Open</th>\n",
              "      <th>High</th>\n",
              "      <th>Low</th>\n",
              "      <th>Close</th>\n",
              "      <th>Adj Close</th>\n",
              "      <th>Volume</th>\n",
              "    </tr>\n",
              "    <tr>\n",
              "      <th>Date</th>\n",
              "      <th></th>\n",
              "      <th></th>\n",
              "      <th></th>\n",
              "      <th></th>\n",
              "      <th></th>\n",
              "      <th></th>\n",
              "    </tr>\n",
              "  </thead>\n",
              "  <tbody>\n",
              "    <tr>\n",
              "      <th>2010-07-07</th>\n",
              "      <td>1.093333</td>\n",
              "      <td>1.108667</td>\n",
              "      <td>0.998667</td>\n",
              "      <td>1.053333</td>\n",
              "      <td>1.053333</td>\n",
              "      <td>103825500</td>\n",
              "    </tr>\n",
              "  </tbody>\n",
              "</table>\n",
              "</div>\n",
              "      <button class=\"colab-df-convert\" onclick=\"convertToInteractive('df-7b5f6a87-be62-47a9-9edf-39697862be64')\"\n",
              "              title=\"Convert this dataframe to an interactive table.\"\n",
              "              style=\"display:none;\">\n",
              "        \n",
              "  <svg xmlns=\"http://www.w3.org/2000/svg\" height=\"24px\"viewBox=\"0 0 24 24\"\n",
              "       width=\"24px\">\n",
              "    <path d=\"M0 0h24v24H0V0z\" fill=\"none\"/>\n",
              "    <path d=\"M18.56 5.44l.94 2.06.94-2.06 2.06-.94-2.06-.94-.94-2.06-.94 2.06-2.06.94zm-11 1L8.5 8.5l.94-2.06 2.06-.94-2.06-.94L8.5 2.5l-.94 2.06-2.06.94zm10 10l.94 2.06.94-2.06 2.06-.94-2.06-.94-.94-2.06-.94 2.06-2.06.94z\"/><path d=\"M17.41 7.96l-1.37-1.37c-.4-.4-.92-.59-1.43-.59-.52 0-1.04.2-1.43.59L10.3 9.45l-7.72 7.72c-.78.78-.78 2.05 0 2.83L4 21.41c.39.39.9.59 1.41.59.51 0 1.02-.2 1.41-.59l7.78-7.78 2.81-2.81c.8-.78.8-2.07 0-2.86zM5.41 20L4 18.59l7.72-7.72 1.47 1.35L5.41 20z\"/>\n",
              "  </svg>\n",
              "      </button>\n",
              "      \n",
              "  <style>\n",
              "    .colab-df-container {\n",
              "      display:flex;\n",
              "      flex-wrap:wrap;\n",
              "      gap: 12px;\n",
              "    }\n",
              "\n",
              "    .colab-df-convert {\n",
              "      background-color: #E8F0FE;\n",
              "      border: none;\n",
              "      border-radius: 50%;\n",
              "      cursor: pointer;\n",
              "      display: none;\n",
              "      fill: #1967D2;\n",
              "      height: 32px;\n",
              "      padding: 0 0 0 0;\n",
              "      width: 32px;\n",
              "    }\n",
              "\n",
              "    .colab-df-convert:hover {\n",
              "      background-color: #E2EBFA;\n",
              "      box-shadow: 0px 1px 2px rgba(60, 64, 67, 0.3), 0px 1px 3px 1px rgba(60, 64, 67, 0.15);\n",
              "      fill: #174EA6;\n",
              "    }\n",
              "\n",
              "    [theme=dark] .colab-df-convert {\n",
              "      background-color: #3B4455;\n",
              "      fill: #D2E3FC;\n",
              "    }\n",
              "\n",
              "    [theme=dark] .colab-df-convert:hover {\n",
              "      background-color: #434B5C;\n",
              "      box-shadow: 0px 1px 3px 1px rgba(0, 0, 0, 0.15);\n",
              "      filter: drop-shadow(0px 1px 2px rgba(0, 0, 0, 0.3));\n",
              "      fill: #FFFFFF;\n",
              "    }\n",
              "  </style>\n",
              "\n",
              "      <script>\n",
              "        const buttonEl =\n",
              "          document.querySelector('#df-7b5f6a87-be62-47a9-9edf-39697862be64 button.colab-df-convert');\n",
              "        buttonEl.style.display =\n",
              "          google.colab.kernel.accessAllowed ? 'block' : 'none';\n",
              "\n",
              "        async function convertToInteractive(key) {\n",
              "          const element = document.querySelector('#df-7b5f6a87-be62-47a9-9edf-39697862be64');\n",
              "          const dataTable =\n",
              "            await google.colab.kernel.invokeFunction('convertToInteractive',\n",
              "                                                     [key], {});\n",
              "          if (!dataTable) return;\n",
              "\n",
              "          const docLinkHtml = 'Like what you see? Visit the ' +\n",
              "            '<a target=\"_blank\" href=https://colab.research.google.com/notebooks/data_table.ipynb>data table notebook</a>'\n",
              "            + ' to learn more about interactive tables.';\n",
              "          element.innerHTML = '';\n",
              "          dataTable['output_type'] = 'display_data';\n",
              "          await google.colab.output.renderOutput(dataTable, element);\n",
              "          const docLink = document.createElement('div');\n",
              "          docLink.innerHTML = docLinkHtml;\n",
              "          element.appendChild(docLink);\n",
              "        }\n",
              "      </script>\n",
              "    </div>\n",
              "  </div>\n",
              "  "
            ]
          },
          "metadata": {},
          "execution_count": 163
        }
      ]
    },
    {
      "cell_type": "markdown",
      "source": [
        "### 使用 pandas 讀取政府資料開放平台上的 .csv 的資料\n",
        "\n",
        "https://mopsfin.twse.com.tw/opendata/t187ap03_L.csv"
      ],
      "metadata": {
        "id": "YpgLX2LBqCbf"
      }
    },
    {
      "cell_type": "code",
      "source": [
        "url = \"\thttps://mopsfin.twse.com.tw/opendata/t187ap03_L.csv\""
      ],
      "metadata": {
        "id": "CCWwEhQkpVug"
      },
      "execution_count": 157,
      "outputs": []
    },
    {
      "cell_type": "code",
      "source": [
        "twdf = pd.read_csv(url)"
      ],
      "metadata": {
        "id": "lqVllen2qb8u"
      },
      "execution_count": 158,
      "outputs": []
    },
    {
      "cell_type": "code",
      "source": [
        "twdf.head()"
      ],
      "metadata": {
        "colab": {
          "base_uri": "https://localhost:8080/",
          "height": 1000
        },
        "id": "5TkEmJwRqk-5",
        "outputId": "f7e0376f-1634-4214-8b8c-d73ac05a8fef"
      },
      "execution_count": 159,
      "outputs": [
        {
          "output_type": "execute_result",
          "data": {
            "text/plain": [
              "      出表日期  公司代號        公司名稱 公司簡稱 外國企業註冊地國  產業別                      住址  \\\n",
              "0  1120218  1101  臺灣水泥股份有限公司   台泥       －     1           台北市中山北路2段113號   \n",
              "1  1120218  1102  亞洲水泥股份有限公司   亞泥       －     1  台北市大安區敦化南路2段207號30、31樓   \n",
              "2  1120218  1103  嘉新水泥股份有限公司   嘉泥       －     1            台北市中山北路2段96號   \n",
              "3  1120218  1104  環球水泥股份有限公司   環泥       －     1        台北市南京東路二段125號10樓   \n",
              "4  1120218  1108  幸福水泥股份有限公司   幸福       －     1           台北市松江路237號15樓   \n",
              "\n",
              "   營利事業統一編號  董事長  總經理  ...           過戶電話              過戶地址      簽證會計師事務所  \\\n",
              "0  11913502  張安平  程耀輝  ...       66365566    台北市重慶南路一段83號5樓  勤業眾信聯合會計師事務所   \n",
              "1   3244509  徐旭東  李坤炎  ...   02-7753-1699   新北市板橋區新站路16號13樓  勤業眾信聯合會計師事務所   \n",
              "2  11892801  張剛綸  王立心  ...  (02)2702-3999  台北市敦化南路2段97號地下2樓  勤業眾信聯合會計師事務所   \n",
              "3   7568009  侯博義  侯智升  ...    02-23816288       台北市博愛路17號3樓  勤業眾信聯合會計師事務所   \n",
              "4  40601248  陳兩傳  陳兩傳  ...      2381-6288    台北市中正區博愛路17號3樓  勤業眾信聯合會計師事務所   \n",
              "\n",
              "  簽證會計師1  簽證會計師2          英文簡稱  \\\n",
              "0    黃惠敏     郭政弘           TCC   \n",
              "1    戴信維     陳培德           ACC   \n",
              "2    陳薔旬     梁盛泰           CHC   \n",
              "3    李季珍     楊朝欽           UCC   \n",
              "4    陳招美     陳薔旬  LUCKY CEMENT   \n",
              "\n",
              "                                              英文通訊地址          傳真機號碼  \\\n",
              "0  No.113, Sec.2, Zhongshan N. Rd.,Taipei City 10...  (02)2531-6529   \n",
              "1  30-31F., No.207, Sec. 2, Dunhua S. Rd., Da' an...   02-2378-5191   \n",
              "2  No.96, Sec. 2, Zhongshan N. Rd., Zhongshan Dis...  (02)2511-4002   \n",
              "3    10th F1., 125 Nanking E.Rd Sec. 2,Taipei Taiwan    02-25075870   \n",
              "4  15TH FL.,NO.237,SUNG KIANG RD.,TAIPEI,TAIWAN,R...       25048672   \n",
              "\n",
              "                     電子郵件信箱                           網址  \n",
              "0  finance@taiwancement.com  http://www.taiwancement.com  \n",
              "1        service@acc.com.tw               www.acc.com.tw  \n",
              "2        ir@chcgroup.com.tw          www.chcgroup.com.tw  \n",
              "3             ucc@ucctw.com                www.ucctw.com  \n",
              "4     wendy@luckygrp,com.tw          www.luckygrp.com.tw  \n",
              "\n",
              "[5 rows x 32 columns]"
            ],
            "text/html": [
              "\n",
              "  <div id=\"df-7b5b004e-d6d4-40c3-ab9d-796f3f378797\">\n",
              "    <div class=\"colab-df-container\">\n",
              "      <div>\n",
              "<style scoped>\n",
              "    .dataframe tbody tr th:only-of-type {\n",
              "        vertical-align: middle;\n",
              "    }\n",
              "\n",
              "    .dataframe tbody tr th {\n",
              "        vertical-align: top;\n",
              "    }\n",
              "\n",
              "    .dataframe thead th {\n",
              "        text-align: right;\n",
              "    }\n",
              "</style>\n",
              "<table border=\"1\" class=\"dataframe\">\n",
              "  <thead>\n",
              "    <tr style=\"text-align: right;\">\n",
              "      <th></th>\n",
              "      <th>出表日期</th>\n",
              "      <th>公司代號</th>\n",
              "      <th>公司名稱</th>\n",
              "      <th>公司簡稱</th>\n",
              "      <th>外國企業註冊地國</th>\n",
              "      <th>產業別</th>\n",
              "      <th>住址</th>\n",
              "      <th>營利事業統一編號</th>\n",
              "      <th>董事長</th>\n",
              "      <th>總經理</th>\n",
              "      <th>...</th>\n",
              "      <th>過戶電話</th>\n",
              "      <th>過戶地址</th>\n",
              "      <th>簽證會計師事務所</th>\n",
              "      <th>簽證會計師1</th>\n",
              "      <th>簽證會計師2</th>\n",
              "      <th>英文簡稱</th>\n",
              "      <th>英文通訊地址</th>\n",
              "      <th>傳真機號碼</th>\n",
              "      <th>電子郵件信箱</th>\n",
              "      <th>網址</th>\n",
              "    </tr>\n",
              "  </thead>\n",
              "  <tbody>\n",
              "    <tr>\n",
              "      <th>0</th>\n",
              "      <td>1120218</td>\n",
              "      <td>1101</td>\n",
              "      <td>臺灣水泥股份有限公司</td>\n",
              "      <td>台泥</td>\n",
              "      <td>－</td>\n",
              "      <td>1</td>\n",
              "      <td>台北市中山北路2段113號</td>\n",
              "      <td>11913502</td>\n",
              "      <td>張安平</td>\n",
              "      <td>程耀輝</td>\n",
              "      <td>...</td>\n",
              "      <td>66365566</td>\n",
              "      <td>台北市重慶南路一段83號5樓</td>\n",
              "      <td>勤業眾信聯合會計師事務所</td>\n",
              "      <td>黃惠敏</td>\n",
              "      <td>郭政弘</td>\n",
              "      <td>TCC</td>\n",
              "      <td>No.113, Sec.2, Zhongshan N. Rd.,Taipei City 10...</td>\n",
              "      <td>(02)2531-6529</td>\n",
              "      <td>finance@taiwancement.com</td>\n",
              "      <td>http://www.taiwancement.com</td>\n",
              "    </tr>\n",
              "    <tr>\n",
              "      <th>1</th>\n",
              "      <td>1120218</td>\n",
              "      <td>1102</td>\n",
              "      <td>亞洲水泥股份有限公司</td>\n",
              "      <td>亞泥</td>\n",
              "      <td>－</td>\n",
              "      <td>1</td>\n",
              "      <td>台北市大安區敦化南路2段207號30、31樓</td>\n",
              "      <td>3244509</td>\n",
              "      <td>徐旭東</td>\n",
              "      <td>李坤炎</td>\n",
              "      <td>...</td>\n",
              "      <td>02-7753-1699</td>\n",
              "      <td>新北市板橋區新站路16號13樓</td>\n",
              "      <td>勤業眾信聯合會計師事務所</td>\n",
              "      <td>戴信維</td>\n",
              "      <td>陳培德</td>\n",
              "      <td>ACC</td>\n",
              "      <td>30-31F., No.207, Sec. 2, Dunhua S. Rd., Da' an...</td>\n",
              "      <td>02-2378-5191</td>\n",
              "      <td>service@acc.com.tw</td>\n",
              "      <td>www.acc.com.tw</td>\n",
              "    </tr>\n",
              "    <tr>\n",
              "      <th>2</th>\n",
              "      <td>1120218</td>\n",
              "      <td>1103</td>\n",
              "      <td>嘉新水泥股份有限公司</td>\n",
              "      <td>嘉泥</td>\n",
              "      <td>－</td>\n",
              "      <td>1</td>\n",
              "      <td>台北市中山北路2段96號</td>\n",
              "      <td>11892801</td>\n",
              "      <td>張剛綸</td>\n",
              "      <td>王立心</td>\n",
              "      <td>...</td>\n",
              "      <td>(02)2702-3999</td>\n",
              "      <td>台北市敦化南路2段97號地下2樓</td>\n",
              "      <td>勤業眾信聯合會計師事務所</td>\n",
              "      <td>陳薔旬</td>\n",
              "      <td>梁盛泰</td>\n",
              "      <td>CHC</td>\n",
              "      <td>No.96, Sec. 2, Zhongshan N. Rd., Zhongshan Dis...</td>\n",
              "      <td>(02)2511-4002</td>\n",
              "      <td>ir@chcgroup.com.tw</td>\n",
              "      <td>www.chcgroup.com.tw</td>\n",
              "    </tr>\n",
              "    <tr>\n",
              "      <th>3</th>\n",
              "      <td>1120218</td>\n",
              "      <td>1104</td>\n",
              "      <td>環球水泥股份有限公司</td>\n",
              "      <td>環泥</td>\n",
              "      <td>－</td>\n",
              "      <td>1</td>\n",
              "      <td>台北市南京東路二段125號10樓</td>\n",
              "      <td>7568009</td>\n",
              "      <td>侯博義</td>\n",
              "      <td>侯智升</td>\n",
              "      <td>...</td>\n",
              "      <td>02-23816288</td>\n",
              "      <td>台北市博愛路17號3樓</td>\n",
              "      <td>勤業眾信聯合會計師事務所</td>\n",
              "      <td>李季珍</td>\n",
              "      <td>楊朝欽</td>\n",
              "      <td>UCC</td>\n",
              "      <td>10th F1., 125 Nanking E.Rd Sec. 2,Taipei Taiwan</td>\n",
              "      <td>02-25075870</td>\n",
              "      <td>ucc@ucctw.com</td>\n",
              "      <td>www.ucctw.com</td>\n",
              "    </tr>\n",
              "    <tr>\n",
              "      <th>4</th>\n",
              "      <td>1120218</td>\n",
              "      <td>1108</td>\n",
              "      <td>幸福水泥股份有限公司</td>\n",
              "      <td>幸福</td>\n",
              "      <td>－</td>\n",
              "      <td>1</td>\n",
              "      <td>台北市松江路237號15樓</td>\n",
              "      <td>40601248</td>\n",
              "      <td>陳兩傳</td>\n",
              "      <td>陳兩傳</td>\n",
              "      <td>...</td>\n",
              "      <td>2381-6288</td>\n",
              "      <td>台北市中正區博愛路17號3樓</td>\n",
              "      <td>勤業眾信聯合會計師事務所</td>\n",
              "      <td>陳招美</td>\n",
              "      <td>陳薔旬</td>\n",
              "      <td>LUCKY CEMENT</td>\n",
              "      <td>15TH FL.,NO.237,SUNG KIANG RD.,TAIPEI,TAIWAN,R...</td>\n",
              "      <td>25048672</td>\n",
              "      <td>wendy@luckygrp,com.tw</td>\n",
              "      <td>www.luckygrp.com.tw</td>\n",
              "    </tr>\n",
              "  </tbody>\n",
              "</table>\n",
              "<p>5 rows × 32 columns</p>\n",
              "</div>\n",
              "      <button class=\"colab-df-convert\" onclick=\"convertToInteractive('df-7b5b004e-d6d4-40c3-ab9d-796f3f378797')\"\n",
              "              title=\"Convert this dataframe to an interactive table.\"\n",
              "              style=\"display:none;\">\n",
              "        \n",
              "  <svg xmlns=\"http://www.w3.org/2000/svg\" height=\"24px\"viewBox=\"0 0 24 24\"\n",
              "       width=\"24px\">\n",
              "    <path d=\"M0 0h24v24H0V0z\" fill=\"none\"/>\n",
              "    <path d=\"M18.56 5.44l.94 2.06.94-2.06 2.06-.94-2.06-.94-.94-2.06-.94 2.06-2.06.94zm-11 1L8.5 8.5l.94-2.06 2.06-.94-2.06-.94L8.5 2.5l-.94 2.06-2.06.94zm10 10l.94 2.06.94-2.06 2.06-.94-2.06-.94-.94-2.06-.94 2.06-2.06.94z\"/><path d=\"M17.41 7.96l-1.37-1.37c-.4-.4-.92-.59-1.43-.59-.52 0-1.04.2-1.43.59L10.3 9.45l-7.72 7.72c-.78.78-.78 2.05 0 2.83L4 21.41c.39.39.9.59 1.41.59.51 0 1.02-.2 1.41-.59l7.78-7.78 2.81-2.81c.8-.78.8-2.07 0-2.86zM5.41 20L4 18.59l7.72-7.72 1.47 1.35L5.41 20z\"/>\n",
              "  </svg>\n",
              "      </button>\n",
              "      \n",
              "  <style>\n",
              "    .colab-df-container {\n",
              "      display:flex;\n",
              "      flex-wrap:wrap;\n",
              "      gap: 12px;\n",
              "    }\n",
              "\n",
              "    .colab-df-convert {\n",
              "      background-color: #E8F0FE;\n",
              "      border: none;\n",
              "      border-radius: 50%;\n",
              "      cursor: pointer;\n",
              "      display: none;\n",
              "      fill: #1967D2;\n",
              "      height: 32px;\n",
              "      padding: 0 0 0 0;\n",
              "      width: 32px;\n",
              "    }\n",
              "\n",
              "    .colab-df-convert:hover {\n",
              "      background-color: #E2EBFA;\n",
              "      box-shadow: 0px 1px 2px rgba(60, 64, 67, 0.3), 0px 1px 3px 1px rgba(60, 64, 67, 0.15);\n",
              "      fill: #174EA6;\n",
              "    }\n",
              "\n",
              "    [theme=dark] .colab-df-convert {\n",
              "      background-color: #3B4455;\n",
              "      fill: #D2E3FC;\n",
              "    }\n",
              "\n",
              "    [theme=dark] .colab-df-convert:hover {\n",
              "      background-color: #434B5C;\n",
              "      box-shadow: 0px 1px 3px 1px rgba(0, 0, 0, 0.15);\n",
              "      filter: drop-shadow(0px 1px 2px rgba(0, 0, 0, 0.3));\n",
              "      fill: #FFFFFF;\n",
              "    }\n",
              "  </style>\n",
              "\n",
              "      <script>\n",
              "        const buttonEl =\n",
              "          document.querySelector('#df-7b5b004e-d6d4-40c3-ab9d-796f3f378797 button.colab-df-convert');\n",
              "        buttonEl.style.display =\n",
              "          google.colab.kernel.accessAllowed ? 'block' : 'none';\n",
              "\n",
              "        async function convertToInteractive(key) {\n",
              "          const element = document.querySelector('#df-7b5b004e-d6d4-40c3-ab9d-796f3f378797');\n",
              "          const dataTable =\n",
              "            await google.colab.kernel.invokeFunction('convertToInteractive',\n",
              "                                                     [key], {});\n",
              "          if (!dataTable) return;\n",
              "\n",
              "          const docLinkHtml = 'Like what you see? Visit the ' +\n",
              "            '<a target=\"_blank\" href=https://colab.research.google.com/notebooks/data_table.ipynb>data table notebook</a>'\n",
              "            + ' to learn more about interactive tables.';\n",
              "          element.innerHTML = '';\n",
              "          dataTable['output_type'] = 'display_data';\n",
              "          await google.colab.output.renderOutput(dataTable, element);\n",
              "          const docLink = document.createElement('div');\n",
              "          docLink.innerHTML = docLinkHtml;\n",
              "          element.appendChild(docLink);\n",
              "        }\n",
              "      </script>\n",
              "    </div>\n",
              "  </div>\n",
              "  "
            ]
          },
          "metadata": {},
          "execution_count": 159
        }
      ]
    },
    {
      "cell_type": "markdown",
      "source": [
        "#### 使用pandas讀取0050成分股\n",
        "\n",
        "https://www.yuantaetfs.com/api/StkWeights?date=&fundid=1066"
      ],
      "metadata": {
        "id": "iEaxaDQ7rVbt"
      }
    },
    {
      "cell_type": "code",
      "source": [
        "df_0050 = pd.read_json(\"https://www.yuantaetfs.com/api/StkWeights?date=&fundid=1066\")"
      ],
      "metadata": {
        "id": "GRcQNA9IqnbO"
      },
      "execution_count": 160,
      "outputs": []
    },
    {
      "cell_type": "code",
      "source": [
        "df_0050"
      ],
      "metadata": {
        "colab": {
          "base_uri": "https://localhost:8080/",
          "height": 1000
        },
        "id": "4sApM5lYreFG",
        "outputId": "76926434-fefc-4522-ec01-6e4fc6ec84be"
      },
      "execution_count": 161,
      "outputs": [
        {
          "output_type": "execute_result",
          "data": {
            "text/plain": [
              "    code  ym    name                                         ename  weights  \\\n",
              "0   2330 NaN     台積電   Taiwan Semiconductor Manufacturing Co. Ltd.    47.32   \n",
              "1   2317 NaN      鴻海               HON HAI PRECISION IND. CO. LTD.     4.70   \n",
              "2   2454 NaN     聯發科                                 MediaTek Inc.     4.09   \n",
              "3   2308 NaN     台達電                        DELTA ELECTRONICS INC.     2.42   \n",
              "4   2303 NaN      聯電                 UNITED MICROELECTRONICS CORP.     2.23   \n",
              "5   2881 NaN     富邦金              Fubon Financial Holding Co. Ltd.     1.69   \n",
              "6   2412 NaN     中華電                      Chunghwa Telecom Co. Ltd     1.64   \n",
              "7   1303 NaN      南亞                   NAN YA PLASTICS CORPORATION     1.63   \n",
              "8   2891 NaN     中信金               CTBC FINANCIAL HOLDING CO. LTD.     1.57   \n",
              "9   2882 NaN     國泰金             CATHAY FINANCIAL HOLDING CO. LTD.     1.50   \n",
              "10  2002 NaN      中鋼                       China Steel Corporation     1.49   \n",
              "11  2886 NaN     兆豐金           Mega Financial Holding Company Ltd.     1.42   \n",
              "12  3711 NaN   日月光投控               ASE Technology Holding Co. Ltd.     1.32   \n",
              "13  2884 NaN     玉山金           E.SUN FINANCIAL HOLDING COMPANYLTD.     1.31   \n",
              "14  1301 NaN      台塑                  Formosa Plastics Corporation     1.28   \n",
              "15  5871 NaN   中租-KY             Chailease Holding Company Limited     1.21   \n",
              "16  1216 NaN      統一               UNI-PRESIDENT ENTERPRISES CORP.     1.21   \n",
              "17  2892 NaN     第一金          First  Financial  Holding  Co.  Ltd.     1.05   \n",
              "18  2885 NaN     元大金              Yuanta Financial Holding Co. Ltd     1.04   \n",
              "19  5880 NaN     合庫金  Taiwan Cooperative Financial Holding Co.Ltd.     1.02   \n",
              "20  1326 NaN      台化         FORMOSA CHEMICALS & FIBRE CORPORATION     0.93   \n",
              "21  1101 NaN      台泥                           Taiwan Cement Corp.     0.91   \n",
              "22  2880 NaN     華南金            HUA NAN FINANCIAL HOLDINGS CO.LTD.     0.88   \n",
              "23  3034 NaN      聯詠                NOVATEK MICROELECTRONICS CORP.     0.88   \n",
              "24  2327 NaN      國巨                             YAGEO CORPORATION     0.85   \n",
              "25  3008 NaN     大立光                       LARGAN Precision Co.Ltd     0.84   \n",
              "26  2382 NaN      廣達                          QUANTA COMPUTER INC.     0.80   \n",
              "27  2883 NaN     開發金     CHINA DEVELOPMENT FINANCIAL HOLDING CORP.     0.79   \n",
              "28  2207 NaN     和泰車                           HOTAI MOTOR CO.LTD.     0.76   \n",
              "29  2357 NaN      華碩                         ASUSTEK COMPUTER INC.     0.75   \n",
              "30  2887 NaN     台新金            Taishin Financial Holding Co. Ltd.     0.71   \n",
              "31  6415 NaN  矽力*-KY                                 Silergy Corp.     0.71   \n",
              "32  2890 NaN     永豐金   SINOPAC  FINANCIAL HOLDINGS COMPANY LIMITED     0.70   \n",
              "33  3037 NaN      欣興                    Unimicron Technology Corp.     0.65   \n",
              "34  2379 NaN      瑞昱             Realtek Semiconductor Corporation     0.65   \n",
              "35  3045 NaN     台灣大                      TAIWAN  MOBILE  CO. LTD.     0.63   \n",
              "36  5876 NaN    上海商銀   THE SHANGHAI COMMERCIAL & SAVINGS BANK LTD.     0.63   \n",
              "37  1590 NaN  亞德客-KY                    AIRTAC INTERNATIONAL GROUP     0.63   \n",
              "38  2912 NaN     統一超             PRESIDENT CHAIN STORE CORPORATION     0.57   \n",
              "39  2395 NaN      研華                            ADVANTECH Co. Ltd.     0.56   \n",
              "40  2603 NaN      長榮          EVERGREEN MARINE CORP. (TAIWAN) LTD.     0.56   \n",
              "41  1402 NaN     遠東新           Far Eastern New Century Corporation     0.48   \n",
              "42  2801 NaN      彰銀                CHANG HWA COMMERCIAL BANK LTD.     0.44   \n",
              "43  6505 NaN     台塑化                    Formosa Petrochemical Corp     0.44   \n",
              "44  4904 NaN      遠傳       Far EasTone Telecommunications Co. Ltd.     0.42   \n",
              "45  2609 NaN      陽明              Yang Ming Marine Transport Corp.     0.40   \n",
              "46  2615 NaN      萬海                            WAN HAI LINES LTD.     0.39   \n",
              "47  9910 NaN      豐泰                 FENG TAY ENTERPRISES CO. LTD.     0.30   \n",
              "48  8046 NaN      南電      NAN YA PRINTED CIRCUIT BOARD CORPORATION     0.20   \n",
              "49  2408 NaN     南亞科                  NANYA TECHNOLOGY CORPORATION     0.19   \n",
              "\n",
              "          qty  \n",
              "0   246446636  \n",
              "1   122467572  \n",
              "2    15268781  \n",
              "3    22170963  \n",
              "4   120151529  \n",
              "5    75669138  \n",
              "6    39032848  \n",
              "7    57944327  \n",
              "8   186193671  \n",
              "9    91724297  \n",
              "10  126562173  \n",
              "11  114514306  \n",
              "12   34933004  \n",
              "13  139057606  \n",
              "14   38281780  \n",
              "15   14159710  \n",
              "16   49197830  \n",
              "17  106959507  \n",
              "18  122918139  \n",
              "19  103574104  \n",
              "20   35134398  \n",
              "21   64839988  \n",
              "22  104256776  \n",
              "23    5873341  \n",
              "24    4007931  \n",
              "25    1052063  \n",
              "26   27304616  \n",
              "27  161681760  \n",
              "28    3273305  \n",
              "29    7237867  \n",
              "30  116650387  \n",
              "31    3321913  \n",
              "32  108725463  \n",
              "33   12912541  \n",
              "34    4881250  \n",
              "35   17707707  \n",
              "36   36087938  \n",
              "37    1602164  \n",
              "38    5760478  \n",
              "39    4238958  \n",
              "40   10322835  \n",
              "41   40263594  \n",
              "42   68009923  \n",
              "43   14007344  \n",
              "44   16395257  \n",
              "45   17925750  \n",
              "46   14405086  \n",
              "47    4526746  \n",
              "48    2155982  \n",
              "49    8397377  "
            ],
            "text/html": [
              "\n",
              "  <div id=\"df-b898b434-961f-431a-b913-9ae2fd33c9ab\">\n",
              "    <div class=\"colab-df-container\">\n",
              "      <div>\n",
              "<style scoped>\n",
              "    .dataframe tbody tr th:only-of-type {\n",
              "        vertical-align: middle;\n",
              "    }\n",
              "\n",
              "    .dataframe tbody tr th {\n",
              "        vertical-align: top;\n",
              "    }\n",
              "\n",
              "    .dataframe thead th {\n",
              "        text-align: right;\n",
              "    }\n",
              "</style>\n",
              "<table border=\"1\" class=\"dataframe\">\n",
              "  <thead>\n",
              "    <tr style=\"text-align: right;\">\n",
              "      <th></th>\n",
              "      <th>code</th>\n",
              "      <th>ym</th>\n",
              "      <th>name</th>\n",
              "      <th>ename</th>\n",
              "      <th>weights</th>\n",
              "      <th>qty</th>\n",
              "    </tr>\n",
              "  </thead>\n",
              "  <tbody>\n",
              "    <tr>\n",
              "      <th>0</th>\n",
              "      <td>2330</td>\n",
              "      <td>NaN</td>\n",
              "      <td>台積電</td>\n",
              "      <td>Taiwan Semiconductor Manufacturing Co. Ltd.</td>\n",
              "      <td>47.32</td>\n",
              "      <td>246446636</td>\n",
              "    </tr>\n",
              "    <tr>\n",
              "      <th>1</th>\n",
              "      <td>2317</td>\n",
              "      <td>NaN</td>\n",
              "      <td>鴻海</td>\n",
              "      <td>HON HAI PRECISION IND. CO. LTD.</td>\n",
              "      <td>4.70</td>\n",
              "      <td>122467572</td>\n",
              "    </tr>\n",
              "    <tr>\n",
              "      <th>2</th>\n",
              "      <td>2454</td>\n",
              "      <td>NaN</td>\n",
              "      <td>聯發科</td>\n",
              "      <td>MediaTek Inc.</td>\n",
              "      <td>4.09</td>\n",
              "      <td>15268781</td>\n",
              "    </tr>\n",
              "    <tr>\n",
              "      <th>3</th>\n",
              "      <td>2308</td>\n",
              "      <td>NaN</td>\n",
              "      <td>台達電</td>\n",
              "      <td>DELTA ELECTRONICS INC.</td>\n",
              "      <td>2.42</td>\n",
              "      <td>22170963</td>\n",
              "    </tr>\n",
              "    <tr>\n",
              "      <th>4</th>\n",
              "      <td>2303</td>\n",
              "      <td>NaN</td>\n",
              "      <td>聯電</td>\n",
              "      <td>UNITED MICROELECTRONICS CORP.</td>\n",
              "      <td>2.23</td>\n",
              "      <td>120151529</td>\n",
              "    </tr>\n",
              "    <tr>\n",
              "      <th>5</th>\n",
              "      <td>2881</td>\n",
              "      <td>NaN</td>\n",
              "      <td>富邦金</td>\n",
              "      <td>Fubon Financial Holding Co. Ltd.</td>\n",
              "      <td>1.69</td>\n",
              "      <td>75669138</td>\n",
              "    </tr>\n",
              "    <tr>\n",
              "      <th>6</th>\n",
              "      <td>2412</td>\n",
              "      <td>NaN</td>\n",
              "      <td>中華電</td>\n",
              "      <td>Chunghwa Telecom Co. Ltd</td>\n",
              "      <td>1.64</td>\n",
              "      <td>39032848</td>\n",
              "    </tr>\n",
              "    <tr>\n",
              "      <th>7</th>\n",
              "      <td>1303</td>\n",
              "      <td>NaN</td>\n",
              "      <td>南亞</td>\n",
              "      <td>NAN YA PLASTICS CORPORATION</td>\n",
              "      <td>1.63</td>\n",
              "      <td>57944327</td>\n",
              "    </tr>\n",
              "    <tr>\n",
              "      <th>8</th>\n",
              "      <td>2891</td>\n",
              "      <td>NaN</td>\n",
              "      <td>中信金</td>\n",
              "      <td>CTBC FINANCIAL HOLDING CO. LTD.</td>\n",
              "      <td>1.57</td>\n",
              "      <td>186193671</td>\n",
              "    </tr>\n",
              "    <tr>\n",
              "      <th>9</th>\n",
              "      <td>2882</td>\n",
              "      <td>NaN</td>\n",
              "      <td>國泰金</td>\n",
              "      <td>CATHAY FINANCIAL HOLDING CO. LTD.</td>\n",
              "      <td>1.50</td>\n",
              "      <td>91724297</td>\n",
              "    </tr>\n",
              "    <tr>\n",
              "      <th>10</th>\n",
              "      <td>2002</td>\n",
              "      <td>NaN</td>\n",
              "      <td>中鋼</td>\n",
              "      <td>China Steel Corporation</td>\n",
              "      <td>1.49</td>\n",
              "      <td>126562173</td>\n",
              "    </tr>\n",
              "    <tr>\n",
              "      <th>11</th>\n",
              "      <td>2886</td>\n",
              "      <td>NaN</td>\n",
              "      <td>兆豐金</td>\n",
              "      <td>Mega Financial Holding Company Ltd.</td>\n",
              "      <td>1.42</td>\n",
              "      <td>114514306</td>\n",
              "    </tr>\n",
              "    <tr>\n",
              "      <th>12</th>\n",
              "      <td>3711</td>\n",
              "      <td>NaN</td>\n",
              "      <td>日月光投控</td>\n",
              "      <td>ASE Technology Holding Co. Ltd.</td>\n",
              "      <td>1.32</td>\n",
              "      <td>34933004</td>\n",
              "    </tr>\n",
              "    <tr>\n",
              "      <th>13</th>\n",
              "      <td>2884</td>\n",
              "      <td>NaN</td>\n",
              "      <td>玉山金</td>\n",
              "      <td>E.SUN FINANCIAL HOLDING COMPANYLTD.</td>\n",
              "      <td>1.31</td>\n",
              "      <td>139057606</td>\n",
              "    </tr>\n",
              "    <tr>\n",
              "      <th>14</th>\n",
              "      <td>1301</td>\n",
              "      <td>NaN</td>\n",
              "      <td>台塑</td>\n",
              "      <td>Formosa Plastics Corporation</td>\n",
              "      <td>1.28</td>\n",
              "      <td>38281780</td>\n",
              "    </tr>\n",
              "    <tr>\n",
              "      <th>15</th>\n",
              "      <td>5871</td>\n",
              "      <td>NaN</td>\n",
              "      <td>中租-KY</td>\n",
              "      <td>Chailease Holding Company Limited</td>\n",
              "      <td>1.21</td>\n",
              "      <td>14159710</td>\n",
              "    </tr>\n",
              "    <tr>\n",
              "      <th>16</th>\n",
              "      <td>1216</td>\n",
              "      <td>NaN</td>\n",
              "      <td>統一</td>\n",
              "      <td>UNI-PRESIDENT ENTERPRISES CORP.</td>\n",
              "      <td>1.21</td>\n",
              "      <td>49197830</td>\n",
              "    </tr>\n",
              "    <tr>\n",
              "      <th>17</th>\n",
              "      <td>2892</td>\n",
              "      <td>NaN</td>\n",
              "      <td>第一金</td>\n",
              "      <td>First  Financial  Holding  Co.  Ltd.</td>\n",
              "      <td>1.05</td>\n",
              "      <td>106959507</td>\n",
              "    </tr>\n",
              "    <tr>\n",
              "      <th>18</th>\n",
              "      <td>2885</td>\n",
              "      <td>NaN</td>\n",
              "      <td>元大金</td>\n",
              "      <td>Yuanta Financial Holding Co. Ltd</td>\n",
              "      <td>1.04</td>\n",
              "      <td>122918139</td>\n",
              "    </tr>\n",
              "    <tr>\n",
              "      <th>19</th>\n",
              "      <td>5880</td>\n",
              "      <td>NaN</td>\n",
              "      <td>合庫金</td>\n",
              "      <td>Taiwan Cooperative Financial Holding Co.Ltd.</td>\n",
              "      <td>1.02</td>\n",
              "      <td>103574104</td>\n",
              "    </tr>\n",
              "    <tr>\n",
              "      <th>20</th>\n",
              "      <td>1326</td>\n",
              "      <td>NaN</td>\n",
              "      <td>台化</td>\n",
              "      <td>FORMOSA CHEMICALS &amp; FIBRE CORPORATION</td>\n",
              "      <td>0.93</td>\n",
              "      <td>35134398</td>\n",
              "    </tr>\n",
              "    <tr>\n",
              "      <th>21</th>\n",
              "      <td>1101</td>\n",
              "      <td>NaN</td>\n",
              "      <td>台泥</td>\n",
              "      <td>Taiwan Cement Corp.</td>\n",
              "      <td>0.91</td>\n",
              "      <td>64839988</td>\n",
              "    </tr>\n",
              "    <tr>\n",
              "      <th>22</th>\n",
              "      <td>2880</td>\n",
              "      <td>NaN</td>\n",
              "      <td>華南金</td>\n",
              "      <td>HUA NAN FINANCIAL HOLDINGS CO.LTD.</td>\n",
              "      <td>0.88</td>\n",
              "      <td>104256776</td>\n",
              "    </tr>\n",
              "    <tr>\n",
              "      <th>23</th>\n",
              "      <td>3034</td>\n",
              "      <td>NaN</td>\n",
              "      <td>聯詠</td>\n",
              "      <td>NOVATEK MICROELECTRONICS CORP.</td>\n",
              "      <td>0.88</td>\n",
              "      <td>5873341</td>\n",
              "    </tr>\n",
              "    <tr>\n",
              "      <th>24</th>\n",
              "      <td>2327</td>\n",
              "      <td>NaN</td>\n",
              "      <td>國巨</td>\n",
              "      <td>YAGEO CORPORATION</td>\n",
              "      <td>0.85</td>\n",
              "      <td>4007931</td>\n",
              "    </tr>\n",
              "    <tr>\n",
              "      <th>25</th>\n",
              "      <td>3008</td>\n",
              "      <td>NaN</td>\n",
              "      <td>大立光</td>\n",
              "      <td>LARGAN Precision Co.Ltd</td>\n",
              "      <td>0.84</td>\n",
              "      <td>1052063</td>\n",
              "    </tr>\n",
              "    <tr>\n",
              "      <th>26</th>\n",
              "      <td>2382</td>\n",
              "      <td>NaN</td>\n",
              "      <td>廣達</td>\n",
              "      <td>QUANTA COMPUTER INC.</td>\n",
              "      <td>0.80</td>\n",
              "      <td>27304616</td>\n",
              "    </tr>\n",
              "    <tr>\n",
              "      <th>27</th>\n",
              "      <td>2883</td>\n",
              "      <td>NaN</td>\n",
              "      <td>開發金</td>\n",
              "      <td>CHINA DEVELOPMENT FINANCIAL HOLDING CORP.</td>\n",
              "      <td>0.79</td>\n",
              "      <td>161681760</td>\n",
              "    </tr>\n",
              "    <tr>\n",
              "      <th>28</th>\n",
              "      <td>2207</td>\n",
              "      <td>NaN</td>\n",
              "      <td>和泰車</td>\n",
              "      <td>HOTAI MOTOR CO.LTD.</td>\n",
              "      <td>0.76</td>\n",
              "      <td>3273305</td>\n",
              "    </tr>\n",
              "    <tr>\n",
              "      <th>29</th>\n",
              "      <td>2357</td>\n",
              "      <td>NaN</td>\n",
              "      <td>華碩</td>\n",
              "      <td>ASUSTEK COMPUTER INC.</td>\n",
              "      <td>0.75</td>\n",
              "      <td>7237867</td>\n",
              "    </tr>\n",
              "    <tr>\n",
              "      <th>30</th>\n",
              "      <td>2887</td>\n",
              "      <td>NaN</td>\n",
              "      <td>台新金</td>\n",
              "      <td>Taishin Financial Holding Co. Ltd.</td>\n",
              "      <td>0.71</td>\n",
              "      <td>116650387</td>\n",
              "    </tr>\n",
              "    <tr>\n",
              "      <th>31</th>\n",
              "      <td>6415</td>\n",
              "      <td>NaN</td>\n",
              "      <td>矽力*-KY</td>\n",
              "      <td>Silergy Corp.</td>\n",
              "      <td>0.71</td>\n",
              "      <td>3321913</td>\n",
              "    </tr>\n",
              "    <tr>\n",
              "      <th>32</th>\n",
              "      <td>2890</td>\n",
              "      <td>NaN</td>\n",
              "      <td>永豐金</td>\n",
              "      <td>SINOPAC  FINANCIAL HOLDINGS COMPANY LIMITED</td>\n",
              "      <td>0.70</td>\n",
              "      <td>108725463</td>\n",
              "    </tr>\n",
              "    <tr>\n",
              "      <th>33</th>\n",
              "      <td>3037</td>\n",
              "      <td>NaN</td>\n",
              "      <td>欣興</td>\n",
              "      <td>Unimicron Technology Corp.</td>\n",
              "      <td>0.65</td>\n",
              "      <td>12912541</td>\n",
              "    </tr>\n",
              "    <tr>\n",
              "      <th>34</th>\n",
              "      <td>2379</td>\n",
              "      <td>NaN</td>\n",
              "      <td>瑞昱</td>\n",
              "      <td>Realtek Semiconductor Corporation</td>\n",
              "      <td>0.65</td>\n",
              "      <td>4881250</td>\n",
              "    </tr>\n",
              "    <tr>\n",
              "      <th>35</th>\n",
              "      <td>3045</td>\n",
              "      <td>NaN</td>\n",
              "      <td>台灣大</td>\n",
              "      <td>TAIWAN  MOBILE  CO. LTD.</td>\n",
              "      <td>0.63</td>\n",
              "      <td>17707707</td>\n",
              "    </tr>\n",
              "    <tr>\n",
              "      <th>36</th>\n",
              "      <td>5876</td>\n",
              "      <td>NaN</td>\n",
              "      <td>上海商銀</td>\n",
              "      <td>THE SHANGHAI COMMERCIAL &amp; SAVINGS BANK LTD.</td>\n",
              "      <td>0.63</td>\n",
              "      <td>36087938</td>\n",
              "    </tr>\n",
              "    <tr>\n",
              "      <th>37</th>\n",
              "      <td>1590</td>\n",
              "      <td>NaN</td>\n",
              "      <td>亞德客-KY</td>\n",
              "      <td>AIRTAC INTERNATIONAL GROUP</td>\n",
              "      <td>0.63</td>\n",
              "      <td>1602164</td>\n",
              "    </tr>\n",
              "    <tr>\n",
              "      <th>38</th>\n",
              "      <td>2912</td>\n",
              "      <td>NaN</td>\n",
              "      <td>統一超</td>\n",
              "      <td>PRESIDENT CHAIN STORE CORPORATION</td>\n",
              "      <td>0.57</td>\n",
              "      <td>5760478</td>\n",
              "    </tr>\n",
              "    <tr>\n",
              "      <th>39</th>\n",
              "      <td>2395</td>\n",
              "      <td>NaN</td>\n",
              "      <td>研華</td>\n",
              "      <td>ADVANTECH Co. Ltd.</td>\n",
              "      <td>0.56</td>\n",
              "      <td>4238958</td>\n",
              "    </tr>\n",
              "    <tr>\n",
              "      <th>40</th>\n",
              "      <td>2603</td>\n",
              "      <td>NaN</td>\n",
              "      <td>長榮</td>\n",
              "      <td>EVERGREEN MARINE CORP. (TAIWAN) LTD.</td>\n",
              "      <td>0.56</td>\n",
              "      <td>10322835</td>\n",
              "    </tr>\n",
              "    <tr>\n",
              "      <th>41</th>\n",
              "      <td>1402</td>\n",
              "      <td>NaN</td>\n",
              "      <td>遠東新</td>\n",
              "      <td>Far Eastern New Century Corporation</td>\n",
              "      <td>0.48</td>\n",
              "      <td>40263594</td>\n",
              "    </tr>\n",
              "    <tr>\n",
              "      <th>42</th>\n",
              "      <td>2801</td>\n",
              "      <td>NaN</td>\n",
              "      <td>彰銀</td>\n",
              "      <td>CHANG HWA COMMERCIAL BANK LTD.</td>\n",
              "      <td>0.44</td>\n",
              "      <td>68009923</td>\n",
              "    </tr>\n",
              "    <tr>\n",
              "      <th>43</th>\n",
              "      <td>6505</td>\n",
              "      <td>NaN</td>\n",
              "      <td>台塑化</td>\n",
              "      <td>Formosa Petrochemical Corp</td>\n",
              "      <td>0.44</td>\n",
              "      <td>14007344</td>\n",
              "    </tr>\n",
              "    <tr>\n",
              "      <th>44</th>\n",
              "      <td>4904</td>\n",
              "      <td>NaN</td>\n",
              "      <td>遠傳</td>\n",
              "      <td>Far EasTone Telecommunications Co. Ltd.</td>\n",
              "      <td>0.42</td>\n",
              "      <td>16395257</td>\n",
              "    </tr>\n",
              "    <tr>\n",
              "      <th>45</th>\n",
              "      <td>2609</td>\n",
              "      <td>NaN</td>\n",
              "      <td>陽明</td>\n",
              "      <td>Yang Ming Marine Transport Corp.</td>\n",
              "      <td>0.40</td>\n",
              "      <td>17925750</td>\n",
              "    </tr>\n",
              "    <tr>\n",
              "      <th>46</th>\n",
              "      <td>2615</td>\n",
              "      <td>NaN</td>\n",
              "      <td>萬海</td>\n",
              "      <td>WAN HAI LINES LTD.</td>\n",
              "      <td>0.39</td>\n",
              "      <td>14405086</td>\n",
              "    </tr>\n",
              "    <tr>\n",
              "      <th>47</th>\n",
              "      <td>9910</td>\n",
              "      <td>NaN</td>\n",
              "      <td>豐泰</td>\n",
              "      <td>FENG TAY ENTERPRISES CO. LTD.</td>\n",
              "      <td>0.30</td>\n",
              "      <td>4526746</td>\n",
              "    </tr>\n",
              "    <tr>\n",
              "      <th>48</th>\n",
              "      <td>8046</td>\n",
              "      <td>NaN</td>\n",
              "      <td>南電</td>\n",
              "      <td>NAN YA PRINTED CIRCUIT BOARD CORPORATION</td>\n",
              "      <td>0.20</td>\n",
              "      <td>2155982</td>\n",
              "    </tr>\n",
              "    <tr>\n",
              "      <th>49</th>\n",
              "      <td>2408</td>\n",
              "      <td>NaN</td>\n",
              "      <td>南亞科</td>\n",
              "      <td>NANYA TECHNOLOGY CORPORATION</td>\n",
              "      <td>0.19</td>\n",
              "      <td>8397377</td>\n",
              "    </tr>\n",
              "  </tbody>\n",
              "</table>\n",
              "</div>\n",
              "      <button class=\"colab-df-convert\" onclick=\"convertToInteractive('df-b898b434-961f-431a-b913-9ae2fd33c9ab')\"\n",
              "              title=\"Convert this dataframe to an interactive table.\"\n",
              "              style=\"display:none;\">\n",
              "        \n",
              "  <svg xmlns=\"http://www.w3.org/2000/svg\" height=\"24px\"viewBox=\"0 0 24 24\"\n",
              "       width=\"24px\">\n",
              "    <path d=\"M0 0h24v24H0V0z\" fill=\"none\"/>\n",
              "    <path d=\"M18.56 5.44l.94 2.06.94-2.06 2.06-.94-2.06-.94-.94-2.06-.94 2.06-2.06.94zm-11 1L8.5 8.5l.94-2.06 2.06-.94-2.06-.94L8.5 2.5l-.94 2.06-2.06.94zm10 10l.94 2.06.94-2.06 2.06-.94-2.06-.94-.94-2.06-.94 2.06-2.06.94z\"/><path d=\"M17.41 7.96l-1.37-1.37c-.4-.4-.92-.59-1.43-.59-.52 0-1.04.2-1.43.59L10.3 9.45l-7.72 7.72c-.78.78-.78 2.05 0 2.83L4 21.41c.39.39.9.59 1.41.59.51 0 1.02-.2 1.41-.59l7.78-7.78 2.81-2.81c.8-.78.8-2.07 0-2.86zM5.41 20L4 18.59l7.72-7.72 1.47 1.35L5.41 20z\"/>\n",
              "  </svg>\n",
              "      </button>\n",
              "      \n",
              "  <style>\n",
              "    .colab-df-container {\n",
              "      display:flex;\n",
              "      flex-wrap:wrap;\n",
              "      gap: 12px;\n",
              "    }\n",
              "\n",
              "    .colab-df-convert {\n",
              "      background-color: #E8F0FE;\n",
              "      border: none;\n",
              "      border-radius: 50%;\n",
              "      cursor: pointer;\n",
              "      display: none;\n",
              "      fill: #1967D2;\n",
              "      height: 32px;\n",
              "      padding: 0 0 0 0;\n",
              "      width: 32px;\n",
              "    }\n",
              "\n",
              "    .colab-df-convert:hover {\n",
              "      background-color: #E2EBFA;\n",
              "      box-shadow: 0px 1px 2px rgba(60, 64, 67, 0.3), 0px 1px 3px 1px rgba(60, 64, 67, 0.15);\n",
              "      fill: #174EA6;\n",
              "    }\n",
              "\n",
              "    [theme=dark] .colab-df-convert {\n",
              "      background-color: #3B4455;\n",
              "      fill: #D2E3FC;\n",
              "    }\n",
              "\n",
              "    [theme=dark] .colab-df-convert:hover {\n",
              "      background-color: #434B5C;\n",
              "      box-shadow: 0px 1px 3px 1px rgba(0, 0, 0, 0.15);\n",
              "      filter: drop-shadow(0px 1px 2px rgba(0, 0, 0, 0.3));\n",
              "      fill: #FFFFFF;\n",
              "    }\n",
              "  </style>\n",
              "\n",
              "      <script>\n",
              "        const buttonEl =\n",
              "          document.querySelector('#df-b898b434-961f-431a-b913-9ae2fd33c9ab button.colab-df-convert');\n",
              "        buttonEl.style.display =\n",
              "          google.colab.kernel.accessAllowed ? 'block' : 'none';\n",
              "\n",
              "        async function convertToInteractive(key) {\n",
              "          const element = document.querySelector('#df-b898b434-961f-431a-b913-9ae2fd33c9ab');\n",
              "          const dataTable =\n",
              "            await google.colab.kernel.invokeFunction('convertToInteractive',\n",
              "                                                     [key], {});\n",
              "          if (!dataTable) return;\n",
              "\n",
              "          const docLinkHtml = 'Like what you see? Visit the ' +\n",
              "            '<a target=\"_blank\" href=https://colab.research.google.com/notebooks/data_table.ipynb>data table notebook</a>'\n",
              "            + ' to learn more about interactive tables.';\n",
              "          element.innerHTML = '';\n",
              "          dataTable['output_type'] = 'display_data';\n",
              "          await google.colab.output.renderOutput(dataTable, element);\n",
              "          const docLink = document.createElement('div');\n",
              "          docLink.innerHTML = docLinkHtml;\n",
              "          element.appendChild(docLink);\n",
              "        }\n",
              "      </script>\n",
              "    </div>\n",
              "  </div>\n",
              "  "
            ]
          },
          "metadata": {},
          "execution_count": 161
        }
      ]
    },
    {
      "cell_type": "code",
      "source": [],
      "metadata": {
        "id": "OCGvtcA6rf4P"
      },
      "execution_count": null,
      "outputs": []
    }
  ]
}